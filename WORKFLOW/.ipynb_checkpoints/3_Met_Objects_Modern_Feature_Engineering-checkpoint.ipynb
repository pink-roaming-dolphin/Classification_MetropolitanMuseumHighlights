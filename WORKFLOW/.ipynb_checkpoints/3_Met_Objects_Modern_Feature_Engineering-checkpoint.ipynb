{
 "cells": [
  {
   "cell_type": "code",
   "execution_count": 1,
   "id": "67693de6",
   "metadata": {},
   "outputs": [],
   "source": [
    "import numpy as np\n",
    "import pandas as pd \n",
    "import matplotlib.pyplot as plt\n",
    "import seaborn as sns"
   ]
  },
  {
   "cell_type": "code",
   "execution_count": 2,
   "id": "509d2dde",
   "metadata": {},
   "outputs": [],
   "source": [
    "modern = pd.read_csv(\"modern_met_clean.csv\")"
   ]
  },
  {
   "cell_type": "markdown",
   "id": "4943d93a",
   "metadata": {},
   "source": [
    "Most of the feature engineering that we do in this notebook is creating dummies for the categorical values that exist with the features. Object Date has already been cleaned in an earlier notebook so we don't have to work with this and in the end, this feature turns out to be an important one down the line. \n",
    "\n",
    "So let's create some dummies. "
   ]
  },
  {
   "cell_type": "code",
   "execution_count": 3,
   "id": "16ed8f42",
   "metadata": {},
   "outputs": [
    {
     "data": {
      "text/plain": [
       "Index(['Is Highlight', 'Department', 'Object Name', 'Artist Role',\n",
       "       'Artist Nationality', 'Medium', 'Classification', 'Object Year'],\n",
       "      dtype='object')"
      ]
     },
     "execution_count": 3,
     "metadata": {},
     "output_type": "execute_result"
    }
   ],
   "source": [
    "modern.columns"
   ]
  },
  {
   "cell_type": "code",
   "execution_count": 4,
   "id": "f9952fbf",
   "metadata": {},
   "outputs": [
    {
     "data": {
      "text/html": [
       "<div>\n",
       "<style scoped>\n",
       "    .dataframe tbody tr th:only-of-type {\n",
       "        vertical-align: middle;\n",
       "    }\n",
       "\n",
       "    .dataframe tbody tr th {\n",
       "        vertical-align: top;\n",
       "    }\n",
       "\n",
       "    .dataframe thead th {\n",
       "        text-align: right;\n",
       "    }\n",
       "</style>\n",
       "<table border=\"1\" class=\"dataframe\">\n",
       "  <thead>\n",
       "    <tr style=\"text-align: right;\">\n",
       "      <th></th>\n",
       "      <th>Is Highlight</th>\n",
       "      <th>Department</th>\n",
       "      <th>Object Name</th>\n",
       "      <th>Artist Role</th>\n",
       "      <th>Artist Nationality</th>\n",
       "      <th>Medium</th>\n",
       "      <th>Classification</th>\n",
       "      <th>Object Year</th>\n",
       "    </tr>\n",
       "  </thead>\n",
       "  <tbody>\n",
       "    <tr>\n",
       "      <th>0</th>\n",
       "      <td>False</td>\n",
       "      <td>American Paintings and Sculpture</td>\n",
       "      <td>Other Object</td>\n",
       "      <td>Other Artist Role</td>\n",
       "      <td>Other Nationality</td>\n",
       "      <td>Other Medium</td>\n",
       "      <td>Other Class</td>\n",
       "      <td>1665</td>\n",
       "    </tr>\n",
       "    <tr>\n",
       "      <th>1</th>\n",
       "      <td>False</td>\n",
       "      <td>American Paintings and Sculpture</td>\n",
       "      <td>Other Object</td>\n",
       "      <td>Artist</td>\n",
       "      <td>Other Nationality</td>\n",
       "      <td>Other Medium</td>\n",
       "      <td>Other Class</td>\n",
       "      <td>1800</td>\n",
       "    </tr>\n",
       "    <tr>\n",
       "      <th>2</th>\n",
       "      <td>False</td>\n",
       "      <td>American Paintings and Sculpture</td>\n",
       "      <td>Other Object</td>\n",
       "      <td>Artist</td>\n",
       "      <td>Other Nationality</td>\n",
       "      <td>Other Medium</td>\n",
       "      <td>Other Class</td>\n",
       "      <td>1867</td>\n",
       "    </tr>\n",
       "  </tbody>\n",
       "</table>\n",
       "</div>"
      ],
      "text/plain": [
       "   Is Highlight                        Department   Object Name  \\\n",
       "0         False  American Paintings and Sculpture  Other Object   \n",
       "1         False  American Paintings and Sculpture  Other Object   \n",
       "2         False  American Paintings and Sculpture  Other Object   \n",
       "\n",
       "         Artist Role Artist Nationality        Medium Classification  \\\n",
       "0  Other Artist Role  Other Nationality  Other Medium    Other Class   \n",
       "1             Artist  Other Nationality  Other Medium    Other Class   \n",
       "2             Artist  Other Nationality  Other Medium    Other Class   \n",
       "\n",
       "   Object Year  \n",
       "0         1665  \n",
       "1         1800  \n",
       "2         1867  "
      ]
     },
     "execution_count": 4,
     "metadata": {},
     "output_type": "execute_result"
    }
   ],
   "source": [
    "modern.head(3)"
   ]
  },
  {
   "cell_type": "code",
   "execution_count": 5,
   "id": "f5e326dd",
   "metadata": {},
   "outputs": [
    {
     "name": "stdout",
     "output_type": "stream",
     "text": [
      "<class 'pandas.core.frame.DataFrame'>\n",
      "RangeIndex: 215649 entries, 0 to 215648\n",
      "Data columns (total 8 columns):\n",
      " #   Column              Non-Null Count   Dtype \n",
      "---  ------              --------------   ----- \n",
      " 0   Is Highlight        215649 non-null  bool  \n",
      " 1   Department          215649 non-null  object\n",
      " 2   Object Name         215649 non-null  object\n",
      " 3   Artist Role         215649 non-null  object\n",
      " 4   Artist Nationality  215649 non-null  object\n",
      " 5   Medium              215649 non-null  object\n",
      " 6   Classification      215649 non-null  object\n",
      " 7   Object Year         215649 non-null  int64 \n",
      "dtypes: bool(1), int64(1), object(6)\n",
      "memory usage: 11.7+ MB\n"
     ]
    }
   ],
   "source": [
    "modern.info()"
   ]
  },
  {
   "cell_type": "code",
   "execution_count": 6,
   "id": "402a23ea",
   "metadata": {},
   "outputs": [],
   "source": [
    "# Let's rename those columns to easier ones to work with. \n",
    "modern.rename(columns = {'Is Highlight': \"highlighted\", 'Department': \"department\", 'Object Name':\"obj_name\",\\\n",
    "                         'Artist Role': \"artist_role\",'Artist Nationality': \"artist_nationality\", \\\n",
    "                         'Object Year': \"obj_year\", 'Medium': \"medium\", 'Classification': \"class\"}, inplace = True)"
   ]
  },
  {
   "cell_type": "markdown",
   "id": "63071d40",
   "metadata": {},
   "source": [
    "**\"department\"**"
   ]
  },
  {
   "cell_type": "code",
   "execution_count": 7,
   "id": "3b05ebeb",
   "metadata": {},
   "outputs": [
    {
     "data": {
      "text/plain": [
       "Index(['highlighted', 'obj_name', 'artist_role', 'artist_nationality',\n",
       "       'medium', 'class', 'obj_year', 'department_Drawings and Prints',\n",
       "       'department_European Paintings',\n",
       "       'department_Modern and Contemporary Art', 'department_Photographs',\n",
       "       'department_Robert Lehman Collection', 'department_The Libraries'],\n",
       "      dtype='object')"
      ]
     },
     "execution_count": 7,
     "metadata": {},
     "output_type": "execute_result"
    }
   ],
   "source": [
    "modern = pd.get_dummies(columns=['department'], drop_first=True, data=modern)\n",
    "modern.columns"
   ]
  },
  {
   "cell_type": "code",
   "execution_count": 9,
   "id": "53c9dd95",
   "metadata": {},
   "outputs": [],
   "source": [
    "modern.rename(columns = {'department_Drawings and Prints': \"department_drawings_and_prints\", \\\n",
    "       'department_European Paintings': \"department_european_paintings\", \\\n",
    "        'department_Modern and Contemporary Art': 'department_modern_and_cont_art', \\\n",
    "        'department_Photographs': 'department_photographs',\\\n",
    "       'department_Robert Lehman Collection': \"department_robert_lehman\", \\\n",
    "        'department_The Libraries': 'department_libraries'}, inplace = True)"
   ]
  },
  {
   "cell_type": "markdown",
   "id": "6ada1feb",
   "metadata": {},
   "source": [
    "**\"obj_name\"**"
   ]
  },
  {
   "cell_type": "code",
   "execution_count": 10,
   "id": "09359aa2",
   "metadata": {},
   "outputs": [
    {
     "data": {
      "text/plain": [
       "Index(['highlighted', 'artist_role', 'artist_nationality', 'medium', 'class',\n",
       "       'obj_year', 'department_drawings_and_prints',\n",
       "       'department_european_paintings', 'department_modern_and_cont_art',\n",
       "       'department_photographs', 'department_robert_lehman',\n",
       "       'department_libraries', 'obj_name_Other Object', 'obj_name_Painting',\n",
       "       'obj_name_Photograph', 'obj_name_Print', 'obj_name_Sculpture',\n",
       "       'obj_name_Watercolor'],\n",
       "      dtype='object')"
      ]
     },
     "execution_count": 10,
     "metadata": {},
     "output_type": "execute_result"
    }
   ],
   "source": [
    "modern = pd.get_dummies(columns=[\"obj_name\"], drop_first=True, data=modern)\n",
    "modern.columns"
   ]
  },
  {
   "cell_type": "code",
   "execution_count": 11,
   "id": "df61196f",
   "metadata": {},
   "outputs": [],
   "source": [
    "modern.rename(columns = {'obj_name_Other Object': \"other_obj_name\", 'obj_name_Painting': \"obj_name_painting\", \\\n",
    "                         'obj_name_Photograph': \"obj_name_photo\", 'obj_name_Print': 'obj_name_print', \\\n",
    "                         'obj_name_Sculpture': \"obj_name_sculpture\", 'obj_name_Watercolor': \"obj_name_watercolor\"}, \\\n",
    "              inplace = True)"
   ]
  },
  {
   "cell_type": "markdown",
   "id": "da625f52",
   "metadata": {},
   "source": [
    "**\"artist_role\"**"
   ]
  },
  {
   "cell_type": "code",
   "execution_count": 12,
   "id": "0a152814",
   "metadata": {},
   "outputs": [
    {
     "data": {
      "text/plain": [
       "Index(['highlighted', 'artist_nationality', 'medium', 'class', 'obj_year',\n",
       "       'department_drawings_and_prints', 'department_european_paintings',\n",
       "       'department_modern_and_cont_art', 'department_photographs',\n",
       "       'department_robert_lehman', 'department_libraries', 'other_obj_name',\n",
       "       'obj_name_painting', 'obj_name_photo', 'obj_name_print',\n",
       "       'obj_name_sculpture', 'obj_name_watercolor', 'artist_role_Author',\n",
       "       'artist_role_Other Artist Role', 'artist_role_Publisher'],\n",
       "      dtype='object')"
      ]
     },
     "execution_count": 12,
     "metadata": {},
     "output_type": "execute_result"
    }
   ],
   "source": [
    "modern = pd.get_dummies(columns=[\"artist_role\"], drop_first=True, data=modern)\n",
    "modern.columns"
   ]
  },
  {
   "cell_type": "code",
   "execution_count": 13,
   "id": "ca8f08a5",
   "metadata": {},
   "outputs": [],
   "source": [
    "modern.rename(columns = {'artist_role_Author': \"artist_role_author\", \\\n",
    "       'artist_role_Other Artist Role': \"artist_role_other\", \\\n",
    "                         'artist_role_Publisher': \"artist_role_publisher\"}, inplace = True)"
   ]
  },
  {
   "cell_type": "markdown",
   "id": "c0a5d002",
   "metadata": {},
   "source": [
    "**\"artist_nationality\"**"
   ]
  },
  {
   "cell_type": "code",
   "execution_count": 14,
   "id": "8ed081cb",
   "metadata": {},
   "outputs": [
    {
     "data": {
      "text/plain": [
       "Index(['highlighted', 'medium', 'class', 'obj_year',\n",
       "       'department_drawings_and_prints', 'department_european_paintings',\n",
       "       'department_modern_and_cont_art', 'department_photographs',\n",
       "       'department_robert_lehman', 'department_libraries', 'other_obj_name',\n",
       "       'obj_name_painting', 'obj_name_photo', 'obj_name_print',\n",
       "       'obj_name_sculpture', 'obj_name_watercolor', 'artist_role_author',\n",
       "       'artist_role_other', 'artist_role_publisher',\n",
       "       'artist_nationality_British/German/Dutch/Netherlandish/Spanish',\n",
       "       'artist_nationality_French', 'artist_nationality_Italian',\n",
       "       'artist_nationality_Other Nationality'],\n",
       "      dtype='object')"
      ]
     },
     "execution_count": 14,
     "metadata": {},
     "output_type": "execute_result"
    }
   ],
   "source": [
    "modern = pd.get_dummies(columns=[\"artist_nationality\"], drop_first=True, data=modern)\n",
    "modern.columns"
   ]
  },
  {
   "cell_type": "code",
   "execution_count": 15,
   "id": "a8287e60",
   "metadata": {},
   "outputs": [],
   "source": [
    "modern.rename(columns = {'artist_nationality_British/German/Dutch/Netherlandish/Spanish': \"artist_nationality_bgdns\",\n",
    "       'artist_nationality_French': \"artist_nationality_french\", \\\n",
    "        'artist_nationality_Italian': 'artist_nationality_italian',\n",
    "       'artist_nationality_Other Artist Nationality': \"artist_nationality_other\"}, inplace = True)"
   ]
  },
  {
   "cell_type": "markdown",
   "id": "a6ed3fa4",
   "metadata": {},
   "source": [
    "**\"obj_date\"**"
   ]
  },
  {
   "cell_type": "markdown",
   "id": "a220041c",
   "metadata": {},
   "source": [
    "Not much to do here, did the cleaning in the Cleaning Notebook. "
   ]
  },
  {
   "cell_type": "code",
   "execution_count": 16,
   "id": "fd6e9355",
   "metadata": {
    "scrolled": true
   },
   "outputs": [
    {
     "data": {
      "text/plain": [
       "0       24647\n",
       "1888     7654\n",
       "1900     4558\n",
       "1890     4391\n",
       "1889     3850\n",
       "        ...  \n",
       "1404        1\n",
       "1403        1\n",
       "1461        1\n",
       "1395        1\n",
       "1432        1\n",
       "Name: obj_year, Length: 644, dtype: int64"
      ]
     },
     "execution_count": 16,
     "metadata": {},
     "output_type": "execute_result"
    }
   ],
   "source": [
    "modern.obj_year.value_counts()"
   ]
  },
  {
   "cell_type": "markdown",
   "id": "72d703ea",
   "metadata": {},
   "source": [
    "**\"medium\"**"
   ]
  },
  {
   "cell_type": "code",
   "execution_count": 17,
   "id": "07018203",
   "metadata": {},
   "outputs": [
    {
     "data": {
      "text/plain": [
       "Index(['highlighted', 'class', 'obj_year', 'department_drawings_and_prints',\n",
       "       'department_european_paintings', 'department_modern_and_cont_art',\n",
       "       'department_photographs', 'department_robert_lehman',\n",
       "       'department_libraries', 'other_obj_name', 'obj_name_painting',\n",
       "       'obj_name_photo', 'obj_name_print', 'obj_name_sculpture',\n",
       "       'obj_name_watercolor', 'artist_role_author', 'artist_role_other',\n",
       "       'artist_role_publisher', 'artist_nationality_bgdns',\n",
       "       'artist_nationality_french', 'artist_nationality_italian',\n",
       "       'artist_nationality_Other Nationality', 'medium_Gelatin silver print',\n",
       "       'medium_Illustrated book', 'medium_Marble', 'medium_Oil on canvas',\n",
       "       'medium_Oil on wood', 'medium_Other Medium'],\n",
       "      dtype='object')"
      ]
     },
     "execution_count": 17,
     "metadata": {},
     "output_type": "execute_result"
    }
   ],
   "source": [
    "modern = pd.get_dummies(columns=[\"medium\"], drop_first=True, data=modern)\n",
    "modern.columns"
   ]
  },
  {
   "cell_type": "code",
   "execution_count": 18,
   "id": "e08ee9c3",
   "metadata": {},
   "outputs": [],
   "source": [
    "modern.rename(columns = {'medium_Gelatin silver print': \"medium_gelatin_silver_print\",\n",
    "       'medium_Illustrated book': 'medium_illustrated_book', 'medium_Marble': \"medium_marble\", \n",
    "    'medium_Oil on canvas': \"medium_oil_on_canvas\", 'medium_Oil on wood': \"medium_oil_on_wood\", \\\n",
    "                         'medium_Other Medium': \"medium_other\"}, inplace = True)"
   ]
  },
  {
   "cell_type": "markdown",
   "id": "50eb3762",
   "metadata": {},
   "source": [
    "**\"class\"**"
   ]
  },
  {
   "cell_type": "code",
   "execution_count": 19,
   "id": "7d291359",
   "metadata": {},
   "outputs": [
    {
     "data": {
      "text/plain": [
       "Index(['highlighted', 'obj_year', 'department_drawings_and_prints',\n",
       "       'department_european_paintings', 'department_modern_and_cont_art',\n",
       "       'department_photographs', 'department_robert_lehman',\n",
       "       'department_libraries', 'other_obj_name', 'obj_name_painting',\n",
       "       'obj_name_photo', 'obj_name_print', 'obj_name_sculpture',\n",
       "       'obj_name_watercolor', 'artist_role_author', 'artist_role_other',\n",
       "       'artist_role_publisher', 'artist_nationality_bgdns',\n",
       "       'artist_nationality_french', 'artist_nationality_italian',\n",
       "       'artist_nationality_Other Nationality', 'medium_gelatin_silver_print',\n",
       "       'medium_illustrated_book', 'medium_marble', 'medium_oil_on_canvas',\n",
       "       'medium_oil_on_wood', 'medium_other', 'class_Other Class',\n",
       "       'class_Paintings', 'class_Photographs', 'class_Prints',\n",
       "       'class_Sculpture'],\n",
       "      dtype='object')"
      ]
     },
     "execution_count": 19,
     "metadata": {},
     "output_type": "execute_result"
    }
   ],
   "source": [
    "modern = pd.get_dummies(columns=[\"class\"], drop_first=True, data=modern)\n",
    "modern.columns"
   ]
  },
  {
   "cell_type": "code",
   "execution_count": 20,
   "id": "9fdba578",
   "metadata": {},
   "outputs": [],
   "source": [
    "modern.rename(columns = {'class_Other Class': \"class_other\", \\\n",
    "       'class_Paintings': \"class_paintings\", 'class_Photographs': 'class_photographs', \\\n",
    "        'class_Prints': \"class_prints\", 'class_Sculpture': \"class_sculpture\"}, inplace = True)"
   ]
  },
  {
   "cell_type": "code",
   "execution_count": null,
   "id": "fa8f7862",
   "metadata": {},
   "outputs": [],
   "source": []
  },
  {
   "cell_type": "code",
   "execution_count": 21,
   "id": "d50c2c5a",
   "metadata": {},
   "outputs": [],
   "source": [
    "modern.to_csv(\"modern_met_fe.csv\", index= False)"
   ]
  }
 ],
 "metadata": {
  "kernelspec": {
   "display_name": "Python 3 (ipykernel)",
   "language": "python",
   "name": "python3"
  },
  "language_info": {
   "codemirror_mode": {
    "name": "ipython",
    "version": 3
   },
   "file_extension": ".py",
   "mimetype": "text/x-python",
   "name": "python",
   "nbconvert_exporter": "python",
   "pygments_lexer": "ipython3",
   "version": "3.8.5"
  }
 },
 "nbformat": 4,
 "nbformat_minor": 5
}
