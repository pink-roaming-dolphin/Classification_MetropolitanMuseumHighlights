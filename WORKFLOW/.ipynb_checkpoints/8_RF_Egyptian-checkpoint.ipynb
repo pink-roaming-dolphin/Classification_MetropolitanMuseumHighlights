{
 "cells": [
  {
   "cell_type": "code",
   "execution_count": 63,
   "id": "93ac2ac5",
   "metadata": {},
   "outputs": [],
   "source": [
    "import numpy as np\n",
    "import pandas as pd \n",
    "import matplotlib.pyplot as plt\n",
    "import seaborn as sns"
   ]
  },
  {
   "cell_type": "code",
   "execution_count": 65,
   "id": "d7b582f0",
   "metadata": {},
   "outputs": [],
   "source": [
    "from sklearn.ensemble import RandomForestClassifier\n",
    "\n",
    "from sklearn.model_selection import train_test_split, cross_val_score, GridSearchCV, cross_validate\n",
    "from sklearn.metrics import precision_score, recall_score, accuracy_score, precision_recall_curve, roc_curve\n",
    "from sklearn.metrics import confusion_matrix\n",
    "from sklearn.metrics import f1_score, roc_auc_score\n",
    "\n",
    "from sklearn.preprocessing import LabelEncoder"
   ]
  },
  {
   "cell_type": "markdown",
   "id": "7421dc4c",
   "metadata": {},
   "source": [
    "In this notebook, we fit a RandomForest model on the 2nd category of the Met objects: The Eygptian section. This section is comprised of only 1 department, in contrast to the other 3 sections we chose, because it is rather unique to itself. The data entries in this department were done in a rather different manner than the rest of the departments (since usually the objects have to be 'excavated' which doesn't apply to, say art works from modern times). \n",
    "\n",
    "There are approximately 27.5K objects in this category. \n",
    "\n",
    "What we do is choose the features that we had designated as important for this department at the beginning of this project from our EDA. Then for each of these features, we turn the 'object' type (which almost all of these features are) to 'category' type and then get 'codes' for each 'category.' This way we will have done Label Coding which will enable us to put all our data into an RF model without further data cleaning. \n",
    "\n",
    "Luckily RF deals very well with null values and no scaling is needed. \n",
    "\n",
    "We do get a precision score of 1 immediately, and the threshold for dealing with our class imbalance is 0.27. "
   ]
  },
  {
   "cell_type": "markdown",
   "id": "a51e8be7",
   "metadata": {},
   "source": [
    "### Get the data"
   ]
  },
  {
   "cell_type": "markdown",
   "id": "cea3719f",
   "metadata": {},
   "source": [
    "Let's read in the data (the whole set of the Met Dataset) and then select only the Egyptian Department as we had set that up as the 1st group."
   ]
  },
  {
   "cell_type": "code",
   "execution_count": 120,
   "id": "5d14f174",
   "metadata": {},
   "outputs": [
    {
     "name": "stderr",
     "output_type": "stream",
     "text": [
      "/opt/anaconda3/lib/python3.8/site-packages/IPython/core/interactiveshell.py:3457: DtypeWarning: Columns (7,8,9,10,11,18,27,28,29,30,31,32,33,34,35,36,37,39) have mixed types.Specify dtype option on import or set low_memory=False.\n",
      "  exec(code_obj, self.user_global_ns, self.user_ns)\n"
     ]
    },
    {
     "data": {
      "text/html": [
       "<div>\n",
       "<style scoped>\n",
       "    .dataframe tbody tr th:only-of-type {\n",
       "        vertical-align: middle;\n",
       "    }\n",
       "\n",
       "    .dataframe tbody tr th {\n",
       "        vertical-align: top;\n",
       "    }\n",
       "\n",
       "    .dataframe thead th {\n",
       "        text-align: right;\n",
       "    }\n",
       "</style>\n",
       "<table border=\"1\" class=\"dataframe\">\n",
       "  <thead>\n",
       "    <tr style=\"text-align: right;\">\n",
       "      <th></th>\n",
       "      <th>Object Number</th>\n",
       "      <th>Is Highlight</th>\n",
       "      <th>Is Public Domain</th>\n",
       "      <th>Object ID</th>\n",
       "      <th>Department</th>\n",
       "      <th>Object Name</th>\n",
       "      <th>Title</th>\n",
       "      <th>Culture</th>\n",
       "      <th>Period</th>\n",
       "      <th>Dynasty</th>\n",
       "      <th>...</th>\n",
       "      <th>Subregion</th>\n",
       "      <th>Locale</th>\n",
       "      <th>Locus</th>\n",
       "      <th>Excavation</th>\n",
       "      <th>River</th>\n",
       "      <th>Classification</th>\n",
       "      <th>Rights and Reproduction</th>\n",
       "      <th>Link Resource</th>\n",
       "      <th>Metadata Date</th>\n",
       "      <th>Repository</th>\n",
       "    </tr>\n",
       "  </thead>\n",
       "  <tbody>\n",
       "    <tr>\n",
       "      <th>0</th>\n",
       "      <td>1979.486.1</td>\n",
       "      <td>False</td>\n",
       "      <td>False</td>\n",
       "      <td>1</td>\n",
       "      <td>American Decorative Arts</td>\n",
       "      <td>Coin</td>\n",
       "      <td>One-dollar Liberty Head Coin</td>\n",
       "      <td>NaN</td>\n",
       "      <td>NaN</td>\n",
       "      <td>NaN</td>\n",
       "      <td>...</td>\n",
       "      <td>NaN</td>\n",
       "      <td>NaN</td>\n",
       "      <td>NaN</td>\n",
       "      <td>NaN</td>\n",
       "      <td>NaN</td>\n",
       "      <td>Metal</td>\n",
       "      <td>NaN</td>\n",
       "      <td>http://www.metmuseum.org/art/collection/search/1</td>\n",
       "      <td>4/3/2017 8:00:08 AM</td>\n",
       "      <td>Metropolitan Museum of Art, New York, NY</td>\n",
       "    </tr>\n",
       "    <tr>\n",
       "      <th>1</th>\n",
       "      <td>1980.264.5</td>\n",
       "      <td>False</td>\n",
       "      <td>False</td>\n",
       "      <td>2</td>\n",
       "      <td>American Decorative Arts</td>\n",
       "      <td>Coin</td>\n",
       "      <td>Ten-dollar Liberty Head Coin</td>\n",
       "      <td>NaN</td>\n",
       "      <td>NaN</td>\n",
       "      <td>NaN</td>\n",
       "      <td>...</td>\n",
       "      <td>NaN</td>\n",
       "      <td>NaN</td>\n",
       "      <td>NaN</td>\n",
       "      <td>NaN</td>\n",
       "      <td>NaN</td>\n",
       "      <td>Metal</td>\n",
       "      <td>NaN</td>\n",
       "      <td>http://www.metmuseum.org/art/collection/search/2</td>\n",
       "      <td>4/3/2017 8:00:08 AM</td>\n",
       "      <td>Metropolitan Museum of Art, New York, NY</td>\n",
       "    </tr>\n",
       "    <tr>\n",
       "      <th>2</th>\n",
       "      <td>67.265.9</td>\n",
       "      <td>False</td>\n",
       "      <td>False</td>\n",
       "      <td>3</td>\n",
       "      <td>American Decorative Arts</td>\n",
       "      <td>Coin</td>\n",
       "      <td>Two-and-a-Half Dollar Coin</td>\n",
       "      <td>NaN</td>\n",
       "      <td>NaN</td>\n",
       "      <td>NaN</td>\n",
       "      <td>...</td>\n",
       "      <td>NaN</td>\n",
       "      <td>NaN</td>\n",
       "      <td>NaN</td>\n",
       "      <td>NaN</td>\n",
       "      <td>NaN</td>\n",
       "      <td>Metal</td>\n",
       "      <td>NaN</td>\n",
       "      <td>http://www.metmuseum.org/art/collection/search/3</td>\n",
       "      <td>4/3/2017 8:00:08 AM</td>\n",
       "      <td>Metropolitan Museum of Art, New York, NY</td>\n",
       "    </tr>\n",
       "  </tbody>\n",
       "</table>\n",
       "<p>3 rows × 43 columns</p>\n",
       "</div>"
      ],
      "text/plain": [
       "  Object Number  Is Highlight  Is Public Domain  Object ID  \\\n",
       "0    1979.486.1         False             False          1   \n",
       "1    1980.264.5         False             False          2   \n",
       "2      67.265.9         False             False          3   \n",
       "\n",
       "                 Department Object Name                         Title Culture  \\\n",
       "0  American Decorative Arts        Coin  One-dollar Liberty Head Coin     NaN   \n",
       "1  American Decorative Arts        Coin  Ten-dollar Liberty Head Coin     NaN   \n",
       "2  American Decorative Arts        Coin    Two-and-a-Half Dollar Coin     NaN   \n",
       "\n",
       "  Period Dynasty  ... Subregion Locale Locus Excavation River Classification  \\\n",
       "0    NaN     NaN  ...       NaN    NaN   NaN        NaN   NaN          Metal   \n",
       "1    NaN     NaN  ...       NaN    NaN   NaN        NaN   NaN          Metal   \n",
       "2    NaN     NaN  ...       NaN    NaN   NaN        NaN   NaN          Metal   \n",
       "\n",
       "  Rights and Reproduction                                     Link Resource  \\\n",
       "0                     NaN  http://www.metmuseum.org/art/collection/search/1   \n",
       "1                     NaN  http://www.metmuseum.org/art/collection/search/2   \n",
       "2                     NaN  http://www.metmuseum.org/art/collection/search/3   \n",
       "\n",
       "         Metadata Date                                Repository  \n",
       "0  4/3/2017 8:00:08 AM  Metropolitan Museum of Art, New York, NY  \n",
       "1  4/3/2017 8:00:08 AM  Metropolitan Museum of Art, New York, NY  \n",
       "2  4/3/2017 8:00:08 AM  Metropolitan Museum of Art, New York, NY  \n",
       "\n",
       "[3 rows x 43 columns]"
      ]
     },
     "execution_count": 120,
     "metadata": {},
     "output_type": "execute_result"
    }
   ],
   "source": [
    "met = pd.read_csv(\"MetObjects.csv\")\n",
    "met.head(3)"
   ]
  },
  {
   "cell_type": "code",
   "execution_count": 121,
   "id": "61edafbf",
   "metadata": {},
   "outputs": [
    {
     "data": {
      "text/plain": [
       "array(['American Decorative Arts', 'American Paintings and Sculpture',\n",
       "       'European Sculpture and Decorative Arts',\n",
       "       'Modern and Contemporary Art', 'Arms and Armor', 'Medieval Art',\n",
       "       'Asian Art', 'Costume Institute', 'Islamic Art',\n",
       "       'Arts of Africa, Oceania, and the Americas', 'Drawings and Prints',\n",
       "       'Greek and Roman Art', 'Photographs', 'Ancient Near Eastern Art',\n",
       "       'European Paintings', 'Robert Lehman Collection', 'The Cloisters',\n",
       "       'Musical Instruments', 'Egyptian Art', 'The Libraries'],\n",
       "      dtype=object)"
      ]
     },
     "execution_count": 121,
     "metadata": {},
     "output_type": "execute_result"
    }
   ],
   "source": [
    "met.Department.unique()"
   ]
  },
  {
   "cell_type": "code",
   "execution_count": 122,
   "id": "b3722f0b",
   "metadata": {
    "scrolled": true
   },
   "outputs": [
    {
     "data": {
      "text/html": [
       "<div>\n",
       "<style scoped>\n",
       "    .dataframe tbody tr th:only-of-type {\n",
       "        vertical-align: middle;\n",
       "    }\n",
       "\n",
       "    .dataframe tbody tr th {\n",
       "        vertical-align: top;\n",
       "    }\n",
       "\n",
       "    .dataframe thead th {\n",
       "        text-align: right;\n",
       "    }\n",
       "</style>\n",
       "<table border=\"1\" class=\"dataframe\">\n",
       "  <thead>\n",
       "    <tr style=\"text-align: right;\">\n",
       "      <th></th>\n",
       "      <th>Object Number</th>\n",
       "      <th>Is Highlight</th>\n",
       "      <th>Is Public Domain</th>\n",
       "      <th>Object ID</th>\n",
       "      <th>Department</th>\n",
       "      <th>Object Name</th>\n",
       "      <th>Title</th>\n",
       "      <th>Culture</th>\n",
       "      <th>Period</th>\n",
       "      <th>Dynasty</th>\n",
       "      <th>...</th>\n",
       "      <th>Subregion</th>\n",
       "      <th>Locale</th>\n",
       "      <th>Locus</th>\n",
       "      <th>Excavation</th>\n",
       "      <th>River</th>\n",
       "      <th>Classification</th>\n",
       "      <th>Rights and Reproduction</th>\n",
       "      <th>Link Resource</th>\n",
       "      <th>Metadata Date</th>\n",
       "      <th>Repository</th>\n",
       "    </tr>\n",
       "  </thead>\n",
       "  <tbody>\n",
       "    <tr>\n",
       "      <th>352938</th>\n",
       "      <td>12.183.8</td>\n",
       "      <td>False</td>\n",
       "      <td>True</td>\n",
       "      <td>543863</td>\n",
       "      <td>Egyptian Art</td>\n",
       "      <td>False door, Neferiu, Wedjebet</td>\n",
       "      <td>False Door of the Royal Sealer Neferiu</td>\n",
       "      <td>NaN</td>\n",
       "      <td>Old Kingdom–First Intermediate Period</td>\n",
       "      <td>Dynasty 8–11</td>\n",
       "      <td>...</td>\n",
       "      <td>Dendera area</td>\n",
       "      <td>NaN</td>\n",
       "      <td>NaN</td>\n",
       "      <td>NaN</td>\n",
       "      <td>NaN</td>\n",
       "      <td>NaN</td>\n",
       "      <td>NaN</td>\n",
       "      <td>http://www.metmuseum.org/art/collection/search...</td>\n",
       "      <td>4/3/2017 8:00:08 AM</td>\n",
       "      <td>Metropolitan Museum of Art, New York, NY</td>\n",
       "    </tr>\n",
       "    <tr>\n",
       "      <th>352939</th>\n",
       "      <td>14.3.17</td>\n",
       "      <td>True</td>\n",
       "      <td>True</td>\n",
       "      <td>543864</td>\n",
       "      <td>Egyptian Art</td>\n",
       "      <td>Statue, guardian figure</td>\n",
       "      <td>Guardian Figure</td>\n",
       "      <td>NaN</td>\n",
       "      <td>Middle Kingdom</td>\n",
       "      <td>Dynasty 12</td>\n",
       "      <td>...</td>\n",
       "      <td>Lisht South</td>\n",
       "      <td>Mastaba of Imhotep</td>\n",
       "      <td>chamber inside the south enclosure wall</td>\n",
       "      <td>MMA excavations, 1913–14</td>\n",
       "      <td>NaN</td>\n",
       "      <td>NaN</td>\n",
       "      <td>NaN</td>\n",
       "      <td>http://www.metmuseum.org/art/collection/search...</td>\n",
       "      <td>4/3/2017 8:00:08 AM</td>\n",
       "      <td>Metropolitan Museum of Art, New York, NY</td>\n",
       "    </tr>\n",
       "    <tr>\n",
       "      <th>352940</th>\n",
       "      <td>14.10.2a, b</td>\n",
       "      <td>False</td>\n",
       "      <td>True</td>\n",
       "      <td>543865</td>\n",
       "      <td>Egyptian Art</td>\n",
       "      <td>Coffin, Ahmose, anthropoid</td>\n",
       "      <td>Coffin of Ahmose</td>\n",
       "      <td>NaN</td>\n",
       "      <td>New Kingdom</td>\n",
       "      <td>early Dynasty 18</td>\n",
       "      <td>...</td>\n",
       "      <td>Asasif</td>\n",
       "      <td>probably Tomb CC 64, burial 9</td>\n",
       "      <td>NaN</td>\n",
       "      <td>Carnarvon Excavations 1907–1914</td>\n",
       "      <td>NaN</td>\n",
       "      <td>NaN</td>\n",
       "      <td>NaN</td>\n",
       "      <td>http://www.metmuseum.org/art/collection/search...</td>\n",
       "      <td>4/3/2017 8:00:08 AM</td>\n",
       "      <td>Metropolitan Museum of Art, New York, NY</td>\n",
       "    </tr>\n",
       "  </tbody>\n",
       "</table>\n",
       "<p>3 rows × 43 columns</p>\n",
       "</div>"
      ],
      "text/plain": [
       "       Object Number  Is Highlight  Is Public Domain  Object ID    Department  \\\n",
       "352938      12.183.8         False              True     543863  Egyptian Art   \n",
       "352939       14.3.17          True              True     543864  Egyptian Art   \n",
       "352940   14.10.2a, b         False              True     543865  Egyptian Art   \n",
       "\n",
       "                          Object Name                                   Title  \\\n",
       "352938  False door, Neferiu, Wedjebet  False Door of the Royal Sealer Neferiu   \n",
       "352939        Statue, guardian figure                         Guardian Figure   \n",
       "352940     Coffin, Ahmose, anthropoid                        Coffin of Ahmose   \n",
       "\n",
       "       Culture                                 Period           Dynasty  ...  \\\n",
       "352938     NaN  Old Kingdom–First Intermediate Period      Dynasty 8–11  ...   \n",
       "352939     NaN                         Middle Kingdom        Dynasty 12  ...   \n",
       "352940     NaN                            New Kingdom  early Dynasty 18  ...   \n",
       "\n",
       "           Subregion                         Locale  \\\n",
       "352938  Dendera area                            NaN   \n",
       "352939   Lisht South             Mastaba of Imhotep   \n",
       "352940        Asasif  probably Tomb CC 64, burial 9   \n",
       "\n",
       "                                          Locus  \\\n",
       "352938                                      NaN   \n",
       "352939  chamber inside the south enclosure wall   \n",
       "352940                                      NaN   \n",
       "\n",
       "                             Excavation River Classification  \\\n",
       "352938                              NaN   NaN            NaN   \n",
       "352939         MMA excavations, 1913–14   NaN            NaN   \n",
       "352940  Carnarvon Excavations 1907–1914   NaN            NaN   \n",
       "\n",
       "       Rights and Reproduction  \\\n",
       "352938                     NaN   \n",
       "352939                     NaN   \n",
       "352940                     NaN   \n",
       "\n",
       "                                            Link Resource  \\\n",
       "352938  http://www.metmuseum.org/art/collection/search...   \n",
       "352939  http://www.metmuseum.org/art/collection/search...   \n",
       "352940  http://www.metmuseum.org/art/collection/search...   \n",
       "\n",
       "              Metadata Date                                Repository  \n",
       "352938  4/3/2017 8:00:08 AM  Metropolitan Museum of Art, New York, NY  \n",
       "352939  4/3/2017 8:00:08 AM  Metropolitan Museum of Art, New York, NY  \n",
       "352940  4/3/2017 8:00:08 AM  Metropolitan Museum of Art, New York, NY  \n",
       "\n",
       "[3 rows x 43 columns]"
      ]
     },
     "execution_count": 122,
     "metadata": {},
     "output_type": "execute_result"
    }
   ],
   "source": [
    "egy = met[met.Department == 'Egyptian Art']\n",
    "egy.head(3)"
   ]
  },
  {
   "cell_type": "code",
   "execution_count": 123,
   "id": "94764cb1",
   "metadata": {},
   "outputs": [
    {
     "name": "stdout",
     "output_type": "stream",
     "text": [
      "<class 'pandas.core.frame.DataFrame'>\n",
      "Int64Index: 27542 entries, 352938 to 447798\n",
      "Data columns (total 43 columns):\n",
      " #   Column                   Non-Null Count  Dtype \n",
      "---  ------                   --------------  ----- \n",
      " 0   Object Number            27542 non-null  object\n",
      " 1   Is Highlight             27542 non-null  bool  \n",
      " 2   Is Public Domain         27542 non-null  bool  \n",
      " 3   Object ID                27542 non-null  int64 \n",
      " 4   Department               27542 non-null  object\n",
      " 5   Object Name              27541 non-null  object\n",
      " 6   Title                    27540 non-null  object\n",
      " 7   Culture                  0 non-null      object\n",
      " 8   Period                   27539 non-null  object\n",
      " 9   Dynasty                  23018 non-null  object\n",
      " 10  Reign                    10817 non-null  object\n",
      " 11  Portfolio                0 non-null      object\n",
      " 12  Artist Role              551 non-null    object\n",
      " 13  Artist Prefix            6 non-null      object\n",
      " 14  Artist Display Name      551 non-null    object\n",
      " 15  Artist Display Bio       225 non-null    object\n",
      " 16  Artist Suffix            52 non-null     object\n",
      " 17  Artist Alpha Sort        551 non-null    object\n",
      " 18  Artist Nationality       7 non-null      object\n",
      " 19  Artist Begin Date        316 non-null    object\n",
      " 20  Artist End Date          316 non-null    object\n",
      " 21  Object Date              27533 non-null  object\n",
      " 22  Object Begin Date        27542 non-null  int64 \n",
      " 23  Object End Date          27542 non-null  int64 \n",
      " 24  Medium                   27542 non-null  object\n",
      " 25  Dimensions               19330 non-null  object\n",
      " 26  Credit Line              27523 non-null  object\n",
      " 27  Geography Type           27504 non-null  object\n",
      " 28  City                     0 non-null      object\n",
      " 29  State                    0 non-null      object\n",
      " 30  County                   1152 non-null   object\n",
      " 31  Country                  27495 non-null  object\n",
      " 32  Region                   19569 non-null  object\n",
      " 33  Subregion                18409 non-null  object\n",
      " 34  Locale                   15095 non-null  object\n",
      " 35  Locus                    6939 non-null   object\n",
      " 36  Excavation               15519 non-null  object\n",
      " 37  River                    0 non-null      object\n",
      " 38  Classification           3047 non-null   object\n",
      " 39  Rights and Reproduction  0 non-null      object\n",
      " 40  Link Resource            27542 non-null  object\n",
      " 41  Metadata Date            27542 non-null  object\n",
      " 42  Repository               27542 non-null  object\n",
      "dtypes: bool(2), int64(3), object(38)\n",
      "memory usage: 8.9+ MB\n"
     ]
    }
   ],
   "source": [
    "egy.info()"
   ]
  },
  {
   "cell_type": "markdown",
   "id": "aaaad893",
   "metadata": {},
   "source": [
    "### Get the features you will use + get categorize to use in RF"
   ]
  },
  {
   "cell_type": "code",
   "execution_count": 174,
   "id": "ccd74a0e",
   "metadata": {},
   "outputs": [
    {
     "data": {
      "text/html": [
       "<div>\n",
       "<style scoped>\n",
       "    .dataframe tbody tr th:only-of-type {\n",
       "        vertical-align: middle;\n",
       "    }\n",
       "\n",
       "    .dataframe tbody tr th {\n",
       "        vertical-align: top;\n",
       "    }\n",
       "\n",
       "    .dataframe thead th {\n",
       "        text-align: right;\n",
       "    }\n",
       "</style>\n",
       "<table border=\"1\" class=\"dataframe\">\n",
       "  <thead>\n",
       "    <tr style=\"text-align: right;\">\n",
       "      <th></th>\n",
       "      <th>Is Highlight</th>\n",
       "      <th>Object Name</th>\n",
       "      <th>Country</th>\n",
       "      <th>Object Date</th>\n",
       "      <th>Medium</th>\n",
       "      <th>Geography Type</th>\n",
       "      <th>Region</th>\n",
       "      <th>Dynasty</th>\n",
       "      <th>Reign</th>\n",
       "      <th>Subregion</th>\n",
       "      <th>Locale</th>\n",
       "      <th>Locus</th>\n",
       "      <th>Excavation</th>\n",
       "    </tr>\n",
       "  </thead>\n",
       "  <tbody>\n",
       "    <tr>\n",
       "      <th>352938</th>\n",
       "      <td>False</td>\n",
       "      <td>False door, Neferiu, Wedjebet</td>\n",
       "      <td>Egypt</td>\n",
       "      <td>ca. 2150–2010 B.C.</td>\n",
       "      <td>Limestone, paint</td>\n",
       "      <td>From|Probably from</td>\n",
       "      <td>Northern Upper Egypt</td>\n",
       "      <td>Dynasty 8–11</td>\n",
       "      <td>NaN</td>\n",
       "      <td>Dendera area</td>\n",
       "      <td>NaN</td>\n",
       "      <td>NaN</td>\n",
       "      <td>NaN</td>\n",
       "    </tr>\n",
       "    <tr>\n",
       "      <th>352939</th>\n",
       "      <td>True</td>\n",
       "      <td>Statue, guardian figure</td>\n",
       "      <td>Egypt</td>\n",
       "      <td>ca. 1919–1885 B.C.</td>\n",
       "      <td>Cedar wood, plaster, paint\\r\\n</td>\n",
       "      <td>From</td>\n",
       "      <td>Memphite Region</td>\n",
       "      <td>Dynasty 12</td>\n",
       "      <td>reign of Amenemhat II</td>\n",
       "      <td>Lisht South</td>\n",
       "      <td>Mastaba of Imhotep</td>\n",
       "      <td>chamber inside the south enclosure wall</td>\n",
       "      <td>MMA excavations, 1913–14</td>\n",
       "    </tr>\n",
       "    <tr>\n",
       "      <th>352940</th>\n",
       "      <td>False</td>\n",
       "      <td>Coffin, Ahmose, anthropoid</td>\n",
       "      <td>Egypt</td>\n",
       "      <td>ca. 1550–1458 B.C.</td>\n",
       "      <td>Sycomore wood, stucco, paint\\r\\n</td>\n",
       "      <td>From</td>\n",
       "      <td>Upper Egypt, Thebes</td>\n",
       "      <td>early Dynasty 18</td>\n",
       "      <td>reign of Ahmose I to Hatshepsut</td>\n",
       "      <td>Asasif</td>\n",
       "      <td>probably Tomb CC 64, burial 9</td>\n",
       "      <td>NaN</td>\n",
       "      <td>Carnarvon Excavations 1907–1914</td>\n",
       "    </tr>\n",
       "  </tbody>\n",
       "</table>\n",
       "</div>"
      ],
      "text/plain": [
       "        Is Highlight                    Object Name Country  \\\n",
       "352938         False  False door, Neferiu, Wedjebet   Egypt   \n",
       "352939          True        Statue, guardian figure   Egypt   \n",
       "352940         False     Coffin, Ahmose, anthropoid   Egypt   \n",
       "\n",
       "               Object Date                            Medium  \\\n",
       "352938  ca. 2150–2010 B.C.                  Limestone, paint   \n",
       "352939  ca. 1919–1885 B.C.    Cedar wood, plaster, paint\\r\\n   \n",
       "352940  ca. 1550–1458 B.C.  Sycomore wood, stucco, paint\\r\\n   \n",
       "\n",
       "            Geography Type                Region           Dynasty  \\\n",
       "352938  From|Probably from  Northern Upper Egypt      Dynasty 8–11   \n",
       "352939                From       Memphite Region        Dynasty 12   \n",
       "352940                From   Upper Egypt, Thebes  early Dynasty 18   \n",
       "\n",
       "                                  Reign     Subregion  \\\n",
       "352938                              NaN  Dendera area   \n",
       "352939            reign of Amenemhat II   Lisht South   \n",
       "352940  reign of Ahmose I to Hatshepsut        Asasif   \n",
       "\n",
       "                               Locale  \\\n",
       "352938                            NaN   \n",
       "352939             Mastaba of Imhotep   \n",
       "352940  probably Tomb CC 64, burial 9   \n",
       "\n",
       "                                          Locus  \\\n",
       "352938                                      NaN   \n",
       "352939  chamber inside the south enclosure wall   \n",
       "352940                                      NaN   \n",
       "\n",
       "                             Excavation  \n",
       "352938                              NaN  \n",
       "352939         MMA excavations, 1913–14  \n",
       "352940  Carnarvon Excavations 1907–1914  "
      ]
     },
     "execution_count": 174,
     "metadata": {},
     "output_type": "execute_result"
    }
   ],
   "source": [
    "egypt = egy[['Is Highlight', 'Object Name','Country', 'Object Date', 'Medium', 'Geography Type', \\\n",
    "             'Region', 'Dynasty', 'Reign', 'Subregion', 'Locale', 'Locus', 'Excavation']]\n",
    "egypt.head(3)"
   ]
  },
  {
   "cell_type": "markdown",
   "id": "13379640",
   "metadata": {},
   "source": [
    "Should we leave the 'country' feature in since they will all be Egypt?\n",
    "\n",
    "A quick look and we see that \"Egypt\" at the time extended pretty far! So yes we leave it in."
   ]
  },
  {
   "cell_type": "code",
   "execution_count": 175,
   "id": "08b348cd",
   "metadata": {
    "scrolled": true
   },
   "outputs": [
    {
     "data": {
      "text/plain": [
       "array(['Egypt', nan, 'Turkey', 'Egypt and Sudan', 'Africa', 'Canaan',\n",
       "       'Cyprus', 'Egypt or Levant', 'Egypt or Italy',\n",
       "       'Egypt (or Italy or Turkey)', 'Greece', 'Egypt|Gaul', 'Italy',\n",
       "       'Egypt|Egypt', 'Egypt possibly (modern)', 'United Kingdom',\n",
       "       'Sudan', 'Lebanon'], dtype=object)"
      ]
     },
     "execution_count": 175,
     "metadata": {},
     "output_type": "execute_result"
    }
   ],
   "source": [
    "egypt.Country.unique()"
   ]
  },
  {
   "cell_type": "markdown",
   "id": "00d412c8",
   "metadata": {},
   "source": [
    "OK, time to do Label Encoding. We'll use the category codes approach."
   ]
  },
  {
   "cell_type": "code",
   "execution_count": 176,
   "id": "54339a87",
   "metadata": {},
   "outputs": [
    {
     "name": "stderr",
     "output_type": "stream",
     "text": [
      "/opt/anaconda3/lib/python3.8/site-packages/pandas/core/indexing.py:1773: SettingWithCopyWarning: \n",
      "A value is trying to be set on a copy of a slice from a DataFrame.\n",
      "Try using .loc[row_indexer,col_indexer] = value instead\n",
      "\n",
      "See the caveats in the documentation: https://pandas.pydata.org/pandas-docs/stable/user_guide/indexing.html#returning-a-view-versus-a-copy\n",
      "  self._setitem_single_column(ilocs[0], value, pi)\n"
     ]
    }
   ],
   "source": [
    "egypt.loc[:, ('Object Name')] = egypt['Object Name'].astype('category')\n",
    "egypt.loc[:, ('Country')] = egypt['Country'].astype('category')\n",
    "egypt.loc[:, ('Object Date')] = egypt['Object Date'].astype('category')\n",
    "egypt.loc[:, ('Medium')] = egypt['Medium'].astype('category')\n",
    "egypt.loc[:, ('Geography Type')] = egypt['Geography Type'].astype('category')\n",
    "egypt.loc[:, ('Region')] = egypt['Region'].astype('category')\n",
    "egypt.loc[:, ('Dynasty')] = egypt['Dynasty'].astype('category')\n",
    "egypt.loc[:, ('Subregion')] = egypt['Subregion'].astype('category')\n",
    "egypt.loc[:, ('Reign')] = egypt['Reign'].astype('category')\n",
    "egypt.loc[:, ('Locale')] = egypt['Locale'].astype('category')\n",
    "egypt.loc[:, ('Locus')] = egypt['Locus'].astype('category')\n",
    "egypt.loc[:, ('Excavation')] = egypt['Excavation'].astype('category')"
   ]
  },
  {
   "cell_type": "code",
   "execution_count": 177,
   "id": "e497a1a7",
   "metadata": {},
   "outputs": [],
   "source": [
    "egypt.loc[:, ('Object Name')] = egypt['Object Name'].cat.codes\n",
    "egypt.loc[:, ('Country')] = egypt['Country'].cat.codes\n",
    "egypt.loc[:, ('Object Date')] = egypt['Object Date'].cat.codes\n",
    "egypt.loc[:, ('Medium')] = egypt['Medium'].cat.codes\n",
    "egypt.loc[:, ('Geography Type')] = egypt['Geography Type'].cat.codes\n",
    "egypt.loc[:, ('Region')] = egypt['Region'].cat.codes\n",
    "egypt.loc[:, ('Dynasty')] = egypt['Dynasty'].cat.codes\n",
    "egypt.loc[:, ('Subregion')] = egypt['Subregion'].cat.codes\n",
    "egypt.loc[:, ('Reign')] = egypt['Reign'].cat.codes\n",
    "egypt.loc[:, ('Locale')] = egypt['Locale'].cat.codes\n",
    "egypt.loc[:, ('Locus')] = egypt['Locus'].cat.codes\n",
    "egypt.loc[:, ('Excavation')] = egypt['Excavation'].cat.codes"
   ]
  },
  {
   "cell_type": "markdown",
   "id": "f5ad0de0",
   "metadata": {},
   "source": [
    "### Look at and numerize the target"
   ]
  },
  {
   "cell_type": "code",
   "execution_count": 178,
   "id": "4e6c6ea0",
   "metadata": {
    "scrolled": true
   },
   "outputs": [
    {
     "name": "stderr",
     "output_type": "stream",
     "text": [
      "/opt/anaconda3/lib/python3.8/site-packages/pandas/core/frame.py:5039: SettingWithCopyWarning: \n",
      "A value is trying to be set on a copy of a slice from a DataFrame\n",
      "\n",
      "See the caveats in the documentation: https://pandas.pydata.org/pandas-docs/stable/user_guide/indexing.html#returning-a-view-versus-a-copy\n",
      "  return super().rename(\n"
     ]
    }
   ],
   "source": [
    "egypt.rename(columns = {'Is Highlight': \"highlighted\", 'Department': \"department\", 'Object Name':\"obj_name\",\\\n",
    "                         'Country': \"country\",'Object Date': \"obj_date\", \\\n",
    "                        'Medium': \"medium\",'Geography Type': \"geo_type\", \\\n",
    "                        'Region': \"region\", 'Dynasty': \"dynasty\", \\\n",
    "                        'Reign': \"reign\", 'Subregion': \"subregion\", 'Locale': \"locale\", \\\n",
    "                        'Locus': \"locus\", 'Excavation': \"excavation\"}, inplace = True)"
   ]
  },
  {
   "cell_type": "code",
   "execution_count": 179,
   "id": "58fea778",
   "metadata": {},
   "outputs": [
    {
     "data": {
      "text/plain": [
       "Index(['highlighted', 'obj_name', 'country', 'obj_date', 'medium', 'geo_type',\n",
       "       'region', 'dynasty', 'reign', 'subregion', 'locale', 'locus',\n",
       "       'excavation'],\n",
       "      dtype='object')"
      ]
     },
     "execution_count": 179,
     "metadata": {},
     "output_type": "execute_result"
    }
   ],
   "source": [
    "egypt.columns"
   ]
  },
  {
   "cell_type": "code",
   "execution_count": 180,
   "id": "48e5d4dd",
   "metadata": {},
   "outputs": [
    {
     "name": "stderr",
     "output_type": "stream",
     "text": [
      "/opt/anaconda3/lib/python3.8/site-packages/pandas/core/generic.py:5516: SettingWithCopyWarning: \n",
      "A value is trying to be set on a copy of a slice from a DataFrame.\n",
      "Try using .loc[row_indexer,col_indexer] = value instead\n",
      "\n",
      "See the caveats in the documentation: https://pandas.pydata.org/pandas-docs/stable/user_guide/indexing.html#returning-a-view-versus-a-copy\n",
      "  self[name] = value\n"
     ]
    }
   ],
   "source": [
    "egypt.highlighted = egypt.highlighted.apply(lambda x: 1 if x == True else 0)"
   ]
  },
  {
   "cell_type": "code",
   "execution_count": 181,
   "id": "ee7aedd0",
   "metadata": {},
   "outputs": [
    {
     "data": {
      "text/plain": [
       "0.004139132960569313"
      ]
     },
     "execution_count": 181,
     "metadata": {},
     "output_type": "execute_result"
    }
   ],
   "source": [
    "egypt.highlighted.mean()"
   ]
  },
  {
   "cell_type": "code",
   "execution_count": 182,
   "id": "93548dde",
   "metadata": {},
   "outputs": [
    {
     "data": {
      "text/plain": [
       "114"
      ]
     },
     "execution_count": 182,
     "metadata": {},
     "output_type": "execute_result"
    }
   ],
   "source": [
    "egypt.highlighted.sum()"
   ]
  },
  {
   "cell_type": "markdown",
   "id": "c22f824e",
   "metadata": {},
   "source": [
    "### Train/Test/Split"
   ]
  },
  {
   "cell_type": "code",
   "execution_count": 183,
   "id": "e1371d52",
   "metadata": {},
   "outputs": [],
   "source": [
    "X, y = egypt.iloc[:, 1:], egypt.iloc[:, 0]"
   ]
  },
  {
   "cell_type": "code",
   "execution_count": 184,
   "id": "b2692658",
   "metadata": {},
   "outputs": [],
   "source": [
    "X_train_all, X_test, y_train_all, y_test = train_test_split(X, y, test_size=0.2, random_state=2)\n",
    "X_train, X_val, y_train, y_val = train_test_split(X_train_all, y_train_all, test_size=.25, random_state=4)"
   ]
  },
  {
   "cell_type": "code",
   "execution_count": 185,
   "id": "9e6650a4",
   "metadata": {},
   "outputs": [
    {
     "data": {
      "text/html": [
       "<div>\n",
       "<style scoped>\n",
       "    .dataframe tbody tr th:only-of-type {\n",
       "        vertical-align: middle;\n",
       "    }\n",
       "\n",
       "    .dataframe tbody tr th {\n",
       "        vertical-align: top;\n",
       "    }\n",
       "\n",
       "    .dataframe thead th {\n",
       "        text-align: right;\n",
       "    }\n",
       "</style>\n",
       "<table border=\"1\" class=\"dataframe\">\n",
       "  <thead>\n",
       "    <tr style=\"text-align: right;\">\n",
       "      <th></th>\n",
       "      <th>obj_name</th>\n",
       "      <th>country</th>\n",
       "      <th>obj_date</th>\n",
       "      <th>medium</th>\n",
       "      <th>geo_type</th>\n",
       "      <th>region</th>\n",
       "      <th>dynasty</th>\n",
       "      <th>reign</th>\n",
       "      <th>subregion</th>\n",
       "      <th>locale</th>\n",
       "      <th>locus</th>\n",
       "      <th>excavation</th>\n",
       "    </tr>\n",
       "  </thead>\n",
       "  <tbody>\n",
       "    <tr>\n",
       "      <th>360231</th>\n",
       "      <td>1060</td>\n",
       "      <td>3</td>\n",
       "      <td>540</td>\n",
       "      <td>796</td>\n",
       "      <td>6</td>\n",
       "      <td>34</td>\n",
       "      <td>126</td>\n",
       "      <td>132</td>\n",
       "      <td>110</td>\n",
       "      <td>205</td>\n",
       "      <td>-1</td>\n",
       "      <td>221</td>\n",
       "    </tr>\n",
       "    <tr>\n",
       "      <th>354156</th>\n",
       "      <td>3629</td>\n",
       "      <td>3</td>\n",
       "      <td>671</td>\n",
       "      <td>1694</td>\n",
       "      <td>6</td>\n",
       "      <td>23</td>\n",
       "      <td>94</td>\n",
       "      <td>-1</td>\n",
       "      <td>4</td>\n",
       "      <td>199</td>\n",
       "      <td>-1</td>\n",
       "      <td>102</td>\n",
       "    </tr>\n",
       "    <tr>\n",
       "      <th>357131</th>\n",
       "      <td>6117</td>\n",
       "      <td>3</td>\n",
       "      <td>280</td>\n",
       "      <td>1352</td>\n",
       "      <td>6</td>\n",
       "      <td>34</td>\n",
       "      <td>205</td>\n",
       "      <td>227</td>\n",
       "      <td>37</td>\n",
       "      <td>622</td>\n",
       "      <td>11</td>\n",
       "      <td>257</td>\n",
       "    </tr>\n",
       "  </tbody>\n",
       "</table>\n",
       "</div>"
      ],
      "text/plain": [
       "        obj_name  country  obj_date  medium  geo_type  region  dynasty  reign  \\\n",
       "360231      1060        3       540     796         6      34      126    132   \n",
       "354156      3629        3       671    1694         6      23       94     -1   \n",
       "357131      6117        3       280    1352         6      34      205    227   \n",
       "\n",
       "        subregion  locale  locus  excavation  \n",
       "360231        110     205     -1         221  \n",
       "354156          4     199     -1         102  \n",
       "357131         37     622     11         257  "
      ]
     },
     "execution_count": 185,
     "metadata": {},
     "output_type": "execute_result"
    }
   ],
   "source": [
    "X_train.head(3)"
   ]
  },
  {
   "cell_type": "markdown",
   "id": "3d975dc4",
   "metadata": {},
   "source": [
    "### Helper functions"
   ]
  },
  {
   "cell_type": "code",
   "execution_count": 207,
   "id": "5608c260",
   "metadata": {},
   "outputs": [],
   "source": [
    "def cross_val_model(model, X, y): \n",
    "    scores = cross_val_score(model, X, y, cv = 5, scoring='precision')\n",
    "    print(f\"Precision scores are: {scores}. Mean of precision scores is: {scores.mean()}\")"
   ]
  },
  {
   "cell_type": "code",
   "execution_count": 187,
   "id": "18874280",
   "metadata": {},
   "outputs": [],
   "source": [
    "def plot_for_threshold(model): \n",
    "    thresh_ps = np.linspace(.10,.50,1000)\n",
    "    model_val_probs = model.predict_proba(X_train)[:,1] \n",
    "\n",
    "    f1_scores, prec_scores, rec_scores, acc_scores = [], [], [], []\n",
    "    for p in thresh_ps:\n",
    "        model_val_labels = model_val_probs >= p\n",
    "        f1_scores.append(f1_score(y_train, model_val_labels))    \n",
    "        prec_scores.append(precision_score(y_train, model_val_labels))\n",
    "        rec_scores.append(recall_score(y_train, model_val_labels))\n",
    "        acc_scores.append(accuracy_score(y_train, model_val_labels))\n",
    "\n",
    "    plt.plot(thresh_ps, f1_scores)\n",
    "    plt.plot(thresh_ps, prec_scores)\n",
    "    plt.plot(thresh_ps, rec_scores)\n",
    "    plt.plot(thresh_ps, acc_scores)\n",
    "\n",
    "    plt.title('Metric Scores vs. Positive Class Decision Probability Threshold')\n",
    "    plt.legend(['F1','Precision','Recall','Accuracy'], bbox_to_anchor=(1.05, 0), loc='lower left')\n",
    "    plt.xlabel('P threshold')\n",
    "    plt.ylabel('Metric score')\n",
    "\n",
    "    best_f1_score = np.max(f1_scores) \n",
    "    best_prec_score = np.max(prec_scores)\n",
    "    best_thresh_p = thresh_ps[np.argmax(prec_scores)]\n",
    "\n",
    "    print('Model best Precision score %.3f at prob decision threshold >= %.6f' \n",
    "          % (best_prec_score, best_thresh_p))"
   ]
  },
  {
   "cell_type": "code",
   "execution_count": 188,
   "id": "aa6816da",
   "metadata": {},
   "outputs": [],
   "source": [
    "def model_scoring(model): \n",
    "    train_score = model.score(X_train, y_train)\n",
    "    val_score = model.score(X_val, y_val)\n",
    "    print(f\"General train accuracy score: {train_score}, General validation accuracy score: {val_score}\")\n",
    "    \n",
    "    model_precision = precision_score(y_val, y_predict_hard)\n",
    "    model_recall = recall_score(y_val, y_predict_hard)\n",
    "    model_f1 = f1_score(y_val, y_predict_hard)\n",
    "    print(\"After adjusting for threshold -\")\n",
    "    print(f\"Precision score: {model_precision}, Recall score: {model_recall}, F1 score: {model_f1}\")"
   ]
  },
  {
   "cell_type": "code",
   "execution_count": 189,
   "id": "a8fbd1b2",
   "metadata": {},
   "outputs": [],
   "source": [
    "def model_confusion_matrix(model): \n",
    "    model_confusion = confusion_matrix(y_val, y_predict_hard)\n",
    "    sns.heatmap(model_confusion, annot=True, \\\n",
    "                xticklabels=['not','highlighted'], yticklabels=['not','highlighted'])\n",
    "    plt.xlabel('Highlighting Predicted')\n",
    "    plt.ylabel('Highlighting Actual')"
   ]
  },
  {
   "cell_type": "code",
   "execution_count": 199,
   "id": "c64bd3f9",
   "metadata": {},
   "outputs": [],
   "source": [
    "def model_curves(model): \n",
    "    y_predict_prob = model.predict_proba(X_train)\n",
    "    y_predict_prob = y_predict_prob[:, 1]\n",
    "    precision_curve, recall_curve, threshold_curve = precision_recall_curve(y_train, y_predict_prob)\n",
    "    plt.plot(threshold_curve, precision_curve[1:],label='precision')\n",
    "    plt.plot(threshold_curve, recall_curve[1:], label='recall')\n",
    "    plt.legend(loc='lower left')\n",
    "    plt.xlabel('Threshold (above this probability, label as highlight-possible)');\n",
    "    plt.title('Precision and Recall Curves for Egyptian Department Met')\n",
    "\n",
    "    fpr, tpr, thresholds = roc_curve(y_train, y_predict_prob)\n",
    "    plt.figure(dpi=80)\n",
    "    plt.plot(fpr, tpr,lw=2)\n",
    "    plt.plot([0,1],[0,1],c='violet',ls='--')\n",
    "    plt.xlim([-0.05,1.05])\n",
    "    plt.ylim([-0.05,1.05])\n",
    "    plt.xlabel('False positive rate')\n",
    "    plt.ylabel('True positive rate')\n",
    "    plt.title('ROC curve for predicting higlighting at the Egyptian Department Section')\n",
    "    plt.savefig(\"ROC curve for predicting higlighting at the Egyptian Department.png\", bbox_inches='tight');\n",
    "    print(\"ROC AUC score = \", roc_auc_score(y_train, y_predict_prob))"
   ]
  },
  {
   "cell_type": "markdown",
   "id": "74b3e857",
   "metadata": {},
   "source": [
    "### Build, train & score the model"
   ]
  },
  {
   "cell_type": "code",
   "execution_count": 200,
   "id": "006b9dd1",
   "metadata": {},
   "outputs": [
    {
     "data": {
      "text/plain": [
       "RandomForestClassifier()"
      ]
     },
     "execution_count": 200,
     "metadata": {},
     "output_type": "execute_result"
    }
   ],
   "source": [
    "rf = RandomForestClassifier(n_estimators=100)\n",
    "rf.fit(X_train, y_train)"
   ]
  },
  {
   "cell_type": "code",
   "execution_count": 201,
   "id": "a91f51f4",
   "metadata": {},
   "outputs": [
    {
     "name": "stderr",
     "output_type": "stream",
     "text": [
      "/opt/anaconda3/lib/python3.8/site-packages/sklearn/metrics/_classification.py:1248: UndefinedMetricWarning: Precision is ill-defined and being set to 0.0 due to no predicted samples. Use `zero_division` parameter to control this behavior.\n",
      "  _warn_prf(average, modifier, msg_start, len(result))\n"
     ]
    },
    {
     "name": "stdout",
     "output_type": "stream",
     "text": [
      "Precision scores are: [0.  0.  1.  0.5 0. ]. Mean of precision scores is: 0.3\n"
     ]
    },
    {
     "name": "stderr",
     "output_type": "stream",
     "text": [
      "/opt/anaconda3/lib/python3.8/site-packages/sklearn/metrics/_classification.py:1248: UndefinedMetricWarning: Precision is ill-defined and being set to 0.0 due to no predicted samples. Use `zero_division` parameter to control this behavior.\n",
      "  _warn_prf(average, modifier, msg_start, len(result))\n"
     ]
    }
   ],
   "source": [
    "cross_val_model(rf, X_train, y_train)"
   ]
  },
  {
   "cell_type": "code",
   "execution_count": 202,
   "id": "7486eda1",
   "metadata": {},
   "outputs": [
    {
     "name": "stdout",
     "output_type": "stream",
     "text": [
      "ROC AUC score =  1.0\n"
     ]
    },
    {
     "data": {
      "image/png": "[encoded data removed]",
      "text/plain": [
       "<Figure size 432x288 with 1 Axes>"
      ]
     },
     "metadata": {
      "needs_background": "light"
     },
     "output_type": "display_data"
    },
    {
     "data": {
      "image/png": "[encoded data removed]",
      "text/plain": [
       "<Figure size 480x320 with 1 Axes>"
      ]
     },
     "metadata": {
      "needs_background": "light"
     },
     "output_type": "display_data"
    }
   ],
   "source": [
    "model_curves(rf) "
   ]
  },
  {
   "cell_type": "code",
   "execution_count": 203,
   "id": "671e69cf",
   "metadata": {},
   "outputs": [
    {
     "name": "stdout",
     "output_type": "stream",
     "text": [
      "Model best Precision score 1.000 at prob decision threshold >= 0.270170\n"
     ]
    },
    {
     "data": {
      "image/png": "[encoded data removed]",
      "text/plain": [
       "<Figure size 432x288 with 1 Axes>"
      ]
     },
     "metadata": {
      "needs_background": "light"
     },
     "output_type": "display_data"
    }
   ],
   "source": [
    "plot_for_threshold(rf)"
   ]
  },
  {
   "cell_type": "code",
   "execution_count": 204,
   "id": "d859ace3",
   "metadata": {},
   "outputs": [],
   "source": [
    "y_predict_hard = (rf.predict_proba(X_val)[:,1] >= 0.270170).astype(bool) "
   ]
  },
  {
   "cell_type": "code",
   "execution_count": 205,
   "id": "bf19eff6",
   "metadata": {},
   "outputs": [
    {
     "name": "stdout",
     "output_type": "stream",
     "text": [
      "Generay train accuracy score: 1.0, General validation accuracy score: 0.995825013614086\n",
      "After adjusting for threshold -\n",
      "Precision score: 0.0, Recall score: 0.0, F1 score: 0.0\n"
     ]
    }
   ],
   "source": [
    "model_scoring(rf)"
   ]
  },
  {
   "cell_type": "code",
   "execution_count": 209,
   "id": "0dda1bc4",
   "metadata": {},
   "outputs": [
    {
     "data": {
      "text/plain": [
       "array([0.99546279, 0.99637024, 0.99637024, 0.99637024, 0.99545867])"
      ]
     },
     "execution_count": 209,
     "metadata": {},
     "output_type": "execute_result"
    }
   ],
   "source": [
    "cross_val_score(rf, X_val, y_val)"
   ]
  },
  {
   "cell_type": "code",
   "execution_count": 198,
   "id": "1c2ceeeb",
   "metadata": {},
   "outputs": [
    {
     "data": {
      "image/png": "[encoded data removed]",
      "text/plain": [
       "<Figure size 432x288 with 2 Axes>"
      ]
     },
     "metadata": {
      "needs_background": "light"
     },
     "output_type": "display_data"
    }
   ],
   "source": [
    "model_confusion_matrix(rf)"
   ]
  },
  {
   "cell_type": "code",
   "execution_count": null,
   "id": "00b2f988",
   "metadata": {},
   "outputs": [],
   "source": []
  },
  {
   "cell_type": "code",
   "execution_count": null,
   "id": "d6c18920",
   "metadata": {},
   "outputs": [],
   "source": []
  }
 ],
 "metadata": {
  "kernelspec": {
   "display_name": "Python 3 (ipykernel)",
   "language": "python",
   "name": "python3"
  },
  "language_info": {
   "codemirror_mode": {
    "name": "ipython",
    "version": 3
   },
   "file_extension": ".py",
   "mimetype": "text/x-python",
   "name": "python",
   "nbconvert_exporter": "python",
   "pygments_lexer": "ipython3",
   "version": "3.8.5"
  }
 },
 "nbformat": 4,
 "nbformat_minor": 5
}
