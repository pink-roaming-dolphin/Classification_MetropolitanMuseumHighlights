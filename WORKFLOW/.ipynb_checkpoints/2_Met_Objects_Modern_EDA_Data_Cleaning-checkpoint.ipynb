{
 "cells": [
  {
   "cell_type": "code",
   "execution_count": 1,
   "id": "c30563dd",
   "metadata": {},
   "outputs": [],
   "source": [
    "import numpy as np\n",
    "import pandas as pd \n",
    "import matplotlib.pyplot as plt\n",
    "import seaborn as sns\n",
    "import re as re"
   ]
  },
  {
   "cell_type": "code",
   "execution_count": 2,
   "id": "fb8c41a3",
   "metadata": {},
   "outputs": [
    {
     "name": "stderr",
     "output_type": "stream",
     "text": [
      "/opt/anaconda3/lib/python3.8/site-packages/IPython/core/interactiveshell.py:3457: DtypeWarning: Columns (7,8,9,10,11,18,27,28,29,30,31,32,33,34,35,36,37,39) have mixed types.Specify dtype option on import or set low_memory=False.\n",
      "  exec(code_obj, self.user_global_ns, self.user_ns)\n"
     ]
    }
   ],
   "source": [
    "met = pd.read_csv(\"MetObjects.csv\")"
   ]
  },
  {
   "cell_type": "markdown",
   "id": "5ca019b6",
   "metadata": {},
   "source": [
    "In the end, we're going to have 4 different models because of the incongruencies that the data was collected. Data collection was done different ways in each deparment. This might be due to internal practices but actually is mostly heavily due to the fact that certain features will be totally irrelevant/ relevant because of the nature of the object that the Department collects. Eg. \"Excavation\" feature has non-null values only in the Egyptian Art department. It would not make sense, for example, for the Modern & Contemporary Art department to have excavated an object.\n",
    "\n",
    "Here are the 4 groups we will build models for: \n",
    "1. Egyptian [Egyptian] - This is one department that needs a model onto itself. Department include: 'Egyptian Art'\n",
    "- Features include: Object ID' (will not be used but can be index), 'Department', 'Object Name', 'Culture', 'Country', 'Object Date', 'Medium', 'Dimensions', 'Geography Type', 'Region', 'Dynasty', 'Reign', 'Subregion', 'Locale', 'Locus', 'Excavation'. \n",
    "\n",
    "\\\n",
    "2. Categorical [Type] - Departments include: 'American Decorative Arts', 'European Sculpture and Decorative Arts', 'Arms and Armor', 'Costume Institute', 'Islamic Art', 'Musical Instruments', 'Asian Art'\n",
    "- Features include: Object ID' (will not be used but can be index), 'Department', 'Object Name', 'Culture', 'Classification', 'Object Date', 'Medium', 'Dimensions', 'Artist Display Name' (might leave this one out eventually but let's look if there is anything here), 'Artist Role', 'Artist Nationality', 'City'.\n",
    "\n",
    "\\\n",
    "3. Timewise Older [Ancient] - Departments include: 'Medieval Art', 'Arts of Africa, Oceania, and the Americas', 'Greek and Roman Art', 'Ancient Near Eastern Art', 'The Cloisters'\n",
    "- Features include: 'Object ID' (will not be used but can be index), 'Department', 'Object Name', 'Culture', 'Classification', 'Object Date', 'Medium', 'Dimensions'. \n",
    "\n",
    "\\\n",
    "4. Timewise Modern [Modern]- Departments include: 'American Paintings and Sculpture', 'Modern and Contemporary Art', 'Drawings and Prints', 'Photographs', 'European Paintings', 'Robert Lehman Collection', 'The Libraries'\n",
    "- Features include: 'Object ID' (will not be used but can be index), 'Department', 'Object Name', 'Artist Role', 'Artist Display Name' (might leave this one out eventually but let's look if there is anything here), 'Artist Nationality', 'Object Date', 'Medium', 'Classification'. \n",
    "\n",
    "**This notebook looks at the 4th category: the Modern**"
   ]
  },
  {
   "cell_type": "code",
   "execution_count": 3,
   "id": "3a826d87",
   "metadata": {
    "scrolled": true
   },
   "outputs": [
    {
     "data": {
      "text/plain": [
       "array(['American Decorative Arts', 'American Paintings and Sculpture',\n",
       "       'European Sculpture and Decorative Arts',\n",
       "       'Modern and Contemporary Art', 'Arms and Armor', 'Medieval Art',\n",
       "       'Asian Art', 'Costume Institute', 'Islamic Art',\n",
       "       'Arts of Africa, Oceania, and the Americas', 'Drawings and Prints',\n",
       "       'Greek and Roman Art', 'Photographs', 'Ancient Near Eastern Art',\n",
       "       'European Paintings', 'Robert Lehman Collection', 'The Cloisters',\n",
       "       'Musical Instruments', 'Egyptian Art', 'The Libraries'],\n",
       "      dtype=object)"
      ]
     },
     "execution_count": 3,
     "metadata": {},
     "output_type": "execute_result"
    }
   ],
   "source": [
    "met.Department.unique()"
   ]
  },
  {
   "cell_type": "code",
   "execution_count": 4,
   "id": "a7c50ade",
   "metadata": {},
   "outputs": [
    {
     "data": {
      "text/plain": [
       "Index(['Object Number', 'Is Highlight', 'Is Public Domain', 'Object ID',\n",
       "       'Department', 'Object Name', 'Title', 'Culture', 'Period', 'Dynasty',\n",
       "       'Reign', 'Portfolio', 'Artist Role', 'Artist Prefix',\n",
       "       'Artist Display Name', 'Artist Display Bio', 'Artist Suffix',\n",
       "       'Artist Alpha Sort', 'Artist Nationality', 'Artist Begin Date',\n",
       "       'Artist End Date', 'Object Date', 'Object Begin Date',\n",
       "       'Object End Date', 'Medium', 'Dimensions', 'Credit Line',\n",
       "       'Geography Type', 'City', 'State', 'County', 'Country', 'Region',\n",
       "       'Subregion', 'Locale', 'Locus', 'Excavation', 'River', 'Classification',\n",
       "       'Rights and Reproduction', 'Link Resource', 'Metadata Date',\n",
       "       'Repository'],\n",
       "      dtype='object')"
      ]
     },
     "execution_count": 4,
     "metadata": {},
     "output_type": "execute_result"
    }
   ],
   "source": [
    "met.columns"
   ]
  },
  {
   "cell_type": "markdown",
   "id": "86edc3b8",
   "metadata": {},
   "source": [
    "# Group 4: Modern #"
   ]
  },
  {
   "cell_type": "markdown",
   "id": "26411d73",
   "metadata": {},
   "source": [
    "The rest of this notebook creates a modern_departments DF that only has the above selected 'modern departments'. \n",
    "It then goes through 8 features. For each feature: It looks at the value counts, plots them; then looking at the value counts in just the highlighted portion of that feature. So for example, with the feature Departments (our most important feature), we plot the 7 modern departments in terms of the number of art objects each department carries but then also we plot the departments in terms of the ratio of the highlighted items that they carry. "
   ]
  },
  {
   "cell_type": "markdown",
   "id": "1c40b4b0",
   "metadata": {},
   "source": [
    "**Group with the Features we want**"
   ]
  },
  {
   "cell_type": "code",
   "execution_count": 5,
   "id": "b1961c54",
   "metadata": {},
   "outputs": [],
   "source": [
    "modern_departments = {'American Paintings and Sculpture', 'Modern and Contemporary Art', \\\n",
    "                      'Drawings and Prints', 'Photographs', 'European Paintings', \\\n",
    "                      'Robert Lehman Collection', 'The Libraries'}"
   ]
  },
  {
   "cell_type": "code",
   "execution_count": 6,
   "id": "160c0679",
   "metadata": {},
   "outputs": [],
   "source": [
    "modern = met[(met.Department == 'American Paintings and Sculpture') | (met.Department == 'Modern and Contemporary Art') | \\\n",
    "            (met.Department == 'Drawings and Prints') | (met.Department == 'Photographs') | \\\n",
    "            (met.Department == 'European Paintings') | (met.Department == 'Robert Lehman Collection') | \\\n",
    "            (met.Department == 'The Libraries') ]"
   ]
  },
  {
   "cell_type": "code",
   "execution_count": 7,
   "id": "c8affd33",
   "metadata": {},
   "outputs": [
    {
     "data": {
      "text/html": [
       "<div>\n",
       "<style scoped>\n",
       "    .dataframe tbody tr th:only-of-type {\n",
       "        vertical-align: middle;\n",
       "    }\n",
       "\n",
       "    .dataframe tbody tr th {\n",
       "        vertical-align: top;\n",
       "    }\n",
       "\n",
       "    .dataframe thead th {\n",
       "        text-align: right;\n",
       "    }\n",
       "</style>\n",
       "<table border=\"1\" class=\"dataframe\">\n",
       "  <thead>\n",
       "    <tr style=\"text-align: right;\">\n",
       "      <th></th>\n",
       "      <th>Object Number</th>\n",
       "      <th>Is Highlight</th>\n",
       "      <th>Is Public Domain</th>\n",
       "      <th>Object ID</th>\n",
       "      <th>Department</th>\n",
       "      <th>Object Name</th>\n",
       "      <th>Title</th>\n",
       "      <th>Culture</th>\n",
       "      <th>Period</th>\n",
       "      <th>Dynasty</th>\n",
       "      <th>...</th>\n",
       "      <th>Subregion</th>\n",
       "      <th>Locale</th>\n",
       "      <th>Locus</th>\n",
       "      <th>Excavation</th>\n",
       "      <th>River</th>\n",
       "      <th>Classification</th>\n",
       "      <th>Rights and Reproduction</th>\n",
       "      <th>Link Resource</th>\n",
       "      <th>Metadata Date</th>\n",
       "      <th>Repository</th>\n",
       "    </tr>\n",
       "  </thead>\n",
       "  <tbody>\n",
       "    <tr>\n",
       "      <th>14</th>\n",
       "      <td>16.74.49</td>\n",
       "      <td>False</td>\n",
       "      <td>False</td>\n",
       "      <td>15</td>\n",
       "      <td>American Paintings and Sculpture</td>\n",
       "      <td>Coin</td>\n",
       "      <td>Coin, 1/2 Real</td>\n",
       "      <td>NaN</td>\n",
       "      <td>NaN</td>\n",
       "      <td>NaN</td>\n",
       "      <td>...</td>\n",
       "      <td>NaN</td>\n",
       "      <td>NaN</td>\n",
       "      <td>NaN</td>\n",
       "      <td>NaN</td>\n",
       "      <td>NaN</td>\n",
       "      <td>Silver</td>\n",
       "      <td>NaN</td>\n",
       "      <td>http://www.metmuseum.org/art/collection/search/15</td>\n",
       "      <td>4/3/2017 8:00:08 AM</td>\n",
       "      <td>Metropolitan Museum of Art, New York, NY</td>\n",
       "    </tr>\n",
       "    <tr>\n",
       "      <th>15</th>\n",
       "      <td>16.74.27</td>\n",
       "      <td>False</td>\n",
       "      <td>False</td>\n",
       "      <td>16</td>\n",
       "      <td>American Paintings and Sculpture</td>\n",
       "      <td>Peso</td>\n",
       "      <td>Coin, 1/4 Peso</td>\n",
       "      <td>NaN</td>\n",
       "      <td>NaN</td>\n",
       "      <td>NaN</td>\n",
       "      <td>...</td>\n",
       "      <td>NaN</td>\n",
       "      <td>NaN</td>\n",
       "      <td>NaN</td>\n",
       "      <td>NaN</td>\n",
       "      <td>NaN</td>\n",
       "      <td>Metal</td>\n",
       "      <td>NaN</td>\n",
       "      <td>http://www.metmuseum.org/art/collection/search/16</td>\n",
       "      <td>4/3/2017 8:00:08 AM</td>\n",
       "      <td>Metropolitan Museum of Art, New York, NY</td>\n",
       "    </tr>\n",
       "    <tr>\n",
       "      <th>16</th>\n",
       "      <td>16.74.28</td>\n",
       "      <td>False</td>\n",
       "      <td>False</td>\n",
       "      <td>17</td>\n",
       "      <td>American Paintings and Sculpture</td>\n",
       "      <td>Peso</td>\n",
       "      <td>Coin, 1/4 Peso</td>\n",
       "      <td>NaN</td>\n",
       "      <td>NaN</td>\n",
       "      <td>NaN</td>\n",
       "      <td>...</td>\n",
       "      <td>NaN</td>\n",
       "      <td>NaN</td>\n",
       "      <td>NaN</td>\n",
       "      <td>NaN</td>\n",
       "      <td>NaN</td>\n",
       "      <td>Metal</td>\n",
       "      <td>NaN</td>\n",
       "      <td>http://www.metmuseum.org/art/collection/search/17</td>\n",
       "      <td>4/3/2017 8:00:08 AM</td>\n",
       "      <td>Metropolitan Museum of Art, New York, NY</td>\n",
       "    </tr>\n",
       "  </tbody>\n",
       "</table>\n",
       "<p>3 rows × 43 columns</p>\n",
       "</div>"
      ],
      "text/plain": [
       "   Object Number  Is Highlight  Is Public Domain  Object ID  \\\n",
       "14      16.74.49         False             False         15   \n",
       "15      16.74.27         False             False         16   \n",
       "16      16.74.28         False             False         17   \n",
       "\n",
       "                          Department Object Name           Title Culture  \\\n",
       "14  American Paintings and Sculpture        Coin  Coin, 1/2 Real     NaN   \n",
       "15  American Paintings and Sculpture        Peso  Coin, 1/4 Peso     NaN   \n",
       "16  American Paintings and Sculpture        Peso  Coin, 1/4 Peso     NaN   \n",
       "\n",
       "   Period Dynasty  ... Subregion Locale Locus Excavation River Classification  \\\n",
       "14    NaN     NaN  ...       NaN    NaN   NaN        NaN   NaN         Silver   \n",
       "15    NaN     NaN  ...       NaN    NaN   NaN        NaN   NaN          Metal   \n",
       "16    NaN     NaN  ...       NaN    NaN   NaN        NaN   NaN          Metal   \n",
       "\n",
       "   Rights and Reproduction                                      Link Resource  \\\n",
       "14                     NaN  http://www.metmuseum.org/art/collection/search/15   \n",
       "15                     NaN  http://www.metmuseum.org/art/collection/search/16   \n",
       "16                     NaN  http://www.metmuseum.org/art/collection/search/17   \n",
       "\n",
       "          Metadata Date                                Repository  \n",
       "14  4/3/2017 8:00:08 AM  Metropolitan Museum of Art, New York, NY  \n",
       "15  4/3/2017 8:00:08 AM  Metropolitan Museum of Art, New York, NY  \n",
       "16  4/3/2017 8:00:08 AM  Metropolitan Museum of Art, New York, NY  \n",
       "\n",
       "[3 rows x 43 columns]"
      ]
     },
     "execution_count": 7,
     "metadata": {},
     "output_type": "execute_result"
    }
   ],
   "source": [
    "modern.head(3)"
   ]
  },
  {
   "cell_type": "code",
   "execution_count": 8,
   "id": "4b5a5fc9",
   "metadata": {},
   "outputs": [],
   "source": [
    "columns = ['Is Highlight', 'Object ID', 'Department', 'Object Name', 'Artist Role', \\\n",
    "           'Artist Display Name', 'Artist Nationality', 'Object Date', 'Medium', 'Classification']"
   ]
  },
  {
   "cell_type": "code",
   "execution_count": 9,
   "id": "696ce455",
   "metadata": {},
   "outputs": [],
   "source": [
    "modern = modern[columns]"
   ]
  },
  {
   "cell_type": "code",
   "execution_count": 10,
   "id": "9b86f3e2",
   "metadata": {},
   "outputs": [
    {
     "data": {
      "text/html": [
       "<div>\n",
       "<style scoped>\n",
       "    .dataframe tbody tr th:only-of-type {\n",
       "        vertical-align: middle;\n",
       "    }\n",
       "\n",
       "    .dataframe tbody tr th {\n",
       "        vertical-align: top;\n",
       "    }\n",
       "\n",
       "    .dataframe thead th {\n",
       "        text-align: right;\n",
       "    }\n",
       "</style>\n",
       "<table border=\"1\" class=\"dataframe\">\n",
       "  <thead>\n",
       "    <tr style=\"text-align: right;\">\n",
       "      <th></th>\n",
       "      <th>Is Highlight</th>\n",
       "      <th>Object ID</th>\n",
       "      <th>Department</th>\n",
       "      <th>Object Name</th>\n",
       "      <th>Artist Role</th>\n",
       "      <th>Artist Display Name</th>\n",
       "      <th>Artist Nationality</th>\n",
       "      <th>Object Date</th>\n",
       "      <th>Medium</th>\n",
       "      <th>Classification</th>\n",
       "    </tr>\n",
       "  </thead>\n",
       "  <tbody>\n",
       "    <tr>\n",
       "      <th>14</th>\n",
       "      <td>False</td>\n",
       "      <td>15</td>\n",
       "      <td>American Paintings and Sculpture</td>\n",
       "      <td>Coin</td>\n",
       "      <td>NaN</td>\n",
       "      <td>NaN</td>\n",
       "      <td>NaN</td>\n",
       "      <td>1665–1700</td>\n",
       "      <td>Silver</td>\n",
       "      <td>Silver</td>\n",
       "    </tr>\n",
       "    <tr>\n",
       "      <th>15</th>\n",
       "      <td>False</td>\n",
       "      <td>16</td>\n",
       "      <td>American Paintings and Sculpture</td>\n",
       "      <td>Peso</td>\n",
       "      <td>Artist</td>\n",
       "      <td>Mexican Artist</td>\n",
       "      <td>NaN</td>\n",
       "      <td>1800–1900</td>\n",
       "      <td>Bronze or copper</td>\n",
       "      <td>Metal</td>\n",
       "    </tr>\n",
       "    <tr>\n",
       "      <th>16</th>\n",
       "      <td>False</td>\n",
       "      <td>17</td>\n",
       "      <td>American Paintings and Sculpture</td>\n",
       "      <td>Peso</td>\n",
       "      <td>Artist</td>\n",
       "      <td>Mexican Artist</td>\n",
       "      <td>NaN</td>\n",
       "      <td>1867</td>\n",
       "      <td>Bronze or copper</td>\n",
       "      <td>Metal</td>\n",
       "    </tr>\n",
       "  </tbody>\n",
       "</table>\n",
       "</div>"
      ],
      "text/plain": [
       "    Is Highlight  Object ID                        Department Object Name  \\\n",
       "14         False         15  American Paintings and Sculpture        Coin   \n",
       "15         False         16  American Paintings and Sculpture        Peso   \n",
       "16         False         17  American Paintings and Sculpture        Peso   \n",
       "\n",
       "   Artist Role Artist Display Name Artist Nationality Object Date  \\\n",
       "14         NaN                 NaN                NaN   1665–1700   \n",
       "15      Artist      Mexican Artist                NaN   1800–1900   \n",
       "16      Artist      Mexican Artist                NaN        1867   \n",
       "\n",
       "              Medium Classification  \n",
       "14            Silver         Silver  \n",
       "15  Bronze or copper          Metal  \n",
       "16  Bronze or copper          Metal  "
      ]
     },
     "execution_count": 10,
     "metadata": {},
     "output_type": "execute_result"
    }
   ],
   "source": [
    "modern.head(3)"
   ]
  },
  {
   "cell_type": "code",
   "execution_count": 11,
   "id": "4e2b3e94",
   "metadata": {},
   "outputs": [
    {
     "name": "stdout",
     "output_type": "stream",
     "text": [
      "<class 'pandas.core.frame.DataFrame'>\n",
      "Int64Index: 215649 entries, 14 to 448202\n",
      "Data columns (total 10 columns):\n",
      " #   Column               Non-Null Count   Dtype \n",
      "---  ------               --------------   ----- \n",
      " 0   Is Highlight         215649 non-null  bool  \n",
      " 1   Object ID            215649 non-null  int64 \n",
      " 2   Department           215649 non-null  object\n",
      " 3   Object Name          214205 non-null  object\n",
      " 4   Artist Role          210199 non-null  object\n",
      " 5   Artist Display Name  210199 non-null  object\n",
      " 6   Artist Nationality   163660 non-null  object\n",
      " 7   Object Date          211301 non-null  object\n",
      " 8   Medium               210238 non-null  object\n",
      " 9   Classification       215548 non-null  object\n",
      "dtypes: bool(1), int64(1), object(8)\n",
      "memory usage: 16.7+ MB\n"
     ]
    }
   ],
   "source": [
    "modern.info()"
   ]
  },
  {
   "cell_type": "markdown",
   "id": "a7d9c639",
   "metadata": {},
   "source": [
    "Check for duplicates"
   ]
  },
  {
   "cell_type": "code",
   "execution_count": 12,
   "id": "4e0603b4",
   "metadata": {},
   "outputs": [
    {
     "data": {
      "text/plain": [
       "15        1\n",
       "483384    1\n",
       "483360    1\n",
       "483361    1\n",
       "483362    1\n",
       "         ..\n",
       "370096    1\n",
       "370097    1\n",
       "370098    1\n",
       "370099    1\n",
       "750830    1\n",
       "Name: Object ID, Length: 215649, dtype: int64"
      ]
     },
     "execution_count": 12,
     "metadata": {},
     "output_type": "execute_result"
    }
   ],
   "source": [
    "modern['Object ID'].value_counts()"
   ]
  },
  {
   "cell_type": "markdown",
   "id": "2e40e734",
   "metadata": {},
   "source": [
    "**Target**"
   ]
  },
  {
   "cell_type": "markdown",
   "id": "9359a631",
   "metadata": {},
   "source": [
    "Huge imbalance here, will have to deal with that"
   ]
  },
  {
   "cell_type": "code",
   "execution_count": 13,
   "id": "f9f75a8c",
   "metadata": {},
   "outputs": [
    {
     "data": {
      "text/plain": [
       "False    214899\n",
       "True        750\n",
       "Name: Is Highlight, dtype: int64"
      ]
     },
     "execution_count": 13,
     "metadata": {},
     "output_type": "execute_result"
    }
   ],
   "source": [
    "modern['Is Highlight'].value_counts()"
   ]
  },
  {
   "cell_type": "markdown",
   "id": "f0795a11",
   "metadata": {},
   "source": [
    "## Features ##"
   ]
  },
  {
   "cell_type": "markdown",
   "id": "bdfbf79d",
   "metadata": {},
   "source": [
    "'Object ID' (will not be used but can be index), 'Department', 'Object Name', 'Artist Role', 'Artist Display Name' (might leave this one out eventually but let's look if there is anything here), 'Artist Nationality', 'Object Date', 'Medium', 'Classification'."
   ]
  },
  {
   "cell_type": "markdown",
   "id": "63e72bc8",
   "metadata": {},
   "source": [
    "**1. Deparment**"
   ]
  },
  {
   "cell_type": "code",
   "execution_count": 14,
   "id": "ad6f2cba",
   "metadata": {},
   "outputs": [
    {
     "data": {
      "text/plain": [
       "Drawings and Prints                 154445\n",
       "Photographs                          36258\n",
       "Modern and Contemporary Art          13991\n",
       "American Paintings and Sculpture      5451\n",
       "European Paintings                    2760\n",
       "Robert Lehman Collection              2589\n",
       "The Libraries                          155\n",
       "Name: Department, dtype: int64"
      ]
     },
     "execution_count": 14,
     "metadata": {},
     "output_type": "execute_result"
    }
   ],
   "source": [
    "modern['Department'].value_counts()"
   ]
  },
  {
   "cell_type": "code",
   "execution_count": 15,
   "id": "a5a3f307",
   "metadata": {},
   "outputs": [
    {
     "name": "stderr",
     "output_type": "stream",
     "text": [
      "/opt/anaconda3/lib/python3.8/site-packages/seaborn/_decorators.py:36: FutureWarning: Pass the following variables as keyword args: x, y. From version 0.12, the only valid positional argument will be `data`, and passing other arguments without an explicit keyword will result in an error or misinterpretation.\n",
      "  warnings.warn(\n"
     ]
    },
    {
     "data": {
      "image/png": "[encoded data removed]",
      "text/plain": [
       "<Figure size 480x320 with 1 Axes>"
      ]
     },
     "metadata": {
      "needs_background": "light"
     },
     "output_type": "display_data"
    }
   ],
   "source": [
    "plt.figure(dpi=80)\n",
    "g = sns.barplot(modern['Department'].value_counts().index, modern['Department'].value_counts().values)\n",
    "g.set_xticklabels(g.get_xticklabels(), rotation=90)\n",
    "g.set_title('Department Counts Modern Section - Whole Collection')\n",
    "g.figure.savefig(\"Department Counts in Modern.png\", bbox_inches='tight')\n",
    "plt.show()"
   ]
  },
  {
   "cell_type": "code",
   "execution_count": 16,
   "id": "43a3fe46",
   "metadata": {},
   "outputs": [
    {
     "data": {
      "text/plain": [
       "Drawings and Prints                 154445\n",
       "Photographs                          36258\n",
       "Modern and Contemporary Art          13991\n",
       "American Paintings and Sculpture      5451\n",
       "European Paintings                    2760\n",
       "Robert Lehman Collection              2589\n",
       "The Libraries                          155\n",
       "Name: Department, dtype: int64"
      ]
     },
     "execution_count": 16,
     "metadata": {},
     "output_type": "execute_result"
    }
   ],
   "source": [
    "dept_counts = modern['Department'].value_counts()\n",
    "dept_counts"
   ]
  },
  {
   "cell_type": "code",
   "execution_count": 17,
   "id": "585162ba",
   "metadata": {},
   "outputs": [
    {
     "data": {
      "text/plain": [
       "Department\n",
       "American Paintings and Sculpture    107\n",
       "Drawings and Prints                  61\n",
       "European Paintings                  100\n",
       "Modern and Contemporary Art         116\n",
       "Photographs                         113\n",
       "Robert Lehman Collection             98\n",
       "The Libraries                       155\n",
       "dtype: int64"
      ]
     },
     "execution_count": 17,
     "metadata": {},
     "output_type": "execute_result"
    }
   ],
   "source": [
    "highlighted_depts = modern[modern[\"Is Highlight\"]].groupby(\"Department\").size()\n",
    "highlighted_depts"
   ]
  },
  {
   "cell_type": "code",
   "execution_count": 18,
   "id": "5f68cfe6",
   "metadata": {},
   "outputs": [
    {
     "data": {
      "text/plain": [
       "Department\n",
       "American Paintings and Sculpture    15.285714\n",
       "Drawings and Prints                  8.714286\n",
       "European Paintings                  14.285714\n",
       "Modern and Contemporary Art         16.571429\n",
       "Photographs                         16.142857\n",
       "Robert Lehman Collection            14.000000\n",
       "The Libraries                       22.142857\n",
       "dtype: float64"
      ]
     },
     "execution_count": 18,
     "metadata": {},
     "output_type": "execute_result"
    }
   ],
   "source": [
    "highlighted_depts_ratios = (modern[modern[\"Is Highlight\"]].groupby(\"Department\").size())/len(modern['Department'].value_counts())\n",
    "highlighted_depts_ratios"
   ]
  },
  {
   "cell_type": "code",
   "execution_count": 19,
   "id": "3bb0f905",
   "metadata": {},
   "outputs": [
    {
     "name": "stderr",
     "output_type": "stream",
     "text": [
      "/opt/anaconda3/lib/python3.8/site-packages/seaborn/_decorators.py:36: FutureWarning: Pass the following variables as keyword args: x, y. From version 0.12, the only valid positional argument will be `data`, and passing other arguments without an explicit keyword will result in an error or misinterpretation.\n",
      "  warnings.warn(\n"
     ]
    },
    {
     "data": {
      "image/png": "[encoded data removed]",
      "text/plain": [
       "<Figure size 480x320 with 1 Axes>"
      ]
     },
     "metadata": {
      "needs_background": "light"
     },
     "output_type": "display_data"
    }
   ],
   "source": [
    "plt.figure(dpi=80)\n",
    "g = sns.barplot(highlighted_depts_ratios.index, highlighted_depts_ratios.values)\n",
    "g.set_xticklabels(g.get_xticklabels(), rotation=90)\n",
    "g.set_title('Department Ratios in Highlighted')\n",
    "g.figure.savefig(\"Department Ratios in Highlighted.png\", bbox_inches='tight')\n",
    "plt.show()"
   ]
  },
  {
   "cell_type": "markdown",
   "id": "dc17a7e2",
   "metadata": {},
   "source": [
    "**2. Object Name**"
   ]
  },
  {
   "cell_type": "code",
   "execution_count": 20,
   "id": "1ea84840",
   "metadata": {
    "scrolled": false
   },
   "outputs": [
    {
     "data": {
      "text/plain": [
       "Print                  84943\n",
       "Photograph             28175\n",
       "Drawing                23969\n",
       "Book                   13356\n",
       "Negative                6213\n",
       "                       ...  \n",
       "Illustration               1\n",
       "Pamphlet                   1\n",
       "Rocking sofa               1\n",
       "Sleeping sofa              1\n",
       "Free Hanging Screen        1\n",
       "Name: Object Name, Length: 1514, dtype: int64"
      ]
     },
     "execution_count": 20,
     "metadata": {},
     "output_type": "execute_result"
    }
   ],
   "source": [
    "obj_name_counts = modern['Object Name'].value_counts()\n",
    "obj_name_counts"
   ]
  },
  {
   "cell_type": "code",
   "execution_count": 21,
   "id": "71e4ff91",
   "metadata": {
    "scrolled": true
   },
   "outputs": [
    {
     "data": {
      "text/plain": [
       "Object Name\n",
       "Altarpiece fragment                   1\n",
       "Aquamanile                            1\n",
       "Armchair                              1\n",
       "Baseball card                         1\n",
       "Book                                  1\n",
       "                                     ..\n",
       "Video; Time-based Media               1\n",
       "Wallpaper Ornament & Architecture     1\n",
       "Washstand                             1\n",
       "Watch                                 1\n",
       "Watercolor                           12\n",
       "Length: 64, dtype: int64"
      ]
     },
     "execution_count": 21,
     "metadata": {},
     "output_type": "execute_result"
    }
   ],
   "source": [
    "highlighted_objects = modern[modern[\"Is Highlight\"]].groupby(\"Object Name\").size()\n",
    "highlighted_objects"
   ]
  },
  {
   "cell_type": "markdown",
   "id": "962c7ffb",
   "metadata": {},
   "source": [
    "There are a lot of one off highlights. Let's see what happens when we wind it down to values (object name values) that make a showing at least 10 times. "
   ]
  },
  {
   "cell_type": "code",
   "execution_count": 22,
   "id": "ddd583c3",
   "metadata": {
    "scrolled": true
   },
   "outputs": [
    {
     "data": {
      "text/plain": [
       "Object Name\n",
       "Drawing        81\n",
       "Painting      275\n",
       "Photograph    101\n",
       "Print          24\n",
       "Sculpture      34\n",
       "Watercolor     12\n",
       "dtype: int64"
      ]
     },
     "execution_count": 22,
     "metadata": {},
     "output_type": "execute_result"
    }
   ],
   "source": [
    "highlighted_objects[highlighted_objects.values >10]"
   ]
  },
  {
   "cell_type": "markdown",
   "id": "8305da6a",
   "metadata": {},
   "source": [
    "Good let's stick to that and name everything as \"Other Object\""
   ]
  },
  {
   "cell_type": "code",
   "execution_count": 23,
   "id": "c2548d46",
   "metadata": {
    "scrolled": true
   },
   "outputs": [],
   "source": [
    "modern[\"Object Name\"] = modern[\"Object Name\"].\\\n",
    "                apply(lambda x: x if x in highlighted_objects[highlighted_objects.values >10] else \"Other Object\")"
   ]
  },
  {
   "cell_type": "code",
   "execution_count": 24,
   "id": "4cf54c48",
   "metadata": {},
   "outputs": [],
   "source": [
    "new_object_counts = modern[\"Object Name\"].value_counts()"
   ]
  },
  {
   "cell_type": "code",
   "execution_count": 25,
   "id": "64883bb0",
   "metadata": {},
   "outputs": [
    {
     "name": "stderr",
     "output_type": "stream",
     "text": [
      "/opt/anaconda3/lib/python3.8/site-packages/seaborn/_decorators.py:36: FutureWarning: Pass the following variables as keyword args: x, y. From version 0.12, the only valid positional argument will be `data`, and passing other arguments without an explicit keyword will result in an error or misinterpretation.\n",
      "  warnings.warn(\n"
     ]
    },
    {
     "data": {
      "image/png": "[encoded data removed]",
      "text/plain": [
       "<Figure size 480x320 with 1 Axes>"
      ]
     },
     "metadata": {
      "needs_background": "light"
     },
     "output_type": "display_data"
    }
   ],
   "source": [
    "plt.figure(dpi=80)\n",
    "g = sns.barplot(new_object_counts.index, new_object_counts.values/len(modern))\n",
    "g.set_xticklabels(g.get_xticklabels(), rotation=90)\n",
    "g.set(xlabel= \"Object Name\", ylabel = \"Ratio in Modern Collection\")\n",
    "g.set_title('Object Name Ratios in Highlighted')\n",
    "g.figure.savefig(\"Object Name Ratios in Highlighted\", bbox_inches='tight')\n",
    "plt.show()"
   ]
  },
  {
   "cell_type": "markdown",
   "id": "7267d294",
   "metadata": {},
   "source": [
    "**3. Artist Role**"
   ]
  },
  {
   "cell_type": "code",
   "execution_count": 26,
   "id": "3efd0780",
   "metadata": {},
   "outputs": [
    {
     "data": {
      "text/plain": [
       "Artist                                                     93609\n",
       "Publisher                                                  36083\n",
       "Artist|Publisher                                           10557\n",
       "Artist|Artist                                               9844\n",
       "Author                                                      3144\n",
       "                                                           ...  \n",
       "Author|Illustrator|Publisher|Printer|Printer|Printer           1\n",
       "Engraver|Printer|Publisher                                     1\n",
       "Author|Engraver|Engraver|Engraver|Publisher                    1\n",
       "Artist and publisher|Author|Artist and publisher|Binder        1\n",
       "Artist|Engraver|Engraver|Engraver|Publisher                    1\n",
       "Name: Artist Role, Length: 5006, dtype: int64"
      ]
     },
     "execution_count": 26,
     "metadata": {},
     "output_type": "execute_result"
    }
   ],
   "source": [
    "artist_role_counts = modern['Artist Role'].value_counts()\n",
    "artist_role_counts"
   ]
  },
  {
   "cell_type": "markdown",
   "id": "ea84c125",
   "metadata": {},
   "source": [
    "Again let's look at what is going on with the highlighted Artist Roles."
   ]
  },
  {
   "cell_type": "code",
   "execution_count": 27,
   "id": "a681a7d7",
   "metadata": {},
   "outputs": [
    {
     "data": {
      "text/plain": [
       "Artist Role\n",
       "Artist                                550\n",
       "Artist|Artist                           9\n",
       "Artist|Artist|Artist                    1\n",
       "Artist|Artist|Person in Photograph      1\n",
       "Artist|Artist|Photography Studio        2\n",
       "                                     ... \n",
       "Publisher|Illustrator|Author            1\n",
       "Publisher|Printer|Author                1\n",
       "Subject of book|Author                  1\n",
       "Translator|Author                       1\n",
       "Translator|Author|Publisher             1\n",
       "Length: 77, dtype: int64"
      ]
     },
     "execution_count": 27,
     "metadata": {},
     "output_type": "execute_result"
    }
   ],
   "source": [
    "highlighted_roles = modern[modern[\"Is Highlight\"]].groupby(\"Artist Role\").size()\n",
    "highlighted_roles"
   ]
  },
  {
   "cell_type": "markdown",
   "id": "bcfd6499",
   "metadata": {},
   "source": [
    "This looks like most of them artist or some combination of artist and artist. So let's see if there are any interesting other roles here and if not, let's drop the feature. "
   ]
  },
  {
   "cell_type": "code",
   "execution_count": 28,
   "id": "2f14ef29",
   "metadata": {
    "scrolled": true
   },
   "outputs": [
    {
     "data": {
      "text/plain": [
       "Artist Role\n",
       "Artist       550\n",
       "Author        41\n",
       "Publisher     11\n",
       "dtype: int64"
      ]
     },
     "execution_count": 28,
     "metadata": {},
     "output_type": "execute_result"
    }
   ],
   "source": [
    "highlighted_roles[highlighted_roles.values >10]"
   ]
  },
  {
   "cell_type": "markdown",
   "id": "87dba080",
   "metadata": {},
   "source": [
    "Ok, we could work with that. Let's put 'everything else' into \"Other Artist Role\""
   ]
  },
  {
   "cell_type": "code",
   "execution_count": 29,
   "id": "a2a44659",
   "metadata": {},
   "outputs": [],
   "source": [
    "modern[\"Artist Role\"] = modern[\"Artist Role\"].\\\n",
    "                apply(lambda x: x if x in highlighted_roles[highlighted_roles.values >10] else \"Other Artist Role\")"
   ]
  },
  {
   "cell_type": "code",
   "execution_count": 30,
   "id": "224ead7b",
   "metadata": {},
   "outputs": [
    {
     "data": {
      "text/plain": [
       "Artist               93609\n",
       "Other Artist Role    82813\n",
       "Publisher            36083\n",
       "Author                3144\n",
       "Name: Artist Role, dtype: int64"
      ]
     },
     "execution_count": 30,
     "metadata": {},
     "output_type": "execute_result"
    }
   ],
   "source": [
    "new_role_counts = modern[\"Artist Role\"].value_counts()\n",
    "new_role_counts"
   ]
  },
  {
   "cell_type": "code",
   "execution_count": 31,
   "id": "ac73fa0f",
   "metadata": {},
   "outputs": [
    {
     "name": "stderr",
     "output_type": "stream",
     "text": [
      "/opt/anaconda3/lib/python3.8/site-packages/seaborn/_decorators.py:36: FutureWarning: Pass the following variables as keyword args: x, y. From version 0.12, the only valid positional argument will be `data`, and passing other arguments without an explicit keyword will result in an error or misinterpretation.\n",
      "  warnings.warn(\n"
     ]
    },
    {
     "data": {
      "image/png": "[encoded data removed]",
      "text/plain": [
       "<Figure size 480x320 with 1 Axes>"
      ]
     },
     "metadata": {
      "needs_background": "light"
     },
     "output_type": "display_data"
    }
   ],
   "source": [
    "plt.figure(dpi=80)\n",
    "g = sns.barplot(new_role_counts.index, new_role_counts.values/len(modern))\n",
    "g.set_xticklabels(g.get_xticklabels(), rotation=90)\n",
    "g.set(xlabel= \"Artist Role\", ylabel = \"Ratio in Modern Collection\")\n",
    "g.set_title('Artist Role Ratios in Highlighted')\n",
    "g.figure.savefig(\"Artist Role Ratios in Highlighted\", bbox_inches='tight')\n",
    "plt.show(); "
   ]
  },
  {
   "cell_type": "markdown",
   "id": "61a1d6a4",
   "metadata": {},
   "source": [
    "**4. Artist Display Name**"
   ]
  },
  {
   "cell_type": "markdown",
   "id": "2ebcf037",
   "metadata": {},
   "source": [
    "Let's see if there are artists who show up frequently in the Highlights and if not maybe better to drop this feature. "
   ]
  },
  {
   "cell_type": "code",
   "execution_count": 32,
   "id": "10f55600",
   "metadata": {},
   "outputs": [
    {
     "data": {
      "text/plain": [
       "Artist Display Name\n",
       "A. Schroll|Ludwig Abels                                             2\n",
       "Aaron Douglas|James Weldon Johnson|Viking Press|Charles B. Falls    1\n",
       "Adam Fuss                                                           2\n",
       "Adolf de Meyer                                                      1\n",
       "Adolphe Braun                                                       1\n",
       "                                                                   ..\n",
       "Édouard Baldus                                                      1\n",
       "Édouard Manet                                                       2\n",
       "Édouard Vuillard                                                    1\n",
       "Émile-Jacques Ruhlmann                                              1\n",
       "Émile-Jacques Ruhlmann|Emile Gaudissard                             1\n",
       "Length: 533, dtype: int64"
      ]
     },
     "execution_count": 32,
     "metadata": {},
     "output_type": "execute_result"
    }
   ],
   "source": [
    "highlighted_artists = modern[modern[\"Is Highlight\"]].groupby(\"Artist Display Name\").size()\n",
    "highlighted_artists"
   ]
  },
  {
   "cell_type": "code",
   "execution_count": 33,
   "id": "4742213c",
   "metadata": {},
   "outputs": [
    {
     "data": {
      "text/plain": [
       "Series([], dtype: int64)"
      ]
     },
     "execution_count": 33,
     "metadata": {},
     "output_type": "execute_result"
    }
   ],
   "source": [
    "highlighted_artists[highlighted_artists.values >10]"
   ]
  },
  {
   "cell_type": "markdown",
   "id": "377f85e1",
   "metadata": {},
   "source": [
    "Looks like we won't get much from this feature. Let's drop it. "
   ]
  },
  {
   "cell_type": "code",
   "execution_count": 34,
   "id": "dd4d0c0c",
   "metadata": {},
   "outputs": [],
   "source": [
    "modern.drop(columns = \"Artist Display Name\", inplace = True)"
   ]
  },
  {
   "cell_type": "markdown",
   "id": "0d9bafbe",
   "metadata": {},
   "source": [
    "**5. Artist Nationality**"
   ]
  },
  {
   "cell_type": "code",
   "execution_count": 35,
   "id": "fd762ed9",
   "metadata": {},
   "outputs": [
    {
     "data": {
      "text/plain": [
       "Artist Nationality\n",
       "American                                189\n",
       "American                                  9\n",
       "American, Scottish                        3\n",
       "American, born Armenia                    1\n",
       "American, born Austria                    1\n",
       "                                       ... \n",
       "Roman|Italian|French|Italian|Italian      1\n",
       "Russian                                   1\n",
       "Spanish                                  15\n",
       "Spanish|French|French                     1\n",
       "Swiss                                     6\n",
       "Length: 84, dtype: int64"
      ]
     },
     "execution_count": 35,
     "metadata": {},
     "output_type": "execute_result"
    }
   ],
   "source": [
    "highlighted_nationalities = modern[modern[\"Is Highlight\"]].groupby(\"Artist Nationality\").size()\n",
    "highlighted_nationalities"
   ]
  },
  {
   "cell_type": "code",
   "execution_count": 36,
   "id": "6328eb9f",
   "metadata": {},
   "outputs": [
    {
     "data": {
      "text/plain": [
       "Artist Nationality\n",
       "American         189\n",
       "British           26\n",
       "Dutch             27\n",
       "French           125\n",
       "German            36\n",
       "Italian           74\n",
       "Netherlandish     19\n",
       "Spanish           15\n",
       "dtype: int64"
      ]
     },
     "execution_count": 36,
     "metadata": {},
     "output_type": "execute_result"
    }
   ],
   "source": [
    "highlighted_nationalities[highlighted_nationalities.values >10]"
   ]
  },
  {
   "cell_type": "code",
   "execution_count": 37,
   "id": "964b4243",
   "metadata": {},
   "outputs": [],
   "source": [
    "modern[\"Artist Nationality\"] = modern[\"Artist Nationality\"].\\\n",
    "                apply(lambda x: x if x in highlighted_nationalities[highlighted_nationalities.values >10] else \"Other Nationality\")"
   ]
  },
  {
   "cell_type": "code",
   "execution_count": 38,
   "id": "3d8f597d",
   "metadata": {},
   "outputs": [
    {
     "data": {
      "text/plain": [
       "Other Nationality    116658\n",
       "American              56364\n",
       "French                14012\n",
       "Italian               10937\n",
       "British                6773\n",
       "German                 6045\n",
       "Dutch                  2383\n",
       "Netherlandish          1320\n",
       "Spanish                1157\n",
       "Name: Artist Nationality, dtype: int64"
      ]
     },
     "execution_count": 38,
     "metadata": {},
     "output_type": "execute_result"
    }
   ],
   "source": [
    "new_nationality_counts = modern[\"Artist Nationality\"].value_counts()\n",
    "new_nationality_counts"
   ]
  },
  {
   "cell_type": "code",
   "execution_count": 39,
   "id": "cc9c4af4",
   "metadata": {},
   "outputs": [
    {
     "name": "stderr",
     "output_type": "stream",
     "text": [
      "/opt/anaconda3/lib/python3.8/site-packages/seaborn/_decorators.py:36: FutureWarning: Pass the following variables as keyword args: x, y. From version 0.12, the only valid positional argument will be `data`, and passing other arguments without an explicit keyword will result in an error or misinterpretation.\n",
      "  warnings.warn(\n"
     ]
    },
    {
     "data": {
      "image/png": "[encoded data removed]",
      "text/plain": [
       "<Figure size 480x320 with 1 Axes>"
      ]
     },
     "metadata": {
      "needs_background": "light"
     },
     "output_type": "display_data"
    }
   ],
   "source": [
    "plt.figure(dpi=80)\n",
    "g = sns.barplot(new_nationality_counts.index, new_nationality_counts.values/len(modern))\n",
    "g.set_xticklabels(g.get_xticklabels(), rotation=90)\n",
    "\n",
    "g.set(xlabel= \"Artist Nationality\", ylabel = \"Ratio in Modern Collection\")\n",
    "g.set_title('Artist Nationality Ratios in Highlighted - before Aggregation')\n",
    "g.figure.savefig(\"Artist Nationality Ratios in Highlighted - before Aggregation.png\", bbox_inches='tight')\n",
    "plt.show(); "
   ]
  },
  {
   "cell_type": "markdown",
   "id": "39eaced3",
   "metadata": {},
   "source": [
    "Let's look at those ratios again, might be wiser to select a few. "
   ]
  },
  {
   "cell_type": "code",
   "execution_count": 40,
   "id": "34f376d9",
   "metadata": {},
   "outputs": [
    {
     "data": {
      "text/plain": [
       "Other Nationality    0.540962\n",
       "American             0.261369\n",
       "French               0.064976\n",
       "Italian              0.050717\n",
       "British              0.031408\n",
       "German               0.028032\n",
       "Dutch                0.011050\n",
       "Netherlandish        0.006121\n",
       "Spanish              0.005365\n",
       "Name: Artist Nationality, dtype: float64"
      ]
     },
     "execution_count": 40,
     "metadata": {},
     "output_type": "execute_result"
    }
   ],
   "source": [
    "new_nationality_ratios = modern[\"Artist Nationality\"].value_counts()/len(modern)\n",
    "new_nationality_ratios"
   ]
  },
  {
   "cell_type": "markdown",
   "id": "ff1a702a",
   "metadata": {},
   "source": [
    "Let's group all those under 5% into a bucket with those nationalities names: \"British/German/Dutch/Netherlandish/Spanish\""
   ]
  },
  {
   "cell_type": "code",
   "execution_count": 41,
   "id": "6baffee3",
   "metadata": {},
   "outputs": [],
   "source": [
    "modern[\"Artist Nationality\"] = modern[\"Artist Nationality\"].\\\n",
    "                apply(lambda x: \"British/German/Dutch/Netherlandish/Spanish\" \\\n",
    "                      if x in [\"British\", \"German\", \"Dutch\", \"Netherlandish\", \"Spanish\"] else x)"
   ]
  },
  {
   "cell_type": "code",
   "execution_count": 42,
   "id": "95033b46",
   "metadata": {},
   "outputs": [
    {
     "name": "stderr",
     "output_type": "stream",
     "text": [
      "/opt/anaconda3/lib/python3.8/site-packages/seaborn/_decorators.py:36: FutureWarning: Pass the following variables as keyword args: x, y. From version 0.12, the only valid positional argument will be `data`, and passing other arguments without an explicit keyword will result in an error or misinterpretation.\n",
      "  warnings.warn(\n"
     ]
    },
    {
     "data": {
      "image/png": "[encoded data removed]",
      "text/plain": [
       "<Figure size 480x320 with 1 Axes>"
      ]
     },
     "metadata": {
      "needs_background": "light"
     },
     "output_type": "display_data"
    }
   ],
   "source": [
    "plt.figure(dpi=80)\n",
    "new_nationality_counts = modern[\"Artist Nationality\"].value_counts()\n",
    "g = sns.barplot(new_nationality_counts.index, new_nationality_counts.values/len(modern))\n",
    "g.set_xticklabels(g.get_xticklabels(), rotation=90)\n",
    "g.set(xlabel= \"Artist Nationality\", ylabel = \"Ratio in Modern Collection\")\n",
    "g.set_title('Artist Nationality Ratios in Highlighted')\n",
    "g.figure.savefig(\"Artist Nationality Ratios in Highlighted.png\", bbox_inches='tight')\n",
    "plt.show(); "
   ]
  },
  {
   "cell_type": "markdown",
   "id": "9329c7aa",
   "metadata": {},
   "source": [
    "**6. Object Date**"
   ]
  },
  {
   "cell_type": "code",
   "execution_count": 43,
   "id": "d2f63212",
   "metadata": {},
   "outputs": [],
   "source": [
    "def find_year(year_str):   \n",
    "    year_str = str(year_str)\n",
    "    year_4d = re.findall((r'\\b([0-9]{4})\\b'), year_str)\n",
    "    find = re.compile(r\"^[^th century]*\")\n",
    "    year_century = re.search(find, year_str).group(0)\n",
    "  \n",
    "    if len(year_4d) >0: \n",
    "        year_4d = year_4d[0]\n",
    "        year = year_4d\n",
    "    elif ((year_century.isdigit()) & (len(year_century) == 2)): \n",
    "        year = year_century + \"00\"\n",
    "    else: \n",
    "        year = \"0\" \n",
    "    \n",
    "    if len(year) > 4: \n",
    "        year = year[:4]\n",
    "        \n",
    "    return int(year)"
   ]
  },
  {
   "cell_type": "code",
   "execution_count": 44,
   "id": "752708a4",
   "metadata": {},
   "outputs": [
    {
     "data": {
      "text/plain": [
       "1800"
      ]
     },
     "execution_count": 44,
     "metadata": {},
     "output_type": "execute_result"
    }
   ],
   "source": [
    "find_year(\"1800–1900\")"
   ]
  },
  {
   "cell_type": "code",
   "execution_count": 45,
   "id": "6fbf059e",
   "metadata": {},
   "outputs": [],
   "source": [
    "modern[\"Object Year\"] = modern[\"Object Date\"].apply(lambda x: find_year(x))"
   ]
  },
  {
   "cell_type": "code",
   "execution_count": 46,
   "id": "b17ec3cf",
   "metadata": {},
   "outputs": [
    {
     "data": {
      "text/html": [
       "<div>\n",
       "<style scoped>\n",
       "    .dataframe tbody tr th:only-of-type {\n",
       "        vertical-align: middle;\n",
       "    }\n",
       "\n",
       "    .dataframe tbody tr th {\n",
       "        vertical-align: top;\n",
       "    }\n",
       "\n",
       "    .dataframe thead th {\n",
       "        text-align: right;\n",
       "    }\n",
       "</style>\n",
       "<table border=\"1\" class=\"dataframe\">\n",
       "  <thead>\n",
       "    <tr style=\"text-align: right;\">\n",
       "      <th></th>\n",
       "      <th>Is Highlight</th>\n",
       "      <th>Object ID</th>\n",
       "      <th>Department</th>\n",
       "      <th>Object Name</th>\n",
       "      <th>Artist Role</th>\n",
       "      <th>Artist Nationality</th>\n",
       "      <th>Object Date</th>\n",
       "      <th>Medium</th>\n",
       "      <th>Classification</th>\n",
       "      <th>Object Year</th>\n",
       "    </tr>\n",
       "  </thead>\n",
       "  <tbody>\n",
       "    <tr>\n",
       "      <th>297551</th>\n",
       "      <td>False</td>\n",
       "      <td>425359</td>\n",
       "      <td>Drawings and Prints</td>\n",
       "      <td>Print</td>\n",
       "      <td>Other Artist Role</td>\n",
       "      <td>Other Nationality</td>\n",
       "      <td>1888</td>\n",
       "      <td>Commercial color lithograph</td>\n",
       "      <td>Prints|Ephemera</td>\n",
       "      <td>1888</td>\n",
       "    </tr>\n",
       "    <tr>\n",
       "      <th>220984</th>\n",
       "      <td>False</td>\n",
       "      <td>346653</td>\n",
       "      <td>Drawings and Prints</td>\n",
       "      <td>Other Object</td>\n",
       "      <td>Other Artist Role</td>\n",
       "      <td>French</td>\n",
       "      <td>18th century</td>\n",
       "      <td>Plates: etching</td>\n",
       "      <td>Books</td>\n",
       "      <td>1800</td>\n",
       "    </tr>\n",
       "    <tr>\n",
       "      <th>246584</th>\n",
       "      <td>False</td>\n",
       "      <td>372999</td>\n",
       "      <td>Drawings and Prints</td>\n",
       "      <td>Print</td>\n",
       "      <td>Artist</td>\n",
       "      <td>British/German/Dutch/Netherlandish/Spanish</td>\n",
       "      <td>1534</td>\n",
       "      <td>Etching; first state of two</td>\n",
       "      <td>Prints</td>\n",
       "      <td>1534</td>\n",
       "    </tr>\n",
       "    <tr>\n",
       "      <th>288763</th>\n",
       "      <td>False</td>\n",
       "      <td>416292</td>\n",
       "      <td>Drawings and Prints</td>\n",
       "      <td>Print</td>\n",
       "      <td>Publisher</td>\n",
       "      <td>Other Nationality</td>\n",
       "      <td>1948</td>\n",
       "      <td>Commercial Chromolithograph</td>\n",
       "      <td>Prints|Ephemera</td>\n",
       "      <td>1948</td>\n",
       "    </tr>\n",
       "  </tbody>\n",
       "</table>\n",
       "</div>"
      ],
      "text/plain": [
       "        Is Highlight  Object ID           Department   Object Name  \\\n",
       "297551         False     425359  Drawings and Prints         Print   \n",
       "220984         False     346653  Drawings and Prints  Other Object   \n",
       "246584         False     372999  Drawings and Prints         Print   \n",
       "288763         False     416292  Drawings and Prints         Print   \n",
       "\n",
       "              Artist Role                          Artist Nationality  \\\n",
       "297551  Other Artist Role                           Other Nationality   \n",
       "220984  Other Artist Role                                      French   \n",
       "246584             Artist  British/German/Dutch/Netherlandish/Spanish   \n",
       "288763          Publisher                           Other Nationality   \n",
       "\n",
       "         Object Date                       Medium   Classification  \\\n",
       "297551          1888  Commercial color lithograph  Prints|Ephemera   \n",
       "220984  18th century              Plates: etching            Books   \n",
       "246584          1534  Etching; first state of two           Prints   \n",
       "288763          1948  Commercial Chromolithograph  Prints|Ephemera   \n",
       "\n",
       "        Object Year  \n",
       "297551         1888  \n",
       "220984         1800  \n",
       "246584         1534  \n",
       "288763         1948  "
      ]
     },
     "execution_count": 46,
     "metadata": {},
     "output_type": "execute_result"
    }
   ],
   "source": [
    "modern.sample(4)"
   ]
  },
  {
   "cell_type": "code",
   "execution_count": 47,
   "id": "ece00b36",
   "metadata": {},
   "outputs": [
    {
     "data": {
      "text/plain": [
       "Is Highlight            bool\n",
       "Object ID              int64\n",
       "Department            object\n",
       "Object Name           object\n",
       "Artist Role           object\n",
       "Artist Nationality    object\n",
       "Object Date           object\n",
       "Medium                object\n",
       "Classification        object\n",
       "Object Year            int64\n",
       "dtype: object"
      ]
     },
     "execution_count": 47,
     "metadata": {},
     "output_type": "execute_result"
    }
   ],
   "source": [
    "modern.astype({\"Object Year\": 'int64'}).dtypes"
   ]
  },
  {
   "cell_type": "code",
   "execution_count": 48,
   "id": "6426f244",
   "metadata": {},
   "outputs": [
    {
     "data": {
      "text/plain": [
       "array([<class 'int'>], dtype=object)"
      ]
     },
     "execution_count": 48,
     "metadata": {},
     "output_type": "execute_result"
    }
   ],
   "source": [
    "modern[\"Object Year\"].apply(type).unique()"
   ]
  },
  {
   "cell_type": "code",
   "execution_count": 49,
   "id": "60c6a54a",
   "metadata": {},
   "outputs": [
    {
     "data": {
      "image/png": "[encoded data removed]",
      "text/plain": [
       "<Figure size 480x320 with 1 Axes>"
      ]
     },
     "metadata": {
      "needs_background": "light"
     },
     "output_type": "display_data"
    }
   ],
   "source": [
    "plt.figure(dpi=80)\n",
    "g = sns.histplot(data = modern, x = \"Object Year\", bins = 100)\n",
    "plt.xlim(800, 2200)\n",
    "g.set_title('Object Year Counts in Modern Collection')\n",
    "g.figure.savefig(\"Object Year Counts in Modern Collection.png\", bbox_inches='tight')\n",
    "plt.show(); "
   ]
  },
  {
   "cell_type": "code",
   "execution_count": 50,
   "id": "44102e92",
   "metadata": {},
   "outputs": [
    {
     "name": "stdout",
     "output_type": "stream",
     "text": [
      "<class 'pandas.core.frame.DataFrame'>\n",
      "Int64Index: 215649 entries, 14 to 448202\n",
      "Data columns (total 10 columns):\n",
      " #   Column              Non-Null Count   Dtype \n",
      "---  ------              --------------   ----- \n",
      " 0   Is Highlight        215649 non-null  bool  \n",
      " 1   Object ID           215649 non-null  int64 \n",
      " 2   Department          215649 non-null  object\n",
      " 3   Object Name         215649 non-null  object\n",
      " 4   Artist Role         215649 non-null  object\n",
      " 5   Artist Nationality  215649 non-null  object\n",
      " 6   Object Date         211301 non-null  object\n",
      " 7   Medium              210238 non-null  object\n",
      " 8   Classification      215548 non-null  object\n",
      " 9   Object Year         215649 non-null  int64 \n",
      "dtypes: bool(1), int64(2), object(7)\n",
      "memory usage: 24.7+ MB\n"
     ]
    }
   ],
   "source": [
    "modern.info()"
   ]
  },
  {
   "cell_type": "code",
   "execution_count": 51,
   "id": "4d826d59",
   "metadata": {},
   "outputs": [],
   "source": [
    "modern.drop(columns = \"Object Date\", inplace = True)"
   ]
  },
  {
   "cell_type": "markdown",
   "id": "fe1ffea5",
   "metadata": {},
   "source": [
    "**7. Medium**"
   ]
  },
  {
   "cell_type": "code",
   "execution_count": 52,
   "id": "f4e4b480",
   "metadata": {},
   "outputs": [
    {
     "data": {
      "text/plain": [
       "Medium\n",
       "Acrylic and oil on Masonite                                                                                   1\n",
       "Acrylic and silkscreen on canvas                                                                              2\n",
       "Acrylic on paper                                                                                              1\n",
       "Acrylic, alkyd and oil glazes with collage elements on canvas                                                 1\n",
       "Acrylic, ink marker, dyed fabric, and sequins on canvas, sewn to quilted fabric                               1\n",
       "                                                                                                             ..\n",
       "Wood, plastic laminate                                                                                        1\n",
       "Wool, cotton                                                                                                  1\n",
       "Wool, silk, and gilt-metal-strip-wrapped silk in slit, dovetailed, and double interlocking tapestry weave.    1\n",
       "Wool, silk, silver-gilt thread.                                                                               1\n",
       "silverpoint on light buff prepared paper                                                                      1\n",
       "Length: 251, dtype: int64"
      ]
     },
     "execution_count": 52,
     "metadata": {},
     "output_type": "execute_result"
    }
   ],
   "source": [
    "highlighted_mediums = modern[modern[\"Is Highlight\"]].groupby(\"Medium\").size()\n",
    "highlighted_mediums"
   ]
  },
  {
   "cell_type": "code",
   "execution_count": 53,
   "id": "6c21a0ec",
   "metadata": {},
   "outputs": [
    {
     "data": {
      "text/plain": [
       "Medium\n",
       "Bronze                   16\n",
       "Gelatin silver print     35\n",
       "Illustrated book         21\n",
       "Marble                   13\n",
       "Oil on canvas           198\n",
       "Oil on wood              12\n",
       "dtype: int64"
      ]
     },
     "execution_count": 53,
     "metadata": {},
     "output_type": "execute_result"
    }
   ],
   "source": [
    "highlighted_mediums[highlighted_mediums.values >10]"
   ]
  },
  {
   "cell_type": "code",
   "execution_count": 54,
   "id": "d6f2b4c1",
   "metadata": {},
   "outputs": [],
   "source": [
    "modern[\"Medium\"] = modern[\"Medium\"].\\\n",
    "                apply(lambda x: x if x in highlighted_mediums[highlighted_mediums.values >10] else \"Other Medium\")"
   ]
  },
  {
   "cell_type": "code",
   "execution_count": 55,
   "id": "3a0a4b49",
   "metadata": {},
   "outputs": [
    {
     "name": "stderr",
     "output_type": "stream",
     "text": [
      "/opt/anaconda3/lib/python3.8/site-packages/seaborn/_decorators.py:36: FutureWarning: Pass the following variables as keyword args: x, y. From version 0.12, the only valid positional argument will be `data`, and passing other arguments without an explicit keyword will result in an error or misinterpretation.\n",
      "  warnings.warn(\n"
     ]
    },
    {
     "data": {
      "image/png": "[encoded data removed]",
      "text/plain": [
       "<Figure size 480x320 with 1 Axes>"
      ]
     },
     "metadata": {
      "needs_background": "light"
     },
     "output_type": "display_data"
    }
   ],
   "source": [
    "plt.figure(dpi=80)\n",
    "new_medium_counts = modern[\"Medium\"].value_counts()\n",
    "g = sns.barplot(new_medium_counts.index, new_medium_counts.values/len(modern))\n",
    "g.set_xticklabels(g.get_xticklabels(), rotation=90)\n",
    "g.set(xlabel= \"Medium\", ylabel = \"Ratio in Modern Collection\")\n",
    "g.set_title('Medium in Highlighted')\n",
    "g.figure.savefig(\"Medium in Highlighted.png\", bbox_inches='tight')\n",
    "plt.show(); "
   ]
  },
  {
   "cell_type": "markdown",
   "id": "ee2fd2f2",
   "metadata": {},
   "source": [
    "This might also be a tough feature, but let's keep it for now as there is important information there. "
   ]
  },
  {
   "cell_type": "markdown",
   "id": "5038845b",
   "metadata": {},
   "source": [
    "**8. Classification**"
   ]
  },
  {
   "cell_type": "code",
   "execution_count": 56,
   "id": "64bbe48a",
   "metadata": {
    "scrolled": true
   },
   "outputs": [
    {
     "data": {
      "text/plain": [
       "Classification\n",
       "Books                                             1\n",
       "Ceramics-Pottery                                  5\n",
       "Cut Paper                                         1\n",
       "Drawings                                         93\n",
       "Enamels                                           2\n",
       "Frames                                            3\n",
       "Furniture                                         6\n",
       "Furniture-Wood                                    2\n",
       "Glass                                             4\n",
       "Horology                                          1\n",
       "Jewelry                                           3\n",
       "Jewelry, Precious Metals and Precious Stones      1\n",
       "Manuscripts and Illuminations                     4\n",
       "Metalwork                                         1\n",
       "Metalwork-Bronze                                  1\n",
       "Metalwork-Silver                                  2\n",
       "Negatives                                         1\n",
       "Paintings                                       285\n",
       "Photographs                                     106\n",
       "Photographs|Collages                              1\n",
       "Photographs|Drawings                              1\n",
       "Prints                                           24\n",
       "Prints|Ephemera                                   1\n",
       "Sculpture                                        36\n",
       "Sculpture|Variable Media                          1\n",
       "Textiles-Rugs                                     1\n",
       "Textiles-Tapestries                               2\n",
       "Transparencies                                    1\n",
       "Variable Media                                    1\n",
       "Wallpaper|Ornament & Architecture|Prints          1\n",
       "Woodwork-Architectural                            1\n",
       "Woodwork-Furniture                                2\n",
       "|                                                49\n",
       "||                                                5\n",
       "dtype: int64"
      ]
     },
     "execution_count": 56,
     "metadata": {},
     "output_type": "execute_result"
    }
   ],
   "source": [
    "highlighted_classification = modern[modern[\"Is Highlight\"]].groupby(\"Classification\").size()\n",
    "highlighted_classification"
   ]
  },
  {
   "cell_type": "code",
   "execution_count": 57,
   "id": "6b2f92c8",
   "metadata": {
    "scrolled": true
   },
   "outputs": [
    {
     "data": {
      "text/plain": [
       "Classification\n",
       "Drawings        93\n",
       "Paintings      285\n",
       "Photographs    106\n",
       "Prints          24\n",
       "Sculpture       36\n",
       "|               49\n",
       "dtype: int64"
      ]
     },
     "execution_count": 57,
     "metadata": {},
     "output_type": "execute_result"
    }
   ],
   "source": [
    "highlighted_classification[highlighted_classification.values >10]"
   ]
  },
  {
   "cell_type": "code",
   "execution_count": 58,
   "id": "52b4f963",
   "metadata": {},
   "outputs": [],
   "source": [
    "modern[\"Classification\"] = modern[\"Classification\"].\\\n",
    "                apply(lambda x: x if x in highlighted_classification[highlighted_classification.values >10] \\\n",
    "                      else \"Other Class\")"
   ]
  },
  {
   "cell_type": "markdown",
   "id": "2dd3ee8f",
   "metadata": {},
   "source": [
    "There also seems to be something amiss with that \"|\" value; let's conver that to a \"other as well\""
   ]
  },
  {
   "cell_type": "code",
   "execution_count": 59,
   "id": "ccf63e7c",
   "metadata": {},
   "outputs": [],
   "source": [
    "modern[\"Classification\"] = modern[\"Classification\"].\\\n",
    "                apply(lambda x: \"Other Class\" if x == \"|\" else x) "
   ]
  },
  {
   "cell_type": "code",
   "execution_count": 60,
   "id": "7d929d70",
   "metadata": {},
   "outputs": [
    {
     "name": "stderr",
     "output_type": "stream",
     "text": [
      "/opt/anaconda3/lib/python3.8/site-packages/seaborn/_decorators.py:36: FutureWarning: Pass the following variables as keyword args: x, y. From version 0.12, the only valid positional argument will be `data`, and passing other arguments without an explicit keyword will result in an error or misinterpretation.\n",
      "  warnings.warn(\n"
     ]
    },
    {
     "data": {
      "image/png": "[encoded data removed]",
      "text/plain": [
       "<Figure size 480x320 with 1 Axes>"
      ]
     },
     "metadata": {
      "needs_background": "light"
     },
     "output_type": "display_data"
    }
   ],
   "source": [
    "plt.figure(dpi=80)\n",
    "new_classification_counts = modern[\"Classification\"].value_counts()\n",
    "g = sns.barplot(new_classification_counts.index, new_classification_counts.values/len(modern))\n",
    "g.set_xticklabels(g.get_xticklabels(), rotation=90)\n",
    "g.set(xlabel= \"Classification\", ylabel = \"Ratio in Modern Collection\")\n",
    "g.set_title('Classification in Highlighted')\n",
    "g.figure.savefig(\"Classification in Highlighted Modern.png\", bbox_inches='tight')\n",
    "plt.show(); "
   ]
  },
  {
   "cell_type": "markdown",
   "id": "057bd528",
   "metadata": {},
   "source": [
    "Let's see what kind of a dataframe we have now and set the \"Object ID\" as the index and lastly save this to a csv file. "
   ]
  },
  {
   "cell_type": "code",
   "execution_count": 61,
   "id": "df2e6d4c",
   "metadata": {
    "scrolled": true
   },
   "outputs": [
    {
     "name": "stdout",
     "output_type": "stream",
     "text": [
      "<class 'pandas.core.frame.DataFrame'>\n",
      "Int64Index: 215649 entries, 14 to 448202\n",
      "Data columns (total 9 columns):\n",
      " #   Column              Non-Null Count   Dtype \n",
      "---  ------              --------------   ----- \n",
      " 0   Is Highlight        215649 non-null  bool  \n",
      " 1   Object ID           215649 non-null  int64 \n",
      " 2   Department          215649 non-null  object\n",
      " 3   Object Name         215649 non-null  object\n",
      " 4   Artist Role         215649 non-null  object\n",
      " 5   Artist Nationality  215649 non-null  object\n",
      " 6   Medium              215649 non-null  object\n",
      " 7   Classification      215649 non-null  object\n",
      " 8   Object Year         215649 non-null  int64 \n",
      "dtypes: bool(1), int64(2), object(6)\n",
      "memory usage: 23.1+ MB\n"
     ]
    }
   ],
   "source": [
    "modern.info()"
   ]
  },
  {
   "cell_type": "code",
   "execution_count": 62,
   "id": "51f03823",
   "metadata": {},
   "outputs": [],
   "source": [
    "modern.set_index('Object ID', inplace = True)"
   ]
  },
  {
   "cell_type": "code",
   "execution_count": 63,
   "id": "ee2452f7",
   "metadata": {},
   "outputs": [],
   "source": [
    "modern.to_csv(\"modern_met_clean.csv\", index= False)"
   ]
  },
  {
   "cell_type": "code",
   "execution_count": null,
   "id": "119d97a5",
   "metadata": {},
   "outputs": [],
   "source": []
  }
 ],
 "metadata": {
  "kernelspec": {
   "display_name": "Python 3 (ipykernel)",
   "language": "python",
   "name": "python3"
  },
  "language_info": {
   "codemirror_mode": {
    "name": "ipython",
    "version": 3
   },
   "file_extension": ".py",
   "mimetype": "text/x-python",
   "name": "python",
   "nbconvert_exporter": "python",
   "pygments_lexer": "ipython3",
   "version": "3.8.5"
  }
 },
 "nbformat": 4,
 "nbformat_minor": 5
}
