{
 "cells": [
  {
   "cell_type": "code",
   "execution_count": 4,
   "id": "a760bcfd",
   "metadata": {},
   "outputs": [],
   "source": [
    "import numpy as np\n",
    "import pandas as pd \n",
    "import matplotlib.pyplot as plt\n",
    "import seaborn as sns"
   ]
  },
  {
   "cell_type": "code",
   "execution_count": 5,
   "id": "5387b85c",
   "metadata": {},
   "outputs": [],
   "source": [
    "from sklearn.linear_model import LogisticRegression\n",
    "\n",
    "from sklearn.model_selection import train_test_split\n",
    "from sklearn.metrics import precision_score, recall_score, accuracy_score, precision_recall_curve, roc_curve\n",
    "from sklearn.metrics import confusion_matrix\n",
    "from sklearn.metrics import f1_score, roc_auc_score"
   ]
  },
  {
   "cell_type": "markdown",
   "id": "82ae96c2",
   "metadata": {},
   "source": [
    "Let's first road the cleaned data. \n",
    "A very basic inquiry shows us that the modern section of the dataset we are looking at has around 215K objects and the class ratio for being highlighted or not is ~0.35% (0.0035). That's a big class imbalance! \n",
    "\n",
    "Below we decide on the metrics we will use for evaluating the model and make a baseline model with logistic regression."
   ]
  },
  {
   "cell_type": "code",
   "execution_count": 6,
   "id": "e4133873",
   "metadata": {},
   "outputs": [],
   "source": [
    "modern = pd.read_csv(\"modern_met_fe.csv\")"
   ]
  },
  {
   "cell_type": "code",
   "execution_count": 7,
   "id": "9fa283ea",
   "metadata": {
    "scrolled": true
   },
   "outputs": [
    {
     "name": "stdout",
     "output_type": "stream",
     "text": [
      "<class 'pandas.core.frame.DataFrame'>\n",
      "RangeIndex: 215649 entries, 0 to 215648\n",
      "Data columns (total 32 columns):\n",
      " #   Column                                Non-Null Count   Dtype\n",
      "---  ------                                --------------   -----\n",
      " 0   highlighted                           215649 non-null  bool \n",
      " 1   obj_year                              215649 non-null  int64\n",
      " 2   department_drawings_and_prints        215649 non-null  int64\n",
      " 3   department_european_paintings         215649 non-null  int64\n",
      " 4   department_modern_and_cont_art        215649 non-null  int64\n",
      " 5   department_photographs                215649 non-null  int64\n",
      " 6   department_robert_lehman              215649 non-null  int64\n",
      " 7   department_libraries                  215649 non-null  int64\n",
      " 8   other_obj_name                        215649 non-null  int64\n",
      " 9   obj_name_painting                     215649 non-null  int64\n",
      " 10  obj_name_photo                        215649 non-null  int64\n",
      " 11  obj_name_print                        215649 non-null  int64\n",
      " 12  obj_name_sculpture                    215649 non-null  int64\n",
      " 13  obj_name_watercolor                   215649 non-null  int64\n",
      " 14  artist_role_author                    215649 non-null  int64\n",
      " 15  artist_role_other                     215649 non-null  int64\n",
      " 16  artist_role_publisher                 215649 non-null  int64\n",
      " 17  artist_nationality_bgdns              215649 non-null  int64\n",
      " 18  artist_nationality_french             215649 non-null  int64\n",
      " 19  artist_nationality_italian            215649 non-null  int64\n",
      " 20  artist_nationality_Other Nationality  215649 non-null  int64\n",
      " 21  medium_gelatin_silver_print           215649 non-null  int64\n",
      " 22  medium_illustrated_book               215649 non-null  int64\n",
      " 23  medium_marble                         215649 non-null  int64\n",
      " 24  medium_oil_on_canvas                  215649 non-null  int64\n",
      " 25  medium_oil_on_wood                    215649 non-null  int64\n",
      " 26  medium_other                          215649 non-null  int64\n",
      " 27  class_other                           215649 non-null  int64\n",
      " 28  class_paintings                       215649 non-null  int64\n",
      " 29  class_photographs                     215649 non-null  int64\n",
      " 30  class_prints                          215649 non-null  int64\n",
      " 31  class_sculpture                       215649 non-null  int64\n",
      "dtypes: bool(1), int64(31)\n",
      "memory usage: 51.2 MB\n"
     ]
    }
   ],
   "source": [
    "modern.info()"
   ]
  },
  {
   "cell_type": "code",
   "execution_count": 8,
   "id": "a99567cc",
   "metadata": {},
   "outputs": [
    {
     "data": {
      "text/plain": [
       "False    214899\n",
       "True        750\n",
       "Name: highlighted, dtype: int64"
      ]
     },
     "execution_count": 8,
     "metadata": {},
     "output_type": "execute_result"
    }
   ],
   "source": [
    "modern.highlighted.value_counts()"
   ]
  },
  {
   "cell_type": "code",
   "execution_count": 9,
   "id": "c9a8a41f",
   "metadata": {},
   "outputs": [
    {
     "data": {
      "text/plain": [
       "0.0034778737670937494"
      ]
     },
     "execution_count": 9,
     "metadata": {},
     "output_type": "execute_result"
    }
   ],
   "source": [
    "highlight_ratio = len(modern[modern.highlighted])/len(modern)\n",
    "highlight_ratio"
   ]
  },
  {
   "cell_type": "markdown",
   "id": "81a2563a",
   "metadata": {},
   "source": [
    "### Model Evaluation Metrics"
   ]
  },
  {
   "cell_type": "markdown",
   "id": "178fd7bd",
   "metadata": {},
   "source": [
    "This model is being built for when the Met is accepting an object into its collection. As we have agreed on ''highlighted'' as our measure of visibility, a donor would want the piece to be definitely 'highlighted' if they are donating it to the museum indeed. \n",
    "\n",
    "Given the above scenario, let's think about our confusion matrix/ what metrics we care about: \n",
    "- If we have a FN: our model predicts that a donated object will not be highlighted and it actually is. Well this is not horrible to be honest, if someone decides to donate even if the object is not going to be highlighted (GOOD FOR THEM, WE LOVE THEM! TRUE LOVER OF ARTS & CULTURE), then they'd be happily surprised to find out that it is highlighted. \n",
    "- On the other hand, if we have a FP: this is not so good for our model, after all we don't want to mislead a donor telling them this object will most likely be highlighted and then let them down by it not being highlighted. \n",
    "\n",
    "Given the above, our key metric in building this model will be *PRECISION*. "
   ]
  },
  {
   "cell_type": "markdown",
   "id": "29105cd9",
   "metadata": {},
   "source": [
    "### Baselining"
   ]
  },
  {
   "cell_type": "markdown",
   "id": "7a2cf644",
   "metadata": {},
   "source": [
    "We will baseline with a logistic regression model and then see the confusion matrix with the .predict --> hard predict method."
   ]
  },
  {
   "cell_type": "code",
   "execution_count": 10,
   "id": "37a9b80a",
   "metadata": {},
   "outputs": [],
   "source": [
    "x_train, x_test, y_train, y_test = train_test_split(modern.iloc[:, 1:], modern.iloc[:, 0], \n",
    "                                                    test_size = 0.2, random_state=0)"
   ]
  },
  {
   "cell_type": "code",
   "execution_count": 11,
   "id": "83973b19",
   "metadata": {},
   "outputs": [
    {
     "data": {
      "text/plain": [
       "LogisticRegression(C=100, max_iter=500000, solver='liblinear')"
      ]
     },
     "execution_count": 11,
     "metadata": {},
     "output_type": "execute_result"
    }
   ],
   "source": [
    "logreg = LogisticRegression(C=100, solver='liblinear', max_iter=500000)\n",
    "logreg.fit(x_train, y_train)"
   ]
  },
  {
   "cell_type": "markdown",
   "id": "84215db4",
   "metadata": {},
   "source": [
    "**Hard Predictions & Confusion Matrix**"
   ]
  },
  {
   "cell_type": "code",
   "execution_count": 12,
   "id": "d6277e67",
   "metadata": {},
   "outputs": [
    {
     "data": {
      "text/plain": [
       "array([False, False, False, ..., False, False, False])"
      ]
     },
     "execution_count": 12,
     "metadata": {},
     "output_type": "execute_result"
    }
   ],
   "source": [
    "y_predict_hard = logreg.predict(x_test)\n",
    "y_predict_hard"
   ]
  },
  {
   "cell_type": "code",
   "execution_count": 13,
   "id": "b46ce57f",
   "metadata": {},
   "outputs": [
    {
     "data": {
      "text/plain": [
       "array([[42975,     0],\n",
       "       [  126,    29]])"
      ]
     },
     "execution_count": 13,
     "metadata": {},
     "output_type": "execute_result"
    }
   ],
   "source": [
    "logreg_confusion = confusion_matrix(y_test, y_predict_hard)\n",
    "logreg_confusion"
   ]
  },
  {
   "cell_type": "code",
   "execution_count": 14,
   "id": "03406be8",
   "metadata": {},
   "outputs": [
    {
     "data": {
      "image/png": "[encoded data removed]",
      "text/plain": [
       "<Figure size 480x320 with 2 Axes>"
      ]
     },
     "metadata": {
      "needs_background": "light"
     },
     "output_type": "display_data"
    }
   ],
   "source": [
    "plt.figure(dpi=80)\n",
    "sns.heatmap(logreg_confusion, annot=True, \\\n",
    "            xticklabels=['not','highlighted'], yticklabels=['not','highlighted'])\n",
    "plt.xlabel('Highlighting Predicted')\n",
    "plt.ylabel('Highlighting Actual')\n",
    "plt.title('Logreg Confusion Matrix: Modern Met')\n",
    "plt.savefig(\"Logreg Confusion Matrix for Modern Met.png\", bbox_inches='tight');"
   ]
  },
  {
   "cell_type": "markdown",
   "id": "1706e626",
   "metadata": {},
   "source": [
    "**Probability Predictions & Precision Recall Curves**"
   ]
  },
  {
   "cell_type": "markdown",
   "id": "7fa8bb2e",
   "metadata": {},
   "source": [
    "Well, that already gives us a precision score of 1. Let's plot the curves for precision & recall to see if there might be a bit of a gain on the recall side without a huge loss on the presicion side. \n",
    "\n",
    "And the curves show us that we can pull recall up to 0.2 while keeping precision still around 1. "
   ]
  },
  {
   "cell_type": "code",
   "execution_count": 15,
   "id": "2b47f984",
   "metadata": {},
   "outputs": [
    {
     "data": {
      "text/plain": [
       "array([0.00024765, 0.00134233, 0.0002173 , ..., 0.00024674, 0.00091961,\n",
       "       0.00053948])"
      ]
     },
     "execution_count": 15,
     "metadata": {},
     "output_type": "execute_result"
    }
   ],
   "source": [
    "y_predict_prob =logreg.predict_proba(x_test)\n",
    "y_predict_prob = y_predict_prob[:, 1]\n",
    "y_predict_prob"
   ]
  },
  {
   "cell_type": "code",
   "execution_count": 16,
   "id": "29541bf2",
   "metadata": {},
   "outputs": [],
   "source": [
    "precision_curve, recall_curve, threshold_curve = precision_recall_curve(y_test, y_predict_prob)"
   ]
  },
  {
   "cell_type": "code",
   "execution_count": 17,
   "id": "c1077492",
   "metadata": {},
   "outputs": [
    {
     "data": {
      "image/png": "[encoded data removed]",
      "text/plain": [
       "<Figure size 480x320 with 1 Axes>"
      ]
     },
     "metadata": {
      "needs_background": "light"
     },
     "output_type": "display_data"
    }
   ],
   "source": [
    "plt.figure(dpi=80)\n",
    "plt.plot(threshold_curve, precision_curve[1:],label='precision')\n",
    "plt.plot(threshold_curve, recall_curve[1:], label='recall')\n",
    "plt.legend(loc='lower left')\n",
    "plt.xlabel('Threshold (above this probability, label as highlight-possible)');\n",
    "plt.title('Precision and Recall Curves for Modern Met')\n",
    "plt.savefig(\"Precision and Recall Curves for Modern Met.png\", bbox_inches='tight');"
   ]
  },
  {
   "cell_type": "code",
   "execution_count": 18,
   "id": "494de2ad",
   "metadata": {},
   "outputs": [
    {
     "data": {
      "image/png": "[encoded data removed]",
      "text/plain": [
       "<Figure size 480x320 with 1 Axes>"
      ]
     },
     "metadata": {
      "needs_background": "light"
     },
     "output_type": "display_data"
    }
   ],
   "source": [
    "plt.figure(dpi=80)\n",
    "plt.plot(recall_curve[1:], precision_curve[1:],label='precision')\n",
    "plt.xlabel(\"Recall\")\n",
    "plt.ylabel(\"Precision\")\n",
    "plt.title(\"Precision-Recall Curve for Modern Met\")\n",
    "plt.savefig(\"Precision-Recall Curve for Modern Met.png\", bbox_inches='tight');"
   ]
  },
  {
   "cell_type": "code",
   "execution_count": 19,
   "id": "d9cb8c9e",
   "metadata": {},
   "outputs": [],
   "source": [
    "fpr, tpr, thresholds = roc_curve(y_test, y_predict_prob)"
   ]
  },
  {
   "cell_type": "code",
   "execution_count": 20,
   "id": "db589fae",
   "metadata": {},
   "outputs": [
    {
     "name": "stdout",
     "output_type": "stream",
     "text": [
      "ROC AUC score =  0.9418842913171575\n"
     ]
    },
    {
     "data": {
      "image/png": "[encoded data removed]",
      "text/plain": [
       "<Figure size 480x320 with 1 Axes>"
      ]
     },
     "metadata": {
      "needs_background": "light"
     },
     "output_type": "display_data"
    }
   ],
   "source": [
    "plt.figure(dpi=80)\n",
    "\n",
    "plt.plot(fpr, tpr,lw=2)\n",
    "plt.plot([0,1],[0,1],c='violet',ls='--')\n",
    "plt.xlim([-0.05,1.05])\n",
    "plt.ylim([-0.05,1.05])\n",
    "\n",
    "\n",
    "plt.xlabel('False positive rate')\n",
    "plt.ylabel('True positive rate')\n",
    "plt.title('ROC curve for predicting higlighting at the Met Modern Section')\n",
    "plt.savefig(\"ROC curve for predicting higlighting at the Met Modern Section.png\", bbox_inches='tight');\n",
    "print(\"ROC AUC score = \", roc_auc_score(y_test, y_predict_prob))"
   ]
  },
  {
   "cell_type": "markdown",
   "id": "3c9e1f5b",
   "metadata": {},
   "source": [
    "**Scoring**"
   ]
  },
  {
   "cell_type": "markdown",
   "id": "756140ec",
   "metadata": {},
   "source": [
    "Even tho the accuracy is not our score; we see that it is almost 1 - both for train & test sets. "
   ]
  },
  {
   "cell_type": "code",
   "execution_count": 21,
   "id": "b6a08e21",
   "metadata": {},
   "outputs": [
    {
     "name": "stdout",
     "output_type": "stream",
     "text": [
      "Train score: 0.9972814588538074, Test score: 0.9970785995826571\n"
     ]
    }
   ],
   "source": [
    "train_score = logreg.score(x_train, y_train)\n",
    "test_score = logreg.score(x_test, y_test)\n",
    "print(f\"Train score: {train_score}, Test score: {test_score}\")"
   ]
  },
  {
   "cell_type": "code",
   "execution_count": 22,
   "id": "5b15f22b",
   "metadata": {},
   "outputs": [
    {
     "name": "stdout",
     "output_type": "stream",
     "text": [
      "Precision score: 1.0, Recall score: 0.1870967741935484, F1 score: 0.31521739130434784\n"
     ]
    }
   ],
   "source": [
    "logreg_precision = precision_score(y_test, y_predict_hard)\n",
    "logreg_recall = recall_score(y_test, y_predict_hard)\n",
    "logreg_f1 = f1_score(y_test, y_predict_hard)\n",
    "print(f\"Precision score: {logreg_precision}, Recall score: {logreg_recall}, F1 score: {logreg_f1}\")"
   ]
  },
  {
   "cell_type": "code",
   "execution_count": 23,
   "id": "1fbe0a30",
   "metadata": {},
   "outputs": [
    {
     "name": "stdout",
     "output_type": "stream",
     "text": [
      "ROC - AUC score: 0.9418842913171575\n"
     ]
    }
   ],
   "source": [
    "fpr, tpr, thresholds = roc_curve(y_test, y_predict_prob)\n",
    "roc_auc_logreg = roc_auc_score(y_test, y_predict_prob)\n",
    "print(f\"ROC - AUC score: {roc_auc_logreg}\")"
   ]
  },
  {
   "cell_type": "markdown",
   "id": "d022fc57",
   "metadata": {},
   "source": [
    "**Find Threshold for dealing with Class Imbalance (Manually)**"
   ]
  },
  {
   "cell_type": "markdown",
   "id": "19efe9f4",
   "metadata": {},
   "source": [
    "Manually tweaking the threshold for dealing with the class imbalance after the training is finished, we find that the threshold above which precision becomes one is 0.34. "
   ]
  },
  {
   "cell_type": "code",
   "execution_count": 25,
   "id": "6298f09f",
   "metadata": {},
   "outputs": [
    {
     "name": "stdout",
     "output_type": "stream",
     "text": [
      "          0         1\n",
      "0  0.999752  0.000248\n",
      "1  0.998658  0.001342\n",
      "2  0.999783  0.000217\n",
      "3  0.998555  0.001445\n",
      "4  0.998177  0.001823\n",
      "5  0.999828  0.000172\n",
      "6  0.999869  0.000131\n",
      "7  0.969693  0.030307\n",
      "8  0.999821  0.000179\n",
      "9  0.999748  0.000252\n",
      "\n",
      "******** For i = 0.05 ******\n",
      "Our testing precision is 0.13136288998357964\n",
      "[[42446   529]\n",
      " [   75    80]]\n",
      "\n",
      "******** For i = 0.1 ******\n",
      "Our testing precision is 0.47191011235955055\n",
      "[[42928    47]\n",
      " [  113    42]]\n",
      "\n",
      "******** For i = 0.15 ******\n",
      "Our testing precision is 0.5316455696202531\n",
      "[[42938    37]\n",
      " [  113    42]]\n",
      "\n",
      "******** For i = 0.2 ******\n",
      "Our testing precision is 0.6065573770491803\n",
      "[[42951    24]\n",
      " [  118    37]]\n",
      "\n",
      "******** For i = 0.25 ******\n",
      "Our testing precision is 0.7674418604651163\n",
      "[[42965    10]\n",
      " [  122    33]]\n",
      "\n",
      "******** For i = 0.3 ******\n",
      "Our testing precision is 0.8857142857142857\n",
      "[[42971     4]\n",
      " [  124    31]]\n",
      "\n",
      "******** For i = 0.35 ******\n",
      "Our testing precision is 1.0\n",
      "[[42975     0]\n",
      " [  126    29]]\n",
      "\n",
      "******** For i = 0.4 ******\n",
      "Our testing precision is 1.0\n",
      "[[42975     0]\n",
      " [  126    29]]\n",
      "\n",
      "******** For i = 0.45 ******\n",
      "Our testing precision is 1.0\n",
      "[[42975     0]\n",
      " [  126    29]]\n",
      "\n",
      "******** For i = 0.5 ******\n",
      "Our testing precision is 1.0\n",
      "[[42975     0]\n",
      " [  126    29]]\n",
      "\n",
      "******** For i = 0.55 ******\n",
      "Our testing precision is 1.0\n",
      "[[42975     0]\n",
      " [  126    29]]\n",
      "\n",
      "******** For i = 0.6 ******\n",
      "Our testing precision is 1.0\n",
      "[[42975     0]\n",
      " [  126    29]]\n",
      "\n",
      "******** For i = 0.65 ******\n",
      "Our testing precision is 1.0\n",
      "[[42975     0]\n",
      " [  126    29]]\n",
      "\n",
      "******** For i = 0.7 ******\n",
      "Our testing precision is 1.0\n",
      "[[42975     0]\n",
      " [  126    29]]\n",
      "\n",
      "******** For i = 0.75 ******\n",
      "Our testing precision is 1.0\n",
      "[[42975     0]\n",
      " [  126    29]]\n",
      "\n",
      "******** For i = 0.8 ******\n",
      "Our testing precision is 1.0\n",
      "[[42975     0]\n",
      " [  127    28]]\n",
      "\n",
      "******** For i = 0.85 ******\n",
      "Our testing precision is 1.0\n",
      "[[42975     0]\n",
      " [  127    28]]\n",
      "\n",
      "******** For i = 0.9 ******\n",
      "Our testing precision is 1.0\n",
      "[[42975     0]\n",
      " [  146     9]]\n",
      "\n",
      "******** For i = 0.95 ******\n",
      "Our testing precision is 1.0\n",
      "[[42975     0]\n",
      " [  147     8]]\n",
      "\n",
      "******** For i = 0.99 ******\n",
      "Our testing precision is 1.0\n",
      "[[42975     0]\n",
      " [  154     1]]\n"
     ]
    }
   ],
   "source": [
    "y_pred_prob_df = pd.DataFrame(logreg.predict_proba(x_test))\n",
    "print(y_pred_prob_df.iloc[:10, :])\n",
    "threshold_list = [0.05,0.1,0.15,0.2,0.25,0.3,0.35,0.4,0.45,0.5,0.55,0.6,0.65,.7,.75,.8,.85,.9,.95,.99]\n",
    "for i in threshold_list:\n",
    "    print ('\\n******** For i = {} ******'.format(i))\n",
    "    Y_test_pred = y_pred_prob_df.applymap(lambda x: 1 if x>i else 0)\n",
    "    test_precision = precision_score(y_test, Y_test_pred.iloc[:,1])\n",
    "    print('Our testing precision is {}'.format(test_precision))\n",
    "\n",
    "    print(confusion_matrix(y_test, Y_test_pred.iloc[:,1]))"
   ]
  },
  {
   "cell_type": "code",
   "execution_count": 26,
   "id": "13816b47",
   "metadata": {},
   "outputs": [
    {
     "data": {
      "text/plain": [
       "1.0"
      ]
     },
     "execution_count": 26,
     "metadata": {},
     "output_type": "execute_result"
    }
   ],
   "source": [
    "y_pred_prob_df = pd.DataFrame(logreg.predict_proba(x_test))\n",
    "Y_test_pred = y_pred_prob_df.applymap(lambda x: 1 if x>0.334679 else 0)\n",
    "test_precision = precision_score(y_test, Y_test_pred.iloc[:,1])\n",
    "test_precision"
   ]
  },
  {
   "cell_type": "markdown",
   "id": "c12add57",
   "metadata": {},
   "source": [
    "**Class Imbalance (Plotting)**"
   ]
  },
  {
   "cell_type": "code",
   "execution_count": 27,
   "id": "dbae4181",
   "metadata": {},
   "outputs": [
    {
     "name": "stdout",
     "output_type": "stream",
     "text": [
      "Logistic Regression Model best Precision score 1.000 at prob decision threshold >= 0.334635\n"
     ]
    },
    {
     "data": {
      "image/png": "[encoded data removed]",
      "text/plain": [
       "<Figure size 432x288 with 1 Axes>"
      ]
     },
     "metadata": {
      "needs_background": "light"
     },
     "output_type": "display_data"
    }
   ],
   "source": [
    "X_val, y_val = x_test, y_test \n",
    "\n",
    "# we'll look at a 1000 threshold points between 0.10 and 0.50 \n",
    "thresh_ps = np.linspace(.10,.50,1000)\n",
    "# let's get the probabilities for the target class for the model. \n",
    "model_val_probs = logreg.predict_proba(X_val)[:,1] \n",
    "\n",
    "# here we look through all the 1000 thresholds and for each: \n",
    "# we note whether the target is 'highlight'or 'not highlight'\n",
    "# then we get the following scores and append them to a list: \n",
    "# f1, precision, recall and accuracy. \n",
    "f1_scores, prec_scores, rec_scores, acc_scores = [], [], [], []\n",
    "for p in thresh_ps:\n",
    "    model_val_labels = model_val_probs >= p\n",
    "    f1_scores.append(f1_score(y_val, model_val_labels))    \n",
    "    prec_scores.append(precision_score(y_val, model_val_labels))\n",
    "    rec_scores.append(recall_score(y_val, model_val_labels))\n",
    "    acc_scores.append(accuracy_score(y_val, model_val_labels))\n",
    "    \n",
    "# next plot the thresholds to the list of f1, pre, recall, acc scores.    \n",
    "plt.plot(thresh_ps, f1_scores)\n",
    "plt.plot(thresh_ps, prec_scores)\n",
    "plt.plot(thresh_ps, rec_scores)\n",
    "plt.plot(thresh_ps, acc_scores)\n",
    "\n",
    "plt.title('Metric Scores vs. Positive Class Decision Probability Threshold')\n",
    "plt.legend(['F1','Precision','Recall','Accuracy'], bbox_to_anchor=(1.05, 0), loc='lower left')\n",
    "plt.xlabel('P threshold')\n",
    "plt.ylabel('Metric score')\n",
    "\n",
    "# get the best f1 score so as to have it \n",
    "# but most importantly get the precision score and\n",
    "# the threshold at which that precision score is obtained \n",
    "best_f1_score = np.max(f1_scores) \n",
    "best_prec_score = np.max(prec_scores)\n",
    "best_thresh_p = thresh_ps[np.argmax(prec_scores)]\n",
    "\n",
    "print('Logistic Regression Model best Precision score %.3f at prob decision threshold >= %.6f' \n",
    "      % (best_prec_score, best_thresh_p))"
   ]
  },
  {
   "cell_type": "code",
   "execution_count": 28,
   "id": "3d3de74e",
   "metadata": {},
   "outputs": [
    {
     "data": {
      "image/png": "[encoded data removed]",
      "text/plain": [
       "<Figure size 480x320 with 2 Axes>"
      ]
     },
     "metadata": {
      "needs_background": "light"
     },
     "output_type": "display_data"
    }
   ],
   "source": [
    "plt.figure(dpi=80)\n",
    "sns.heatmap(logreg_confusion, annot=True, \\\n",
    "            xticklabels=['not','highlighted'], yticklabels=['not','highlighted'])\n",
    "plt.xlabel('Highlighting Predicted')\n",
    "plt.ylabel('Highlighting Actual')\n",
    "plt.title('Logreg Confusion Matrix: Modern Met')\n",
    "plt.savefig(\"Logreg Confusion Matrix for Modern Met.png\", bbox_inches='tight');"
   ]
  }
 ],
 "metadata": {
  "kernelspec": {
   "display_name": "Python 3 (ipykernel)",
   "language": "python",
   "name": "python3"
  },
  "language_info": {
   "codemirror_mode": {
    "name": "ipython",
    "version": 3
   },
   "file_extension": ".py",
   "mimetype": "text/x-python",
   "name": "python",
   "nbconvert_exporter": "python",
   "pygments_lexer": "ipython3",
   "version": "3.8.5"
  }
 },
 "nbformat": 4,
 "nbformat_minor": 5
}
