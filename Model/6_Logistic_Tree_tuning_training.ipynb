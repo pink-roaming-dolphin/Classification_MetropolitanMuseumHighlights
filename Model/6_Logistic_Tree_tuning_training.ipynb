{
 "cells": [
  {
   "cell_type": "code",
   "execution_count": 1,
   "id": "5018b5b1",
   "metadata": {},
   "outputs": [],
   "source": [
    "import numpy as np\n",
    "import pandas as pd \n",
    "import matplotlib.pyplot as plt\n",
    "import seaborn as sns"
   ]
  },
  {
   "cell_type": "code",
   "execution_count": 2,
   "id": "a7a0b839",
   "metadata": {},
   "outputs": [],
   "source": [
    "from sklearn.linear_model import LogisticRegression\n",
    "from sklearn.preprocessing import StandardScaler\n",
    "from sklearn.preprocessing import PolynomialFeatures\n",
    "\n",
    "from sklearn.model_selection import train_test_split, cross_val_score, cross_validate\n",
    "\n",
    "from sklearn.metrics import precision_score, recall_score, accuracy_score, precision_recall_curve, roc_curve\n",
    "from sklearn.metrics import confusion_matrix\n",
    "from sklearn.metrics import f1_score, roc_auc_score"
   ]
  },
  {
   "cell_type": "code",
   "execution_count": 3,
   "id": "a13f7c08",
   "metadata": {},
   "outputs": [],
   "source": [
    "modern = pd.read_csv(\"modern_met_fe.csv\")"
   ]
  },
  {
   "cell_type": "code",
   "execution_count": 4,
   "id": "803882ac",
   "metadata": {},
   "outputs": [],
   "source": [
    "modern.highlighted = modern.highlighted.apply(lambda x: 1 if x == True else 0)"
   ]
  },
  {
   "cell_type": "code",
   "execution_count": 5,
   "id": "7efcc3b3",
   "metadata": {},
   "outputs": [
    {
     "data": {
      "text/plain": [
       "Index(['highlighted', 'obj_year', 'department_drawings_and_prints',\n",
       "       'department_european_paintings', 'department_modern_and_cont_art',\n",
       "       'department_photographs', 'department_robert_lehman',\n",
       "       'department_libraries', 'other_obj_name', 'obj_name_painting',\n",
       "       'obj_name_photo', 'obj_name_print', 'obj_name_sculpture',\n",
       "       'obj_name_watercolor', 'artist_role_author', 'artist_role_other',\n",
       "       'artist_role_publisher', 'artist_nationality_bgdns',\n",
       "       'artist_nationality_french', 'artist_nationality_italian',\n",
       "       'artist_nationality_Other Nationality', 'medium_gelatin_silver_print',\n",
       "       'medium_illustrated_book', 'medium_marble', 'medium_oil_on_canvas',\n",
       "       'medium_oil_on_wood', 'medium_other', 'class_other', 'class_paintings',\n",
       "       'class_photographs', 'class_prints', 'class_sculpture'],\n",
       "      dtype='object')"
      ]
     },
     "execution_count": 5,
     "metadata": {},
     "output_type": "execute_result"
    }
   ],
   "source": [
    "modern.columns"
   ]
  },
  {
   "cell_type": "markdown",
   "id": "c5f6b37c",
   "metadata": {},
   "source": [
    "**Target class ratios as well as the total sum of Positives**"
   ]
  },
  {
   "cell_type": "code",
   "execution_count": 6,
   "id": "550c3a01",
   "metadata": {},
   "outputs": [
    {
     "data": {
      "text/plain": [
       "0.0034778737670937494"
      ]
     },
     "execution_count": 6,
     "metadata": {},
     "output_type": "execute_result"
    }
   ],
   "source": [
    "modern.highlighted.mean()"
   ]
  },
  {
   "cell_type": "code",
   "execution_count": 7,
   "id": "6681cbaa",
   "metadata": {},
   "outputs": [
    {
     "data": {
      "text/plain": [
       "750"
      ]
     },
     "execution_count": 7,
     "metadata": {},
     "output_type": "execute_result"
    }
   ],
   "source": [
    "modern.highlighted.sum()"
   ]
  },
  {
   "cell_type": "markdown",
   "id": "392e9ef4",
   "metadata": {},
   "source": [
    "Our lovely class imbalance in the target class is staring at us. We will deal with this both through threshold shifting after we build our models as well as during model training by looking at class balances. "
   ]
  },
  {
   "cell_type": "markdown",
   "id": "6568b43d",
   "metadata": {},
   "source": [
    "**Getting set up with train and validation sets**"
   ]
  },
  {
   "cell_type": "code",
   "execution_count": 8,
   "id": "2e7ee338",
   "metadata": {},
   "outputs": [],
   "source": [
    "X, y = modern.iloc[:, 1:], modern.iloc[:, 0]"
   ]
  },
  {
   "cell_type": "code",
   "execution_count": 9,
   "id": "c5e3362d",
   "metadata": {},
   "outputs": [],
   "source": [
    "scaler = StandardScaler()\n",
    "X['obj_year'] = scaler.fit_transform(X.loc[:, 'obj_year'].values.reshape(-1, 1))"
   ]
  },
  {
   "cell_type": "code",
   "execution_count": 10,
   "id": "21a7dcaa",
   "metadata": {},
   "outputs": [],
   "source": [
    "X_train_all, X_test, y_train_all, y_test = train_test_split(X, y, test_size=0.2, random_state=2)\n",
    "X_train, X_val, y_train, y_val = train_test_split(X_train_all, y_train_all, test_size=.25, random_state=4)"
   ]
  },
  {
   "cell_type": "markdown",
   "id": "d7b2b165",
   "metadata": {},
   "source": [
    "We'll add our features consecutively in Part 1 to see how our scores improve and at the end, plot these scores to see what happened with the addition of each feature group. We will train our models with class weights 4:1, but then at the end will try out other class weights to see if there is an improvement. "
   ]
  },
  {
   "cell_type": "markdown",
   "id": "9a1d24ea",
   "metadata": {},
   "source": [
    "# Part 1: Feature Engineering"
   ]
  },
  {
   "cell_type": "markdown",
   "id": "19c86361",
   "metadata": {},
   "source": [
    "As we keep adding features, let's keep adding scores to a list so that we can compare them at the end. "
   ]
  },
  {
   "cell_type": "code",
   "execution_count": 11,
   "id": "9f7cf202",
   "metadata": {},
   "outputs": [],
   "source": [
    "precision_scores = []\n",
    "recall_scores = []\n",
    "f1_scores = []\n",
    "accuracy_scores = []\n",
    "fp_num = []\n",
    "tp_num = []\n",
    "fn_num = []\n",
    "tn_num = []\n",
    "feature_group = []"
   ]
  },
  {
   "cell_type": "markdown",
   "id": "2bcd76a5",
   "metadata": {},
   "source": [
    "**Helper Functions**"
   ]
  },
  {
   "cell_type": "code",
   "execution_count": 12,
   "id": "ca1317c0",
   "metadata": {},
   "outputs": [],
   "source": [
    "def build_visualize(X, y): \n",
    "    lr = LogisticRegression(class_weight={1 : 4, 0 : 1}, C=100, solver='liblinear', max_iter=500000)\n",
    "    lr.fit(X, y)\n",
    "    \n",
    "    y_predict_prob = lr.predict_proba(X)\n",
    "    y_predict_prob = y_predict_prob[:, 1]\n",
    "    precision_curve, recall_curve, threshold_curve = precision_recall_curve(y, y_predict_prob)\n",
    "\n",
    "    fig, axes = plt.subplots(nrows=2, ncols=2)\n",
    "    fig.tight_layout()\n",
    "\n",
    "    plt.subplot(1, 2, 1)\n",
    "    fpr, tpr, thresholds = roc_curve(y, y_predict_prob)\n",
    "    plt.plot(fpr, tpr,lw=2)\n",
    "    plt.plot([0,1],[0,1],c='violet',ls='--')\n",
    "    plt.xlim([-0.05,1.05])\n",
    "    plt.ylim([-0.05,1.05])\n",
    "    plt.xlabel('False positive rate')\n",
    "    plt.ylabel('True positive rate')\n",
    "    plt.title('ROC curve for predicting higlighting')\n",
    "    print(\"ROC AUC score = \", roc_auc_score(y, y_predict_prob)); \n",
    "    \n",
    "    plt.subplot(1, 2, 2)\n",
    "    plt.plot(threshold_curve, precision_curve[1:],label='precision')\n",
    "    plt.plot(threshold_curve, recall_curve[1:], label='recall')\n",
    "    plt.legend(loc='lower left')\n",
    "    plt.xlabel('Threshold (above which highlight-possible)')\n",
    "    plt.title('Precision and Recall Curves');\n",
    "\n",
    "    return lr "
   ]
  },
  {
   "cell_type": "code",
   "execution_count": 13,
   "id": "736a7211",
   "metadata": {},
   "outputs": [],
   "source": [
    "def threshold_for_imbalance(model, X, y): \n",
    "    thresh_pts = np.linspace(.10,.50,1000)\n",
    "    model_pred_probs = model.predict_proba(X)[:,1] \n",
    "\n",
    "    f1_scores, prec_scores, rec_scores, acc_scores = [], [], [], []\n",
    "    for p in thresh_pts:\n",
    "        model_pred_adjusted = model_pred_probs >= p\n",
    "        f1_scores.append(f1_score(y, model_pred_adjusted))    \n",
    "        prec_scores.append(precision_score(y, model_pred_adjusted))\n",
    "        rec_scores.append(recall_score(y, model_pred_adjusted))\n",
    "        acc_scores.append(accuracy_score(y, model_pred_adjusted))\n",
    "\n",
    "#     #UNCOMMENT IF YOU ALSO WANT TO SEE PLOTS FOR THIS \n",
    "#     plt.plot(thresh_pts, f1_scores)\n",
    "#     plt.plot(thresh_pts, prec_scores)\n",
    "#     plt.plot(thresh_pts, rec_scores)\n",
    "#     plt.plot(thresh_pts, acc_scores)\n",
    "\n",
    "#     plt.title('Metric Scores vs. Positive Class Decision Probability Threshold')\n",
    "#     plt.legend(['F1','Precision','Recall','Accuracy'], bbox_to_anchor=(1.05, 0), loc='lower left')\n",
    "#     plt.xlabel('P threshold')\n",
    "#     plt.ylabel('Metric score')\n",
    "\n",
    "    # SETTING FOR THRESHOLD: \n",
    "    # This is setting the threshold to be at where the best precision score is achieved. \n",
    "    best_f1_score = np.max(f1_scores) \n",
    "    best_prec_score = np.max(prec_scores)\n",
    "    best_thresh_p = thresh_pts[np.argmax(prec_scores)]\n",
    "\n",
    "    print('Logistic Regression best Precision score %.3f at Prob Decision Threshold >= %.4f' \n",
    "          % (best_prec_score, best_thresh_p))\n",
    "\n",
    "#     #THIS IS A TRY WITH F1 SCORES BEING THE METRIC\n",
    "#     best_f1_score = np.max(f1_scores) \n",
    "#     best_prec_score = np.max(prec_scores)\n",
    "#     best_thresh_p = thresh_pts[np.argmax(f1_scores)]\n",
    "#     print('Logistic Regression best Precision score %.3f at Prob Decision Threshold >= %.4f' \n",
    "#           % (best_f1_score, best_thresh_p))\n",
    "\n",
    "    return best_thresh_p"
   ]
  },
  {
   "cell_type": "code",
   "execution_count": 14,
   "id": "55e150ed",
   "metadata": {},
   "outputs": [],
   "source": [
    "def model_score(model, threshold, X_test, y_test):\n",
    "    model_accuracy = model.score(X_test, y_test)\n",
    "    fpr, tpr, thresholds = roc_curve(y_test, model.predict_proba(X_test)[:,1])\n",
    "    y_predict_hard = (model.predict_proba(X_test)[:,1] >= threshold).astype(bool)\n",
    "    model_precision = precision_score(y_test, y_predict_hard)\n",
    "    model_recall = recall_score(y_test, y_predict_hard)\n",
    "    model_f1 = f1_score(y_test, y_predict_hard)\n",
    "    print(f\"Accuracy score: {model_accuracy}\")\n",
    "    print(\"After adjusting for threshold -\")\n",
    "    print(f\"Precision score: {model_precision}, Recall score: {model_recall}, F1 score: {model_f1}\")\n",
    "    precision_scores.append(model_precision)\n",
    "    recall_scores.append(model_recall)\n",
    "    f1_scores.append(model_f1)\n",
    "    accuracy_scores.append(model_accuracy)"
   ]
  },
  {
   "cell_type": "code",
   "execution_count": 15,
   "id": "1a70ac6d",
   "metadata": {},
   "outputs": [],
   "source": [
    "def model_confusion_matrix(model, threshold, X_test, y_test): \n",
    "    y_predict_hard = (model.predict_proba(X_test)[:,1] >= threshold).astype(bool)\n",
    "    lr_confusion = confusion_matrix(y_test, y_predict_hard)\n",
    "    print(lr_confusion)\n",
    "    fp = lr_confusion[0][1]\n",
    "    tp = lr_confusion[1][1]\n",
    "    tn = lr_confusion[0][1]\n",
    "    fn = lr_confusion[1][0]\n",
    "    \n",
    "    sns.heatmap(lr_confusion, annot=True, \\\n",
    "                xticklabels=['not','highlighted'], yticklabels=['not','highlighted'])\n",
    "    plt.xlabel('Highlighting Predicted')\n",
    "    plt.ylabel('Highlighting Actual')\n",
    "    \n",
    "    fp_num.append(fp)\n",
    "    tp_num.append(tp)\n",
    "    tn_num.append(tn)\n",
    "    fn_num.append(fn)"
   ]
  },
  {
   "cell_type": "markdown",
   "id": "8db4507a",
   "metadata": {},
   "source": [
    "## Try 1: Fit with only Department Features"
   ]
  },
  {
   "cell_type": "code",
   "execution_count": 16,
   "id": "b21cf4c8",
   "metadata": {},
   "outputs": [],
   "source": [
    "# Choose the Department features\n",
    "X_train_FE1_Dept = X_train[['department_drawings_and_prints',\n",
    "       'department_european_paintings', 'department_modern_and_cont_art',\n",
    "       'department_photographs', 'department_robert_lehman',\n",
    "       'department_libraries']]\n",
    "X_val_FE1_Dept = X_val[['department_drawings_and_prints',\n",
    "       'department_european_paintings', 'department_modern_and_cont_art',\n",
    "       'department_photographs', 'department_robert_lehman',\n",
    "       'department_libraries']]\n",
    "feature_group.append(\"Department added\")"
   ]
  },
  {
   "cell_type": "code",
   "execution_count": 17,
   "id": "14067933",
   "metadata": {
    "scrolled": true
   },
   "outputs": [
    {
     "name": "stdout",
     "output_type": "stream",
     "text": [
      "ROC AUC score =  0.8974419255961691\n"
     ]
    },
    {
     "data": {
      "image/png": "[encoded data removed]",
      "text/plain": [
       "<Figure size 432x288 with 2 Axes>"
      ]
     },
     "metadata": {
      "needs_background": "light"
     },
     "output_type": "display_data"
    }
   ],
   "source": [
    "model = build_visualize(X_train_FE1_Dept, y_train)"
   ]
  },
  {
   "cell_type": "code",
   "execution_count": 18,
   "id": "4babfab9",
   "metadata": {},
   "outputs": [
    {
     "name": "stdout",
     "output_type": "stream",
     "text": [
      "Logistic Regression best Precision score 1.000 at Prob Decision Threshold >= 0.1376\n"
     ]
    }
   ],
   "source": [
    "threshold = threshold_for_imbalance(model, X_train_FE1_Dept, y_train)"
   ]
  },
  {
   "cell_type": "code",
   "execution_count": 19,
   "id": "3490006d",
   "metadata": {},
   "outputs": [
    {
     "name": "stdout",
     "output_type": "stream",
     "text": [
      "Accuracy score: 0.9973336424762347\n",
      "After adjusting for threshold -\n",
      "Precision score: 1.0, Recall score: 0.19014084507042253, F1 score: 0.31952662721893493\n"
     ]
    }
   ],
   "source": [
    "model_score(model, threshold, X_val_FE1_Dept, y_val)"
   ]
  },
  {
   "cell_type": "code",
   "execution_count": 20,
   "id": "5ad3dc28",
   "metadata": {},
   "outputs": [
    {
     "name": "stdout",
     "output_type": "stream",
     "text": [
      "[[42988     0]\n",
      " [  115    27]]\n"
     ]
    },
    {
     "data": {
      "image/png": "[encoded data removed]",
      "text/plain": [
       "<Figure size 432x288 with 2 Axes>"
      ]
     },
     "metadata": {
      "needs_background": "light"
     },
     "output_type": "display_data"
    }
   ],
   "source": [
    "model_confusion_matrix(model, threshold, X_val_FE1_Dept, y_val)"
   ]
  },
  {
   "cell_type": "markdown",
   "id": "f9d4b35e",
   "metadata": {},
   "source": [
    "## Try 2: Fit with Department & Object Name Features"
   ]
  },
  {
   "cell_type": "code",
   "execution_count": 21,
   "id": "b2b46041",
   "metadata": {},
   "outputs": [],
   "source": [
    "# Choose the Department & Object Name features\n",
    "X_train_FE2 = X_train[['department_drawings_and_prints',\n",
    "       'department_european_paintings', 'department_modern_and_cont_art',\n",
    "       'department_photographs', 'department_robert_lehman',\n",
    "       'department_libraries', 'other_obj_name', 'obj_name_painting',\n",
    "       'obj_name_photo', 'obj_name_print', 'obj_name_sculpture',\n",
    "       'obj_name_watercolor']]\n",
    "X_val_FE2 = X_val[['department_drawings_and_prints',\n",
    "       'department_european_paintings', 'department_modern_and_cont_art',\n",
    "       'department_photographs', 'department_robert_lehman',\n",
    "       'department_libraries', 'other_obj_name', 'obj_name_painting',\n",
    "       'obj_name_photo', 'obj_name_print', 'obj_name_sculpture',\n",
    "       'obj_name_watercolor']]\n",
    "feature_group.append(\"Object Name added\")"
   ]
  },
  {
   "cell_type": "code",
   "execution_count": 22,
   "id": "77355f33",
   "metadata": {},
   "outputs": [
    {
     "name": "stdout",
     "output_type": "stream",
     "text": [
      "ROC AUC score =  0.9220912731343245\n"
     ]
    },
    {
     "data": {
      "image/png": "[encoded data removed]",
      "text/plain": [
       "<Figure size 432x288 with 2 Axes>"
      ]
     },
     "metadata": {
      "needs_background": "light"
     },
     "output_type": "display_data"
    }
   ],
   "source": [
    "model = build_visualize(X_train_FE2, y_train)"
   ]
  },
  {
   "cell_type": "code",
   "execution_count": 23,
   "id": "342a9ebf",
   "metadata": {},
   "outputs": [
    {
     "name": "stdout",
     "output_type": "stream",
     "text": [
      "Logistic Regression best Precision score 1.000 at Prob Decision Threshold >= 0.4295\n"
     ]
    }
   ],
   "source": [
    "threshold = threshold_for_imbalance(model, X_train_FE2, y_train)"
   ]
  },
  {
   "cell_type": "code",
   "execution_count": 24,
   "id": "c78fd578",
   "metadata": {},
   "outputs": [
    {
     "name": "stdout",
     "output_type": "stream",
     "text": [
      "Accuracy score: 0.9973336424762347\n",
      "After adjusting for threshold -\n",
      "Precision score: 1.0, Recall score: 0.19014084507042253, F1 score: 0.31952662721893493\n"
     ]
    }
   ],
   "source": [
    "model_score(model, threshold, X_val_FE2, y_val)"
   ]
  },
  {
   "cell_type": "code",
   "execution_count": 25,
   "id": "9a52e786",
   "metadata": {},
   "outputs": [
    {
     "name": "stdout",
     "output_type": "stream",
     "text": [
      "[[42988     0]\n",
      " [  115    27]]\n"
     ]
    },
    {
     "data": {
      "image/png": "[encoded data removed]",
      "text/plain": [
       "<Figure size 432x288 with 2 Axes>"
      ]
     },
     "metadata": {
      "needs_background": "light"
     },
     "output_type": "display_data"
    }
   ],
   "source": [
    "model_confusion_matrix(model, threshold, X_val_FE2, y_val)"
   ]
  },
  {
   "cell_type": "markdown",
   "id": "c8e6d592",
   "metadata": {},
   "source": [
    "## Try 3: Fit with Department & Object Name & Artist Role Features"
   ]
  },
  {
   "cell_type": "code",
   "execution_count": 26,
   "id": "572c3015",
   "metadata": {},
   "outputs": [],
   "source": [
    "# Choose the Department & Object Name & Artist Role features\n",
    "X_train_FE3 = X_train[['department_drawings_and_prints',\n",
    "       'department_european_paintings', 'department_modern_and_cont_art',\n",
    "       'department_photographs', 'department_robert_lehman',\n",
    "       'department_libraries', 'other_obj_name', 'obj_name_painting',\n",
    "       'obj_name_photo', 'obj_name_print', 'obj_name_sculpture',\n",
    "       'obj_name_watercolor', 'artist_role_author', 'artist_role_other',\n",
    "       'artist_role_publisher']]\n",
    "X_val_FE3 = X_val[['department_drawings_and_prints',\n",
    "       'department_european_paintings', 'department_modern_and_cont_art',\n",
    "       'department_photographs', 'department_robert_lehman',\n",
    "       'department_libraries', 'other_obj_name', 'obj_name_painting',\n",
    "       'obj_name_photo', 'obj_name_print', 'obj_name_sculpture',\n",
    "       'obj_name_watercolor', 'artist_role_author', 'artist_role_other',\n",
    "       'artist_role_publisher']]\n",
    "feature_group.append(\"Artist Role added\")"
   ]
  },
  {
   "cell_type": "code",
   "execution_count": 27,
   "id": "7d0615f8",
   "metadata": {},
   "outputs": [
    {
     "name": "stdout",
     "output_type": "stream",
     "text": [
      "ROC AUC score =  0.9294123233122294\n"
     ]
    },
    {
     "data": {
      "image/png": "[encoded data removed]",
      "text/plain": [
       "<Figure size 432x288 with 2 Axes>"
      ]
     },
     "metadata": {
      "needs_background": "light"
     },
     "output_type": "display_data"
    }
   ],
   "source": [
    "model = build_visualize(X_train_FE3, y_train)"
   ]
  },
  {
   "cell_type": "code",
   "execution_count": 28,
   "id": "c6910cba",
   "metadata": {},
   "outputs": [
    {
     "name": "stdout",
     "output_type": "stream",
     "text": [
      "Logistic Regression best Precision score 1.000 at Prob Decision Threshold >= 0.4427\n"
     ]
    }
   ],
   "source": [
    "threshold = threshold_for_imbalance(model, X_train_FE3, y_train)"
   ]
  },
  {
   "cell_type": "code",
   "execution_count": 29,
   "id": "6c230f72",
   "metadata": {},
   "outputs": [
    {
     "name": "stdout",
     "output_type": "stream",
     "text": [
      "Accuracy score: 0.9973336424762347\n",
      "After adjusting for threshold -\n",
      "Precision score: 1.0, Recall score: 0.19014084507042253, F1 score: 0.31952662721893493\n"
     ]
    }
   ],
   "source": [
    "model_score(model, threshold, X_val_FE3, y_val)"
   ]
  },
  {
   "cell_type": "code",
   "execution_count": 30,
   "id": "4b71cb54",
   "metadata": {},
   "outputs": [
    {
     "name": "stdout",
     "output_type": "stream",
     "text": [
      "[[42988     0]\n",
      " [  115    27]]\n"
     ]
    },
    {
     "data": {
      "image/png": "[encoded data removed]",
      "text/plain": [
       "<Figure size 432x288 with 2 Axes>"
      ]
     },
     "metadata": {
      "needs_background": "light"
     },
     "output_type": "display_data"
    }
   ],
   "source": [
    "model_confusion_matrix(model, threshold, X_val_FE3, y_val)"
   ]
  },
  {
   "cell_type": "markdown",
   "id": "4eb45798",
   "metadata": {},
   "source": [
    "## Try 4: Fit with Department & Object Name & Artist Role & Artist Nationality Features"
   ]
  },
  {
   "cell_type": "code",
   "execution_count": 31,
   "id": "6068f635",
   "metadata": {},
   "outputs": [],
   "source": [
    "# Choose the Department & Object Name & Artist Role features\n",
    "X_train_FE4 = X_train[['department_drawings_and_prints',\n",
    "       'department_european_paintings', 'department_modern_and_cont_art',\n",
    "       'department_photographs', 'department_robert_lehman',\n",
    "       'department_libraries', 'other_obj_name', 'obj_name_painting',\n",
    "       'obj_name_photo', 'obj_name_print', 'obj_name_sculpture',\n",
    "       'obj_name_watercolor', 'artist_role_author', 'artist_role_other',\n",
    "       'artist_role_publisher', 'artist_nationality_bgdns',\n",
    "       'artist_nationality_french', 'artist_nationality_italian',\n",
    "       'artist_nationality_Other Nationality']]\n",
    "X_val_FE4 = X_val[['department_drawings_and_prints',\n",
    "       'department_european_paintings', 'department_modern_and_cont_art',\n",
    "       'department_photographs', 'department_robert_lehman',\n",
    "       'department_libraries', 'other_obj_name', 'obj_name_painting',\n",
    "       'obj_name_photo', 'obj_name_print', 'obj_name_sculpture',\n",
    "       'obj_name_watercolor', 'artist_role_author', 'artist_role_other',\n",
    "       'artist_role_publisher', 'artist_nationality_bgdns',\n",
    "       'artist_nationality_french', 'artist_nationality_italian',\n",
    "       'artist_nationality_Other Nationality']]\n",
    "feature_group.append(\"Artist Nationality added\")"
   ]
  },
  {
   "cell_type": "code",
   "execution_count": 32,
   "id": "41a0cb6d",
   "metadata": {},
   "outputs": [
    {
     "name": "stdout",
     "output_type": "stream",
     "text": [
      "ROC AUC score =  0.9340141979282193\n"
     ]
    },
    {
     "data": {
      "image/png": "[encoded data removed]",
      "text/plain": [
       "<Figure size 432x288 with 2 Axes>"
      ]
     },
     "metadata": {
      "needs_background": "light"
     },
     "output_type": "display_data"
    }
   ],
   "source": [
    "model = build_visualize(X_train_FE4, y_train)"
   ]
  },
  {
   "cell_type": "code",
   "execution_count": 33,
   "id": "7790a976",
   "metadata": {},
   "outputs": [
    {
     "name": "stdout",
     "output_type": "stream",
     "text": [
      "Logistic Regression best Precision score 0.614 at Prob Decision Threshold >= 0.4576\n"
     ]
    }
   ],
   "source": [
    "threshold = threshold_for_imbalance(model, X_train_FE4, y_train)"
   ]
  },
  {
   "cell_type": "code",
   "execution_count": 34,
   "id": "52ae5003",
   "metadata": {},
   "outputs": [
    {
     "name": "stdout",
     "output_type": "stream",
     "text": [
      "Accuracy score: 0.9970090424298632\n",
      "After adjusting for threshold -\n",
      "Precision score: 0.6226415094339622, Recall score: 0.2323943661971831, F1 score: 0.3384615384615385\n"
     ]
    }
   ],
   "source": [
    "model_score(model, threshold, X_val_FE4, y_val)"
   ]
  },
  {
   "cell_type": "code",
   "execution_count": 35,
   "id": "74cfcf32",
   "metadata": {},
   "outputs": [
    {
     "name": "stdout",
     "output_type": "stream",
     "text": [
      "[[42968    20]\n",
      " [  109    33]]\n"
     ]
    },
    {
     "data": {
      "image/png": "[encoded data removed]",
      "text/plain": [
       "<Figure size 432x288 with 2 Axes>"
      ]
     },
     "metadata": {
      "needs_background": "light"
     },
     "output_type": "display_data"
    }
   ],
   "source": [
    "model_confusion_matrix(model, threshold, X_val_FE4, y_val)"
   ]
  },
  {
   "cell_type": "markdown",
   "id": "b120c084",
   "metadata": {},
   "source": [
    "## Try 5: Fit adding Medium Features"
   ]
  },
  {
   "cell_type": "code",
   "execution_count": 36,
   "id": "790a060d",
   "metadata": {},
   "outputs": [],
   "source": [
    "# Choose the Department & Object Name & Artist Role features\n",
    "X_train_FE5 = X_train[['department_drawings_and_prints',\n",
    "       'department_european_paintings', 'department_modern_and_cont_art',\n",
    "       'department_photographs', 'department_robert_lehman',\n",
    "       'department_libraries', 'other_obj_name', 'obj_name_painting',\n",
    "       'obj_name_photo', 'obj_name_print', 'obj_name_sculpture',\n",
    "       'obj_name_watercolor', 'artist_role_author', 'artist_role_other',\n",
    "       'artist_role_publisher', 'artist_nationality_bgdns',\n",
    "       'artist_nationality_french', 'artist_nationality_italian',\n",
    "       'artist_nationality_Other Nationality', 'medium_gelatin_silver_print',\n",
    "       'medium_illustrated_book', 'medium_marble', 'medium_oil_on_canvas',\n",
    "       'medium_oil_on_wood', 'medium_other']]\n",
    "X_val_FE5 = X_val[['department_drawings_and_prints',\n",
    "       'department_european_paintings', 'department_modern_and_cont_art',\n",
    "       'department_photographs', 'department_robert_lehman',\n",
    "       'department_libraries', 'other_obj_name', 'obj_name_painting',\n",
    "       'obj_name_photo', 'obj_name_print', 'obj_name_sculpture',\n",
    "       'obj_name_watercolor', 'artist_role_author', 'artist_role_other',\n",
    "       'artist_role_publisher', 'artist_nationality_bgdns',\n",
    "       'artist_nationality_french', 'artist_nationality_italian',\n",
    "       'artist_nationality_Other Nationality', 'medium_gelatin_silver_print',\n",
    "       'medium_illustrated_book', 'medium_marble', 'medium_oil_on_canvas',\n",
    "       'medium_oil_on_wood', 'medium_other']]\n",
    "feature_group.append(\"Medium added\")"
   ]
  },
  {
   "cell_type": "code",
   "execution_count": 37,
   "id": "7671378f",
   "metadata": {},
   "outputs": [
    {
     "name": "stdout",
     "output_type": "stream",
     "text": [
      "ROC AUC score =  0.9353974101448489\n"
     ]
    },
    {
     "data": {
      "image/png": "[encoded data removed]",
      "text/plain": [
       "<Figure size 432x288 with 2 Axes>"
      ]
     },
     "metadata": {
      "needs_background": "light"
     },
     "output_type": "display_data"
    }
   ],
   "source": [
    "model = build_visualize(X_train_FE5, y_train)"
   ]
  },
  {
   "cell_type": "code",
   "execution_count": 38,
   "id": "9b3a0fc3",
   "metadata": {},
   "outputs": [
    {
     "name": "stdout",
     "output_type": "stream",
     "text": [
      "Logistic Regression best Precision score 0.667 at Prob Decision Threshold >= 0.4872\n"
     ]
    }
   ],
   "source": [
    "threshold = threshold_for_imbalance(model, X_train_FE5, y_train)"
   ]
  },
  {
   "cell_type": "code",
   "execution_count": 39,
   "id": "6755bc24",
   "metadata": {},
   "outputs": [
    {
     "name": "stdout",
     "output_type": "stream",
     "text": [
      "Accuracy score: 0.997171342453049\n",
      "After adjusting for threshold -\n",
      "Precision score: 0.717391304347826, Recall score: 0.2323943661971831, F1 score: 0.35106382978723405\n"
     ]
    }
   ],
   "source": [
    "model_score(model, threshold, X_val_FE5, y_val)"
   ]
  },
  {
   "cell_type": "code",
   "execution_count": 40,
   "id": "626f7ae1",
   "metadata": {},
   "outputs": [
    {
     "name": "stdout",
     "output_type": "stream",
     "text": [
      "[[42975    13]\n",
      " [  109    33]]\n"
     ]
    },
    {
     "data": {
      "image/png": "[encoded data removed]",
      "text/plain": [
       "<Figure size 432x288 with 2 Axes>"
      ]
     },
     "metadata": {
      "needs_background": "light"
     },
     "output_type": "display_data"
    }
   ],
   "source": [
    "model_confusion_matrix(model, threshold, X_val_FE5, y_val)"
   ]
  },
  {
   "cell_type": "markdown",
   "id": "569e1243",
   "metadata": {},
   "source": [
    "## Try 6: Fit adding Class Features"
   ]
  },
  {
   "cell_type": "code",
   "execution_count": 41,
   "id": "1af97bb7",
   "metadata": {},
   "outputs": [],
   "source": [
    "# Choose the Department & Object Name & Artist Role features\n",
    "X_train_FE6 = X_train[['department_drawings_and_prints',\n",
    "       'department_european_paintings', 'department_modern_and_cont_art',\n",
    "       'department_photographs', 'department_robert_lehman',\n",
    "       'department_libraries', 'other_obj_name', 'obj_name_painting',\n",
    "       'obj_name_photo', 'obj_name_print', 'obj_name_sculpture',\n",
    "       'obj_name_watercolor', 'artist_role_author', 'artist_role_other',\n",
    "       'artist_role_publisher', 'artist_nationality_bgdns',\n",
    "       'artist_nationality_french', 'artist_nationality_italian',\n",
    "       'artist_nationality_Other Nationality', 'medium_gelatin_silver_print',\n",
    "       'medium_illustrated_book', 'medium_marble', 'medium_oil_on_canvas',\n",
    "       'medium_oil_on_wood', 'medium_other', 'class_other', 'class_paintings',\n",
    "       'class_photographs', 'class_prints', 'class_sculpture']]\n",
    "X_val_FE6 = X_val[['department_drawings_and_prints',\n",
    "       'department_european_paintings', 'department_modern_and_cont_art',\n",
    "       'department_photographs', 'department_robert_lehman',\n",
    "       'department_libraries', 'other_obj_name', 'obj_name_painting',\n",
    "       'obj_name_photo', 'obj_name_print', 'obj_name_sculpture',\n",
    "       'obj_name_watercolor', 'artist_role_author', 'artist_role_other',\n",
    "       'artist_role_publisher', 'artist_nationality_bgdns',\n",
    "       'artist_nationality_french', 'artist_nationality_italian',\n",
    "       'artist_nationality_Other Nationality', 'medium_gelatin_silver_print',\n",
    "       'medium_illustrated_book', 'medium_marble', 'medium_oil_on_canvas',\n",
    "       'medium_oil_on_wood', 'medium_other', 'class_other', 'class_paintings',\n",
    "       'class_photographs', 'class_prints', 'class_sculpture']]\n",
    "feature_group.append(\"Classification added\")"
   ]
  },
  {
   "cell_type": "code",
   "execution_count": 42,
   "id": "e7ddb4c1",
   "metadata": {},
   "outputs": [
    {
     "name": "stdout",
     "output_type": "stream",
     "text": [
      "ROC AUC score =  0.9354742595766646\n"
     ]
    },
    {
     "data": {
      "image/png": "[encoded data removed]",
      "text/plain": [
       "<Figure size 432x288 with 2 Axes>"
      ]
     },
     "metadata": {
      "needs_background": "light"
     },
     "output_type": "display_data"
    }
   ],
   "source": [
    "model = build_visualize(X_train_FE6, y_train)"
   ]
  },
  {
   "cell_type": "code",
   "execution_count": 43,
   "id": "fa51ecc0",
   "metadata": {},
   "outputs": [
    {
     "name": "stdout",
     "output_type": "stream",
     "text": [
      "Logistic Regression best Precision score 0.654 at Prob Decision Threshold >= 0.4812\n"
     ]
    }
   ],
   "source": [
    "threshold = threshold_for_imbalance(model, X_train_FE6, y_train)"
   ]
  },
  {
   "cell_type": "code",
   "execution_count": 44,
   "id": "14c64d58",
   "metadata": {},
   "outputs": [
    {
     "name": "stdout",
     "output_type": "stream",
     "text": [
      "Accuracy score: 0.9971017853002551\n",
      "After adjusting for threshold -\n",
      "Precision score: 0.673469387755102, Recall score: 0.2323943661971831, F1 score: 0.34554973821989526\n"
     ]
    }
   ],
   "source": [
    "model_score(model, threshold, X_val_FE6, y_val)"
   ]
  },
  {
   "cell_type": "code",
   "execution_count": 45,
   "id": "96ae41b2",
   "metadata": {},
   "outputs": [
    {
     "name": "stdout",
     "output_type": "stream",
     "text": [
      "[[42972    16]\n",
      " [  109    33]]\n"
     ]
    },
    {
     "data": {
      "image/png": "[encoded data removed]",
      "text/plain": [
       "<Figure size 432x288 with 2 Axes>"
      ]
     },
     "metadata": {
      "needs_background": "light"
     },
     "output_type": "display_data"
    }
   ],
   "source": [
    "model_confusion_matrix(model, threshold, X_val_FE6, y_val)"
   ]
  },
  {
   "cell_type": "markdown",
   "id": "4981635e",
   "metadata": {},
   "source": [
    "## Try 7: Fit adding Object Year Feature"
   ]
  },
  {
   "cell_type": "code",
   "execution_count": 46,
   "id": "f45d1d6a",
   "metadata": {},
   "outputs": [],
   "source": [
    "# Choose the Department & Object Name & Artist Role features\n",
    "X_train_FE7 = X_train[['obj_year', 'department_drawings_and_prints',\n",
    "       'department_european_paintings', 'department_modern_and_cont_art',\n",
    "       'department_photographs', 'department_robert_lehman',\n",
    "       'department_libraries', 'other_obj_name', 'obj_name_painting',\n",
    "       'obj_name_photo', 'obj_name_print', 'obj_name_sculpture',\n",
    "       'obj_name_watercolor', 'artist_role_author', 'artist_role_other',\n",
    "       'artist_role_publisher', 'artist_nationality_bgdns',\n",
    "       'artist_nationality_french', 'artist_nationality_italian',\n",
    "       'artist_nationality_Other Nationality', 'medium_gelatin_silver_print',\n",
    "       'medium_illustrated_book', 'medium_marble', 'medium_oil_on_canvas',\n",
    "       'medium_oil_on_wood', 'medium_other', 'class_other', 'class_paintings',\n",
    "       'class_photographs', 'class_prints', 'class_sculpture']]\n",
    "X_val_FE7 = X_val[['obj_year', 'department_drawings_and_prints',\n",
    "       'department_european_paintings', 'department_modern_and_cont_art',\n",
    "       'department_photographs', 'department_robert_lehman',\n",
    "       'department_libraries', 'other_obj_name', 'obj_name_painting',\n",
    "       'obj_name_photo', 'obj_name_print', 'obj_name_sculpture',\n",
    "       'obj_name_watercolor', 'artist_role_author', 'artist_role_other',\n",
    "       'artist_role_publisher', 'artist_nationality_bgdns',\n",
    "       'artist_nationality_french', 'artist_nationality_italian',\n",
    "       'artist_nationality_Other Nationality', 'medium_gelatin_silver_print',\n",
    "       'medium_illustrated_book', 'medium_marble', 'medium_oil_on_canvas',\n",
    "       'medium_oil_on_wood', 'medium_other', 'class_other', 'class_paintings',\n",
    "       'class_photographs', 'class_prints', 'class_sculpture']]\n",
    "feature_group.append(\"Object Year added\")"
   ]
  },
  {
   "cell_type": "code",
   "execution_count": 47,
   "id": "f1453715",
   "metadata": {},
   "outputs": [
    {
     "name": "stdout",
     "output_type": "stream",
     "text": [
      "ROC AUC score =  0.9395617738275894\n"
     ]
    },
    {
     "data": {
      "image/png": "[encoded data removed]",
      "text/plain": [
       "<Figure size 432x288 with 2 Axes>"
      ]
     },
     "metadata": {
      "needs_background": "light"
     },
     "output_type": "display_data"
    }
   ],
   "source": [
    "model = build_visualize(X_train_FE7, y_train)"
   ]
  },
  {
   "cell_type": "code",
   "execution_count": 48,
   "id": "1d76e653",
   "metadata": {},
   "outputs": [
    {
     "name": "stdout",
     "output_type": "stream",
     "text": [
      "Logistic Regression best Precision score 0.636 at Prob Decision Threshold >= 0.4956\n"
     ]
    }
   ],
   "source": [
    "threshold = threshold_for_imbalance(model, X_train_FE7, y_train)"
   ]
  },
  {
   "cell_type": "code",
   "execution_count": 49,
   "id": "646d430b",
   "metadata": {},
   "outputs": [
    {
     "name": "stdout",
     "output_type": "stream",
     "text": [
      "Accuracy score: 0.9970322281474612\n",
      "After adjusting for threshold -\n",
      "Precision score: 0.6346153846153846, Recall score: 0.2323943661971831, F1 score: 0.34020618556701027\n"
     ]
    }
   ],
   "source": [
    "model_score(model, threshold, X_val_FE7, y_val)"
   ]
  },
  {
   "cell_type": "code",
   "execution_count": 50,
   "id": "293895e8",
   "metadata": {},
   "outputs": [
    {
     "name": "stdout",
     "output_type": "stream",
     "text": [
      "[[42969    19]\n",
      " [  109    33]]\n"
     ]
    },
    {
     "data": {
      "image/png": "[encoded data removed]",
      "text/plain": [
       "<Figure size 432x288 with 2 Axes>"
      ]
     },
     "metadata": {
      "needs_background": "light"
     },
     "output_type": "display_data"
    }
   ],
   "source": [
    "model_confusion_matrix(model, threshold, X_val_FE7, y_val)"
   ]
  },
  {
   "cell_type": "markdown",
   "id": "a219f8fb",
   "metadata": {},
   "source": [
    "## Try 8: Get Some Polynomial Features"
   ]
  },
  {
   "cell_type": "code",
   "execution_count": 51,
   "id": "ad01de30",
   "metadata": {},
   "outputs": [],
   "source": [
    "X_train_FE8 = X_train_FE7.copy()\n",
    "X_val_FE8 = X_val_FE7.copy()\n",
    "feature_group.append(\"Polynomial added \")"
   ]
  },
  {
   "cell_type": "code",
   "execution_count": 52,
   "id": "7f39f8a1",
   "metadata": {},
   "outputs": [
    {
     "data": {
      "text/plain": [
       "(129389, 1)"
      ]
     },
     "execution_count": 52,
     "metadata": {},
     "output_type": "execute_result"
    }
   ],
   "source": [
    "obj_year_array = X_train_FE8.obj_year.values.reshape(-1, 1)\n",
    "obj_year_array.shape"
   ]
  },
  {
   "cell_type": "code",
   "execution_count": 53,
   "id": "856234cc",
   "metadata": {
    "scrolled": true
   },
   "outputs": [
    {
     "data": {
      "text/plain": [
       "(129389, 4)"
      ]
     },
     "execution_count": 53,
     "metadata": {},
     "output_type": "execute_result"
    }
   ],
   "source": [
    "poly = PolynomialFeatures(3)\n",
    "new_features = poly.fit_transform(obj_year_array)\n",
    "new_features.shape "
   ]
  },
  {
   "cell_type": "code",
   "execution_count": 54,
   "id": "5425c268",
   "metadata": {},
   "outputs": [
    {
     "name": "stdout",
     "output_type": "stream",
     "text": [
      "['1', 'x0', 'x0^2', 'x0^3']\n"
     ]
    }
   ],
   "source": [
    "new_feature_names = poly.get_feature_names()\n",
    "print(new_feature_names)"
   ]
  },
  {
   "cell_type": "code",
   "execution_count": 55,
   "id": "7b4f0abd",
   "metadata": {
    "scrolled": true
   },
   "outputs": [
    {
     "data": {
      "text/html": [
       "<div>\n",
       "<style scoped>\n",
       "    .dataframe tbody tr th:only-of-type {\n",
       "        vertical-align: middle;\n",
       "    }\n",
       "\n",
       "    .dataframe tbody tr th {\n",
       "        vertical-align: top;\n",
       "    }\n",
       "\n",
       "    .dataframe thead th {\n",
       "        text-align: right;\n",
       "    }\n",
       "</style>\n",
       "<table border=\"1\" class=\"dataframe\">\n",
       "  <thead>\n",
       "    <tr style=\"text-align: right;\">\n",
       "      <th></th>\n",
       "      <th>1</th>\n",
       "      <th>x0</th>\n",
       "      <th>x0^2</th>\n",
       "      <th>x0^3</th>\n",
       "    </tr>\n",
       "  </thead>\n",
       "  <tbody>\n",
       "    <tr>\n",
       "      <th>0</th>\n",
       "      <td>1.0</td>\n",
       "      <td>-2.726368</td>\n",
       "      <td>7.433083</td>\n",
       "      <td>-20.265321</td>\n",
       "    </tr>\n",
       "    <tr>\n",
       "      <th>1</th>\n",
       "      <td>1.0</td>\n",
       "      <td>0.511317</td>\n",
       "      <td>0.261445</td>\n",
       "      <td>0.133681</td>\n",
       "    </tr>\n",
       "    <tr>\n",
       "      <th>2</th>\n",
       "      <td>1.0</td>\n",
       "      <td>0.494567</td>\n",
       "      <td>0.244596</td>\n",
       "      <td>0.120969</td>\n",
       "    </tr>\n",
       "    <tr>\n",
       "      <th>3</th>\n",
       "      <td>1.0</td>\n",
       "      <td>0.502942</td>\n",
       "      <td>0.252950</td>\n",
       "      <td>0.127219</td>\n",
       "    </tr>\n",
       "    <tr>\n",
       "      <th>4</th>\n",
       "      <td>1.0</td>\n",
       "      <td>0.437619</td>\n",
       "      <td>0.191510</td>\n",
       "      <td>0.083808</td>\n",
       "    </tr>\n",
       "    <tr>\n",
       "      <th>...</th>\n",
       "      <td>...</td>\n",
       "      <td>...</td>\n",
       "      <td>...</td>\n",
       "      <td>...</td>\n",
       "    </tr>\n",
       "    <tr>\n",
       "      <th>129384</th>\n",
       "      <td>1.0</td>\n",
       "      <td>0.514666</td>\n",
       "      <td>0.264882</td>\n",
       "      <td>0.136326</td>\n",
       "    </tr>\n",
       "    <tr>\n",
       "      <th>129385</th>\n",
       "      <td>1.0</td>\n",
       "      <td>0.544816</td>\n",
       "      <td>0.296824</td>\n",
       "      <td>0.161714</td>\n",
       "    </tr>\n",
       "    <tr>\n",
       "      <th>129386</th>\n",
       "      <td>1.0</td>\n",
       "      <td>-0.063192</td>\n",
       "      <td>0.003993</td>\n",
       "      <td>-0.000252</td>\n",
       "    </tr>\n",
       "    <tr>\n",
       "      <th>129387</th>\n",
       "      <td>1.0</td>\n",
       "      <td>0.494567</td>\n",
       "      <td>0.244596</td>\n",
       "      <td>0.120969</td>\n",
       "    </tr>\n",
       "    <tr>\n",
       "      <th>129388</th>\n",
       "      <td>1.0</td>\n",
       "      <td>0.271798</td>\n",
       "      <td>0.073874</td>\n",
       "      <td>0.020079</td>\n",
       "    </tr>\n",
       "  </tbody>\n",
       "</table>\n",
       "<p>129389 rows × 4 columns</p>\n",
       "</div>"
      ],
      "text/plain": [
       "          1        x0      x0^2       x0^3\n",
       "0       1.0 -2.726368  7.433083 -20.265321\n",
       "1       1.0  0.511317  0.261445   0.133681\n",
       "2       1.0  0.494567  0.244596   0.120969\n",
       "3       1.0  0.502942  0.252950   0.127219\n",
       "4       1.0  0.437619  0.191510   0.083808\n",
       "...     ...       ...       ...        ...\n",
       "129384  1.0  0.514666  0.264882   0.136326\n",
       "129385  1.0  0.544816  0.296824   0.161714\n",
       "129386  1.0 -0.063192  0.003993  -0.000252\n",
       "129387  1.0  0.494567  0.244596   0.120969\n",
       "129388  1.0  0.271798  0.073874   0.020079\n",
       "\n",
       "[129389 rows x 4 columns]"
      ]
     },
     "execution_count": 55,
     "metadata": {},
     "output_type": "execute_result"
    }
   ],
   "source": [
    "new_features_df = pd.DataFrame(new_features, columns = new_feature_names)\n",
    "new_features_df"
   ]
  },
  {
   "cell_type": "code",
   "execution_count": 56,
   "id": "e1f49e8b",
   "metadata": {},
   "outputs": [
    {
     "name": "stdout",
     "output_type": "stream",
     "text": [
      "(129389, 4)\n",
      "(129389, 31)\n"
     ]
    }
   ],
   "source": [
    "print(new_features_df.shape)\n",
    "print(X_train_FE8.shape)"
   ]
  },
  {
   "cell_type": "code",
   "execution_count": 57,
   "id": "4c1b0728",
   "metadata": {
    "scrolled": true
   },
   "outputs": [
    {
     "name": "stdout",
     "output_type": "stream",
     "text": [
      "(129389, 35)\n"
     ]
    },
    {
     "data": {
      "text/html": [
       "<div>\n",
       "<style scoped>\n",
       "    .dataframe tbody tr th:only-of-type {\n",
       "        vertical-align: middle;\n",
       "    }\n",
       "\n",
       "    .dataframe tbody tr th {\n",
       "        vertical-align: top;\n",
       "    }\n",
       "\n",
       "    .dataframe thead th {\n",
       "        text-align: right;\n",
       "    }\n",
       "</style>\n",
       "<table border=\"1\" class=\"dataframe\">\n",
       "  <thead>\n",
       "    <tr style=\"text-align: right;\">\n",
       "      <th></th>\n",
       "      <th>obj_year</th>\n",
       "      <th>department_drawings_and_prints</th>\n",
       "      <th>department_european_paintings</th>\n",
       "      <th>department_modern_and_cont_art</th>\n",
       "      <th>department_photographs</th>\n",
       "      <th>department_robert_lehman</th>\n",
       "      <th>department_libraries</th>\n",
       "      <th>other_obj_name</th>\n",
       "      <th>obj_name_painting</th>\n",
       "      <th>obj_name_photo</th>\n",
       "      <th>...</th>\n",
       "      <th>medium_other</th>\n",
       "      <th>class_other</th>\n",
       "      <th>class_paintings</th>\n",
       "      <th>class_photographs</th>\n",
       "      <th>class_prints</th>\n",
       "      <th>class_sculpture</th>\n",
       "      <th>1</th>\n",
       "      <th>x0</th>\n",
       "      <th>x0^2</th>\n",
       "      <th>x0^3</th>\n",
       "    </tr>\n",
       "  </thead>\n",
       "  <tbody>\n",
       "    <tr>\n",
       "      <th>0</th>\n",
       "      <td>-2.726368</td>\n",
       "      <td>0</td>\n",
       "      <td>0</td>\n",
       "      <td>0</td>\n",
       "      <td>1</td>\n",
       "      <td>0</td>\n",
       "      <td>0</td>\n",
       "      <td>0</td>\n",
       "      <td>0</td>\n",
       "      <td>1</td>\n",
       "      <td>...</td>\n",
       "      <td>1</td>\n",
       "      <td>0</td>\n",
       "      <td>0</td>\n",
       "      <td>1</td>\n",
       "      <td>0</td>\n",
       "      <td>0</td>\n",
       "      <td>1.0</td>\n",
       "      <td>-2.726368</td>\n",
       "      <td>7.433083</td>\n",
       "      <td>-20.265321</td>\n",
       "    </tr>\n",
       "    <tr>\n",
       "      <th>1</th>\n",
       "      <td>0.511317</td>\n",
       "      <td>1</td>\n",
       "      <td>0</td>\n",
       "      <td>0</td>\n",
       "      <td>0</td>\n",
       "      <td>0</td>\n",
       "      <td>0</td>\n",
       "      <td>0</td>\n",
       "      <td>0</td>\n",
       "      <td>0</td>\n",
       "      <td>...</td>\n",
       "      <td>1</td>\n",
       "      <td>1</td>\n",
       "      <td>0</td>\n",
       "      <td>0</td>\n",
       "      <td>0</td>\n",
       "      <td>0</td>\n",
       "      <td>1.0</td>\n",
       "      <td>0.511317</td>\n",
       "      <td>0.261445</td>\n",
       "      <td>0.133681</td>\n",
       "    </tr>\n",
       "    <tr>\n",
       "      <th>2</th>\n",
       "      <td>0.494567</td>\n",
       "      <td>0</td>\n",
       "      <td>0</td>\n",
       "      <td>1</td>\n",
       "      <td>0</td>\n",
       "      <td>0</td>\n",
       "      <td>0</td>\n",
       "      <td>0</td>\n",
       "      <td>1</td>\n",
       "      <td>0</td>\n",
       "      <td>...</td>\n",
       "      <td>0</td>\n",
       "      <td>0</td>\n",
       "      <td>1</td>\n",
       "      <td>0</td>\n",
       "      <td>0</td>\n",
       "      <td>0</td>\n",
       "      <td>1.0</td>\n",
       "      <td>0.494567</td>\n",
       "      <td>0.244596</td>\n",
       "      <td>0.120969</td>\n",
       "    </tr>\n",
       "    <tr>\n",
       "      <th>3</th>\n",
       "      <td>0.502942</td>\n",
       "      <td>0</td>\n",
       "      <td>0</td>\n",
       "      <td>0</td>\n",
       "      <td>1</td>\n",
       "      <td>0</td>\n",
       "      <td>0</td>\n",
       "      <td>0</td>\n",
       "      <td>0</td>\n",
       "      <td>1</td>\n",
       "      <td>...</td>\n",
       "      <td>0</td>\n",
       "      <td>0</td>\n",
       "      <td>0</td>\n",
       "      <td>1</td>\n",
       "      <td>0</td>\n",
       "      <td>0</td>\n",
       "      <td>1.0</td>\n",
       "      <td>0.502942</td>\n",
       "      <td>0.252950</td>\n",
       "      <td>0.127219</td>\n",
       "    </tr>\n",
       "    <tr>\n",
       "      <th>4</th>\n",
       "      <td>0.437619</td>\n",
       "      <td>1</td>\n",
       "      <td>0</td>\n",
       "      <td>0</td>\n",
       "      <td>0</td>\n",
       "      <td>0</td>\n",
       "      <td>0</td>\n",
       "      <td>0</td>\n",
       "      <td>0</td>\n",
       "      <td>1</td>\n",
       "      <td>...</td>\n",
       "      <td>1</td>\n",
       "      <td>1</td>\n",
       "      <td>0</td>\n",
       "      <td>0</td>\n",
       "      <td>0</td>\n",
       "      <td>0</td>\n",
       "      <td>1.0</td>\n",
       "      <td>0.437619</td>\n",
       "      <td>0.191510</td>\n",
       "      <td>0.083808</td>\n",
       "    </tr>\n",
       "    <tr>\n",
       "      <th>...</th>\n",
       "      <td>...</td>\n",
       "      <td>...</td>\n",
       "      <td>...</td>\n",
       "      <td>...</td>\n",
       "      <td>...</td>\n",
       "      <td>...</td>\n",
       "      <td>...</td>\n",
       "      <td>...</td>\n",
       "      <td>...</td>\n",
       "      <td>...</td>\n",
       "      <td>...</td>\n",
       "      <td>...</td>\n",
       "      <td>...</td>\n",
       "      <td>...</td>\n",
       "      <td>...</td>\n",
       "      <td>...</td>\n",
       "      <td>...</td>\n",
       "      <td>...</td>\n",
       "      <td>...</td>\n",
       "      <td>...</td>\n",
       "      <td>...</td>\n",
       "    </tr>\n",
       "    <tr>\n",
       "      <th>129384</th>\n",
       "      <td>0.514666</td>\n",
       "      <td>1</td>\n",
       "      <td>0</td>\n",
       "      <td>0</td>\n",
       "      <td>0</td>\n",
       "      <td>0</td>\n",
       "      <td>0</td>\n",
       "      <td>1</td>\n",
       "      <td>0</td>\n",
       "      <td>0</td>\n",
       "      <td>...</td>\n",
       "      <td>1</td>\n",
       "      <td>1</td>\n",
       "      <td>0</td>\n",
       "      <td>0</td>\n",
       "      <td>0</td>\n",
       "      <td>0</td>\n",
       "      <td>1.0</td>\n",
       "      <td>0.514666</td>\n",
       "      <td>0.264882</td>\n",
       "      <td>0.136326</td>\n",
       "    </tr>\n",
       "    <tr>\n",
       "      <th>129385</th>\n",
       "      <td>0.544816</td>\n",
       "      <td>1</td>\n",
       "      <td>0</td>\n",
       "      <td>0</td>\n",
       "      <td>0</td>\n",
       "      <td>0</td>\n",
       "      <td>0</td>\n",
       "      <td>1</td>\n",
       "      <td>0</td>\n",
       "      <td>0</td>\n",
       "      <td>...</td>\n",
       "      <td>1</td>\n",
       "      <td>1</td>\n",
       "      <td>0</td>\n",
       "      <td>0</td>\n",
       "      <td>0</td>\n",
       "      <td>0</td>\n",
       "      <td>1.0</td>\n",
       "      <td>0.544816</td>\n",
       "      <td>0.296824</td>\n",
       "      <td>0.161714</td>\n",
       "    </tr>\n",
       "    <tr>\n",
       "      <th>129386</th>\n",
       "      <td>-0.063192</td>\n",
       "      <td>1</td>\n",
       "      <td>0</td>\n",
       "      <td>0</td>\n",
       "      <td>0</td>\n",
       "      <td>0</td>\n",
       "      <td>0</td>\n",
       "      <td>0</td>\n",
       "      <td>0</td>\n",
       "      <td>0</td>\n",
       "      <td>...</td>\n",
       "      <td>1</td>\n",
       "      <td>0</td>\n",
       "      <td>0</td>\n",
       "      <td>0</td>\n",
       "      <td>1</td>\n",
       "      <td>0</td>\n",
       "      <td>1.0</td>\n",
       "      <td>-0.063192</td>\n",
       "      <td>0.003993</td>\n",
       "      <td>-0.000252</td>\n",
       "    </tr>\n",
       "    <tr>\n",
       "      <th>129387</th>\n",
       "      <td>0.494567</td>\n",
       "      <td>0</td>\n",
       "      <td>0</td>\n",
       "      <td>0</td>\n",
       "      <td>1</td>\n",
       "      <td>0</td>\n",
       "      <td>0</td>\n",
       "      <td>0</td>\n",
       "      <td>0</td>\n",
       "      <td>1</td>\n",
       "      <td>...</td>\n",
       "      <td>0</td>\n",
       "      <td>0</td>\n",
       "      <td>0</td>\n",
       "      <td>1</td>\n",
       "      <td>0</td>\n",
       "      <td>0</td>\n",
       "      <td>1.0</td>\n",
       "      <td>0.494567</td>\n",
       "      <td>0.244596</td>\n",
       "      <td>0.120969</td>\n",
       "    </tr>\n",
       "    <tr>\n",
       "      <th>129388</th>\n",
       "      <td>0.271798</td>\n",
       "      <td>1</td>\n",
       "      <td>0</td>\n",
       "      <td>0</td>\n",
       "      <td>0</td>\n",
       "      <td>0</td>\n",
       "      <td>0</td>\n",
       "      <td>0</td>\n",
       "      <td>0</td>\n",
       "      <td>0</td>\n",
       "      <td>...</td>\n",
       "      <td>1</td>\n",
       "      <td>0</td>\n",
       "      <td>0</td>\n",
       "      <td>0</td>\n",
       "      <td>1</td>\n",
       "      <td>0</td>\n",
       "      <td>1.0</td>\n",
       "      <td>0.271798</td>\n",
       "      <td>0.073874</td>\n",
       "      <td>0.020079</td>\n",
       "    </tr>\n",
       "  </tbody>\n",
       "</table>\n",
       "<p>129389 rows × 35 columns</p>\n",
       "</div>"
      ],
      "text/plain": [
       "        obj_year  department_drawings_and_prints  \\\n",
       "0      -2.726368                               0   \n",
       "1       0.511317                               1   \n",
       "2       0.494567                               0   \n",
       "3       0.502942                               0   \n",
       "4       0.437619                               1   \n",
       "...          ...                             ...   \n",
       "129384  0.514666                               1   \n",
       "129385  0.544816                               1   \n",
       "129386 -0.063192                               1   \n",
       "129387  0.494567                               0   \n",
       "129388  0.271798                               1   \n",
       "\n",
       "        department_european_paintings  department_modern_and_cont_art  \\\n",
       "0                                   0                               0   \n",
       "1                                   0                               0   \n",
       "2                                   0                               1   \n",
       "3                                   0                               0   \n",
       "4                                   0                               0   \n",
       "...                               ...                             ...   \n",
       "129384                              0                               0   \n",
       "129385                              0                               0   \n",
       "129386                              0                               0   \n",
       "129387                              0                               0   \n",
       "129388                              0                               0   \n",
       "\n",
       "        department_photographs  department_robert_lehman  \\\n",
       "0                            1                         0   \n",
       "1                            0                         0   \n",
       "2                            0                         0   \n",
       "3                            1                         0   \n",
       "4                            0                         0   \n",
       "...                        ...                       ...   \n",
       "129384                       0                         0   \n",
       "129385                       0                         0   \n",
       "129386                       0                         0   \n",
       "129387                       1                         0   \n",
       "129388                       0                         0   \n",
       "\n",
       "        department_libraries  other_obj_name  obj_name_painting  \\\n",
       "0                          0               0                  0   \n",
       "1                          0               0                  0   \n",
       "2                          0               0                  1   \n",
       "3                          0               0                  0   \n",
       "4                          0               0                  0   \n",
       "...                      ...             ...                ...   \n",
       "129384                     0               1                  0   \n",
       "129385                     0               1                  0   \n",
       "129386                     0               0                  0   \n",
       "129387                     0               0                  0   \n",
       "129388                     0               0                  0   \n",
       "\n",
       "        obj_name_photo  ...  medium_other  class_other  class_paintings  \\\n",
       "0                    1  ...             1            0                0   \n",
       "1                    0  ...             1            1                0   \n",
       "2                    0  ...             0            0                1   \n",
       "3                    1  ...             0            0                0   \n",
       "4                    1  ...             1            1                0   \n",
       "...                ...  ...           ...          ...              ...   \n",
       "129384               0  ...             1            1                0   \n",
       "129385               0  ...             1            1                0   \n",
       "129386               0  ...             1            0                0   \n",
       "129387               1  ...             0            0                0   \n",
       "129388               0  ...             1            0                0   \n",
       "\n",
       "        class_photographs  class_prints  class_sculpture    1        x0  \\\n",
       "0                       1             0                0  1.0 -2.726368   \n",
       "1                       0             0                0  1.0  0.511317   \n",
       "2                       0             0                0  1.0  0.494567   \n",
       "3                       1             0                0  1.0  0.502942   \n",
       "4                       0             0                0  1.0  0.437619   \n",
       "...                   ...           ...              ...  ...       ...   \n",
       "129384                  0             0                0  1.0  0.514666   \n",
       "129385                  0             0                0  1.0  0.544816   \n",
       "129386                  0             1                0  1.0 -0.063192   \n",
       "129387                  1             0                0  1.0  0.494567   \n",
       "129388                  0             1                0  1.0  0.271798   \n",
       "\n",
       "            x0^2       x0^3  \n",
       "0       7.433083 -20.265321  \n",
       "1       0.261445   0.133681  \n",
       "2       0.244596   0.120969  \n",
       "3       0.252950   0.127219  \n",
       "4       0.191510   0.083808  \n",
       "...          ...        ...  \n",
       "129384  0.264882   0.136326  \n",
       "129385  0.296824   0.161714  \n",
       "129386  0.003993  -0.000252  \n",
       "129387  0.244596   0.120969  \n",
       "129388  0.073874   0.020079  \n",
       "\n",
       "[129389 rows x 35 columns]"
      ]
     },
     "execution_count": 57,
     "metadata": {},
     "output_type": "execute_result"
    }
   ],
   "source": [
    "new_features_df.reset_index(drop=True, inplace=True)\n",
    "X_train_FE8.reset_index(drop=True, inplace=True)\n",
    "\n",
    "X_train_FE8 = pd.concat([X_train_FE8, new_features_df], axis=1)\n",
    "print(X_train_FE8.shape)\n",
    "X_train_FE8"
   ]
  },
  {
   "cell_type": "markdown",
   "id": "803b5eb6",
   "metadata": {},
   "source": [
    "Let's do the same operation for the Validation set "
   ]
  },
  {
   "cell_type": "code",
   "execution_count": 58,
   "id": "ff371f61",
   "metadata": {
    "scrolled": true
   },
   "outputs": [
    {
     "data": {
      "text/html": [
       "<div>\n",
       "<style scoped>\n",
       "    .dataframe tbody tr th:only-of-type {\n",
       "        vertical-align: middle;\n",
       "    }\n",
       "\n",
       "    .dataframe tbody tr th {\n",
       "        vertical-align: top;\n",
       "    }\n",
       "\n",
       "    .dataframe thead th {\n",
       "        text-align: right;\n",
       "    }\n",
       "</style>\n",
       "<table border=\"1\" class=\"dataframe\">\n",
       "  <thead>\n",
       "    <tr style=\"text-align: right;\">\n",
       "      <th></th>\n",
       "      <th>obj_year</th>\n",
       "      <th>department_drawings_and_prints</th>\n",
       "      <th>department_european_paintings</th>\n",
       "      <th>department_modern_and_cont_art</th>\n",
       "      <th>department_photographs</th>\n",
       "      <th>department_robert_lehman</th>\n",
       "      <th>department_libraries</th>\n",
       "      <th>other_obj_name</th>\n",
       "      <th>obj_name_painting</th>\n",
       "      <th>obj_name_photo</th>\n",
       "      <th>...</th>\n",
       "      <th>medium_other</th>\n",
       "      <th>class_other</th>\n",
       "      <th>class_paintings</th>\n",
       "      <th>class_photographs</th>\n",
       "      <th>class_prints</th>\n",
       "      <th>class_sculpture</th>\n",
       "      <th>1</th>\n",
       "      <th>x0</th>\n",
       "      <th>x0^2</th>\n",
       "      <th>x0^3</th>\n",
       "    </tr>\n",
       "  </thead>\n",
       "  <tbody>\n",
       "    <tr>\n",
       "      <th>0</th>\n",
       "      <td>-2.726368</td>\n",
       "      <td>0</td>\n",
       "      <td>0</td>\n",
       "      <td>0</td>\n",
       "      <td>1</td>\n",
       "      <td>0</td>\n",
       "      <td>0</td>\n",
       "      <td>1</td>\n",
       "      <td>0</td>\n",
       "      <td>0</td>\n",
       "      <td>...</td>\n",
       "      <td>1</td>\n",
       "      <td>0</td>\n",
       "      <td>0</td>\n",
       "      <td>1</td>\n",
       "      <td>0</td>\n",
       "      <td>0</td>\n",
       "      <td>1.0</td>\n",
       "      <td>-2.726368</td>\n",
       "      <td>7.433083</td>\n",
       "      <td>-20.265321</td>\n",
       "    </tr>\n",
       "    <tr>\n",
       "      <th>1</th>\n",
       "      <td>-0.066542</td>\n",
       "      <td>1</td>\n",
       "      <td>0</td>\n",
       "      <td>0</td>\n",
       "      <td>0</td>\n",
       "      <td>0</td>\n",
       "      <td>0</td>\n",
       "      <td>0</td>\n",
       "      <td>0</td>\n",
       "      <td>0</td>\n",
       "      <td>...</td>\n",
       "      <td>1</td>\n",
       "      <td>0</td>\n",
       "      <td>0</td>\n",
       "      <td>0</td>\n",
       "      <td>1</td>\n",
       "      <td>0</td>\n",
       "      <td>1.0</td>\n",
       "      <td>-0.066542</td>\n",
       "      <td>0.004428</td>\n",
       "      <td>-0.000295</td>\n",
       "    </tr>\n",
       "    <tr>\n",
       "      <th>2</th>\n",
       "      <td>-2.726368</td>\n",
       "      <td>0</td>\n",
       "      <td>0</td>\n",
       "      <td>1</td>\n",
       "      <td>0</td>\n",
       "      <td>0</td>\n",
       "      <td>0</td>\n",
       "      <td>1</td>\n",
       "      <td>0</td>\n",
       "      <td>0</td>\n",
       "      <td>...</td>\n",
       "      <td>1</td>\n",
       "      <td>1</td>\n",
       "      <td>0</td>\n",
       "      <td>0</td>\n",
       "      <td>0</td>\n",
       "      <td>0</td>\n",
       "      <td>1.0</td>\n",
       "      <td>-2.726368</td>\n",
       "      <td>7.433083</td>\n",
       "      <td>-20.265321</td>\n",
       "    </tr>\n",
       "    <tr>\n",
       "      <th>3</th>\n",
       "      <td>0.526391</td>\n",
       "      <td>0</td>\n",
       "      <td>0</td>\n",
       "      <td>1</td>\n",
       "      <td>0</td>\n",
       "      <td>0</td>\n",
       "      <td>0</td>\n",
       "      <td>0</td>\n",
       "      <td>0</td>\n",
       "      <td>0</td>\n",
       "      <td>...</td>\n",
       "      <td>1</td>\n",
       "      <td>0</td>\n",
       "      <td>0</td>\n",
       "      <td>0</td>\n",
       "      <td>0</td>\n",
       "      <td>0</td>\n",
       "      <td>1.0</td>\n",
       "      <td>0.526391</td>\n",
       "      <td>0.277088</td>\n",
       "      <td>0.145856</td>\n",
       "    </tr>\n",
       "    <tr>\n",
       "      <th>4</th>\n",
       "      <td>-0.289311</td>\n",
       "      <td>0</td>\n",
       "      <td>0</td>\n",
       "      <td>0</td>\n",
       "      <td>0</td>\n",
       "      <td>1</td>\n",
       "      <td>0</td>\n",
       "      <td>0</td>\n",
       "      <td>1</td>\n",
       "      <td>0</td>\n",
       "      <td>...</td>\n",
       "      <td>1</td>\n",
       "      <td>0</td>\n",
       "      <td>1</td>\n",
       "      <td>0</td>\n",
       "      <td>0</td>\n",
       "      <td>0</td>\n",
       "      <td>1.0</td>\n",
       "      <td>-0.289311</td>\n",
       "      <td>0.083701</td>\n",
       "      <td>-0.024216</td>\n",
       "    </tr>\n",
       "    <tr>\n",
       "      <th>...</th>\n",
       "      <td>...</td>\n",
       "      <td>...</td>\n",
       "      <td>...</td>\n",
       "      <td>...</td>\n",
       "      <td>...</td>\n",
       "      <td>...</td>\n",
       "      <td>...</td>\n",
       "      <td>...</td>\n",
       "      <td>...</td>\n",
       "      <td>...</td>\n",
       "      <td>...</td>\n",
       "      <td>...</td>\n",
       "      <td>...</td>\n",
       "      <td>...</td>\n",
       "      <td>...</td>\n",
       "      <td>...</td>\n",
       "      <td>...</td>\n",
       "      <td>...</td>\n",
       "      <td>...</td>\n",
       "      <td>...</td>\n",
       "      <td>...</td>\n",
       "    </tr>\n",
       "    <tr>\n",
       "      <th>43125</th>\n",
       "      <td>-2.726368</td>\n",
       "      <td>0</td>\n",
       "      <td>0</td>\n",
       "      <td>0</td>\n",
       "      <td>1</td>\n",
       "      <td>0</td>\n",
       "      <td>0</td>\n",
       "      <td>0</td>\n",
       "      <td>0</td>\n",
       "      <td>1</td>\n",
       "      <td>...</td>\n",
       "      <td>1</td>\n",
       "      <td>0</td>\n",
       "      <td>0</td>\n",
       "      <td>1</td>\n",
       "      <td>0</td>\n",
       "      <td>0</td>\n",
       "      <td>1.0</td>\n",
       "      <td>-2.726368</td>\n",
       "      <td>7.433083</td>\n",
       "      <td>-20.265321</td>\n",
       "    </tr>\n",
       "    <tr>\n",
       "      <th>43126</th>\n",
       "      <td>0.472793</td>\n",
       "      <td>1</td>\n",
       "      <td>0</td>\n",
       "      <td>0</td>\n",
       "      <td>0</td>\n",
       "      <td>0</td>\n",
       "      <td>0</td>\n",
       "      <td>1</td>\n",
       "      <td>0</td>\n",
       "      <td>0</td>\n",
       "      <td>...</td>\n",
       "      <td>1</td>\n",
       "      <td>1</td>\n",
       "      <td>0</td>\n",
       "      <td>0</td>\n",
       "      <td>0</td>\n",
       "      <td>0</td>\n",
       "      <td>1.0</td>\n",
       "      <td>0.472793</td>\n",
       "      <td>0.223533</td>\n",
       "      <td>0.105685</td>\n",
       "    </tr>\n",
       "    <tr>\n",
       "      <th>43127</th>\n",
       "      <td>0.514666</td>\n",
       "      <td>0</td>\n",
       "      <td>0</td>\n",
       "      <td>1</td>\n",
       "      <td>0</td>\n",
       "      <td>0</td>\n",
       "      <td>0</td>\n",
       "      <td>1</td>\n",
       "      <td>0</td>\n",
       "      <td>0</td>\n",
       "      <td>...</td>\n",
       "      <td>1</td>\n",
       "      <td>1</td>\n",
       "      <td>0</td>\n",
       "      <td>0</td>\n",
       "      <td>0</td>\n",
       "      <td>0</td>\n",
       "      <td>1.0</td>\n",
       "      <td>0.514666</td>\n",
       "      <td>0.264882</td>\n",
       "      <td>0.136326</td>\n",
       "    </tr>\n",
       "    <tr>\n",
       "      <th>43128</th>\n",
       "      <td>0.288548</td>\n",
       "      <td>1</td>\n",
       "      <td>0</td>\n",
       "      <td>0</td>\n",
       "      <td>0</td>\n",
       "      <td>0</td>\n",
       "      <td>0</td>\n",
       "      <td>0</td>\n",
       "      <td>0</td>\n",
       "      <td>0</td>\n",
       "      <td>...</td>\n",
       "      <td>1</td>\n",
       "      <td>0</td>\n",
       "      <td>0</td>\n",
       "      <td>0</td>\n",
       "      <td>1</td>\n",
       "      <td>0</td>\n",
       "      <td>1.0</td>\n",
       "      <td>0.288548</td>\n",
       "      <td>0.083260</td>\n",
       "      <td>0.024024</td>\n",
       "    </tr>\n",
       "    <tr>\n",
       "      <th>43129</th>\n",
       "      <td>0.456043</td>\n",
       "      <td>1</td>\n",
       "      <td>0</td>\n",
       "      <td>0</td>\n",
       "      <td>0</td>\n",
       "      <td>0</td>\n",
       "      <td>0</td>\n",
       "      <td>0</td>\n",
       "      <td>0</td>\n",
       "      <td>0</td>\n",
       "      <td>...</td>\n",
       "      <td>1</td>\n",
       "      <td>0</td>\n",
       "      <td>0</td>\n",
       "      <td>0</td>\n",
       "      <td>1</td>\n",
       "      <td>0</td>\n",
       "      <td>1.0</td>\n",
       "      <td>0.456043</td>\n",
       "      <td>0.207975</td>\n",
       "      <td>0.094846</td>\n",
       "    </tr>\n",
       "  </tbody>\n",
       "</table>\n",
       "<p>43130 rows × 35 columns</p>\n",
       "</div>"
      ],
      "text/plain": [
       "       obj_year  department_drawings_and_prints  \\\n",
       "0     -2.726368                               0   \n",
       "1     -0.066542                               1   \n",
       "2     -2.726368                               0   \n",
       "3      0.526391                               0   \n",
       "4     -0.289311                               0   \n",
       "...         ...                             ...   \n",
       "43125 -2.726368                               0   \n",
       "43126  0.472793                               1   \n",
       "43127  0.514666                               0   \n",
       "43128  0.288548                               1   \n",
       "43129  0.456043                               1   \n",
       "\n",
       "       department_european_paintings  department_modern_and_cont_art  \\\n",
       "0                                  0                               0   \n",
       "1                                  0                               0   \n",
       "2                                  0                               1   \n",
       "3                                  0                               1   \n",
       "4                                  0                               0   \n",
       "...                              ...                             ...   \n",
       "43125                              0                               0   \n",
       "43126                              0                               0   \n",
       "43127                              0                               1   \n",
       "43128                              0                               0   \n",
       "43129                              0                               0   \n",
       "\n",
       "       department_photographs  department_robert_lehman  department_libraries  \\\n",
       "0                           1                         0                     0   \n",
       "1                           0                         0                     0   \n",
       "2                           0                         0                     0   \n",
       "3                           0                         0                     0   \n",
       "4                           0                         1                     0   \n",
       "...                       ...                       ...                   ...   \n",
       "43125                       1                         0                     0   \n",
       "43126                       0                         0                     0   \n",
       "43127                       0                         0                     0   \n",
       "43128                       0                         0                     0   \n",
       "43129                       0                         0                     0   \n",
       "\n",
       "       other_obj_name  obj_name_painting  obj_name_photo  ...  medium_other  \\\n",
       "0                   1                  0               0  ...             1   \n",
       "1                   0                  0               0  ...             1   \n",
       "2                   1                  0               0  ...             1   \n",
       "3                   0                  0               0  ...             1   \n",
       "4                   0                  1               0  ...             1   \n",
       "...               ...                ...             ...  ...           ...   \n",
       "43125               0                  0               1  ...             1   \n",
       "43126               1                  0               0  ...             1   \n",
       "43127               1                  0               0  ...             1   \n",
       "43128               0                  0               0  ...             1   \n",
       "43129               0                  0               0  ...             1   \n",
       "\n",
       "       class_other  class_paintings  class_photographs  class_prints  \\\n",
       "0                0                0                  1             0   \n",
       "1                0                0                  0             1   \n",
       "2                1                0                  0             0   \n",
       "3                0                0                  0             0   \n",
       "4                0                1                  0             0   \n",
       "...            ...              ...                ...           ...   \n",
       "43125            0                0                  1             0   \n",
       "43126            1                0                  0             0   \n",
       "43127            1                0                  0             0   \n",
       "43128            0                0                  0             1   \n",
       "43129            0                0                  0             1   \n",
       "\n",
       "       class_sculpture    1        x0      x0^2       x0^3  \n",
       "0                    0  1.0 -2.726368  7.433083 -20.265321  \n",
       "1                    0  1.0 -0.066542  0.004428  -0.000295  \n",
       "2                    0  1.0 -2.726368  7.433083 -20.265321  \n",
       "3                    0  1.0  0.526391  0.277088   0.145856  \n",
       "4                    0  1.0 -0.289311  0.083701  -0.024216  \n",
       "...                ...  ...       ...       ...        ...  \n",
       "43125                0  1.0 -2.726368  7.433083 -20.265321  \n",
       "43126                0  1.0  0.472793  0.223533   0.105685  \n",
       "43127                0  1.0  0.514666  0.264882   0.136326  \n",
       "43128                0  1.0  0.288548  0.083260   0.024024  \n",
       "43129                0  1.0  0.456043  0.207975   0.094846  \n",
       "\n",
       "[43130 rows x 35 columns]"
      ]
     },
     "execution_count": 58,
     "metadata": {},
     "output_type": "execute_result"
    }
   ],
   "source": [
    "obj_year_array_val = X_val_FE8.obj_year.values.reshape(-1, 1)\n",
    "\n",
    "poly_val = PolynomialFeatures(3)\n",
    "new_features_val = poly_val.fit_transform(obj_year_array_val)\n",
    "new_feature_names_val = poly_val.get_feature_names()\n",
    "\n",
    "new_features_df_val = pd.DataFrame(new_features_val, columns = new_feature_names_val)\n",
    "new_features_df_val.reset_index(drop=True, inplace=True)\n",
    "X_val_FE8.reset_index(drop=True, inplace=True)\n",
    "\n",
    "X_val_FE8 = pd.concat([X_val_FE8, new_features_df_val], axis=1)\n",
    "X_val_FE8"
   ]
  },
  {
   "cell_type": "markdown",
   "id": "5f51c2fa",
   "metadata": {},
   "source": [
    "Alright, now onto fitting the model & plotting/scoring"
   ]
  },
  {
   "cell_type": "code",
   "execution_count": 59,
   "id": "4059489d",
   "metadata": {},
   "outputs": [
    {
     "name": "stdout",
     "output_type": "stream",
     "text": [
      "ROC AUC score =  0.941723054226331\n"
     ]
    },
    {
     "data": {
      "image/png": "[encoded data removed]",
      "text/plain": [
       "<Figure size 432x288 with 2 Axes>"
      ]
     },
     "metadata": {
      "needs_background": "light"
     },
     "output_type": "display_data"
    }
   ],
   "source": [
    "model = build_visualize(X_train_FE8, y_train)"
   ]
  },
  {
   "cell_type": "code",
   "execution_count": 60,
   "id": "09acc7b6",
   "metadata": {},
   "outputs": [
    {
     "name": "stdout",
     "output_type": "stream",
     "text": [
      "Logistic Regression best Precision score 0.667 at Prob Decision Threshold >= 0.4992\n"
     ]
    }
   ],
   "source": [
    "threshold = threshold_for_imbalance(model, X_train_FE8, y_train)"
   ]
  },
  {
   "cell_type": "code",
   "execution_count": 61,
   "id": "2ec33163",
   "metadata": {},
   "outputs": [
    {
     "name": "stdout",
     "output_type": "stream",
     "text": [
      "Accuracy score: 0.9970785995826571\n",
      "After adjusting for threshold -\n",
      "Precision score: 0.6379310344827587, Recall score: 0.2605633802816901, F1 score: 0.37\n"
     ]
    }
   ],
   "source": [
    "model_score(model, threshold, X_val_FE8, y_val)"
   ]
  },
  {
   "cell_type": "code",
   "execution_count": 62,
   "id": "aec14dd1",
   "metadata": {},
   "outputs": [
    {
     "name": "stdout",
     "output_type": "stream",
     "text": [
      "[[42967    21]\n",
      " [  105    37]]\n"
     ]
    },
    {
     "data": {
      "image/png": "[encoded data removed]",
      "text/plain": [
       "<Figure size 432x288 with 2 Axes>"
      ]
     },
     "metadata": {
      "needs_background": "light"
     },
     "output_type": "display_data"
    }
   ],
   "source": [
    "model_confusion_matrix(model, threshold, X_val_FE8, y_val)"
   ]
  },
  {
   "cell_type": "markdown",
   "id": "79f682b7",
   "metadata": {},
   "source": [
    "## See scores over Feature Addition"
   ]
  },
  {
   "cell_type": "code",
   "execution_count": 63,
   "id": "b6eded1b",
   "metadata": {},
   "outputs": [
    {
     "name": "stdout",
     "output_type": "stream",
     "text": [
      "After addition of Feature Group 0: Precision score is 1.0.\n",
      "After addition of Feature Group 1: Precision score is 1.0.\n",
      "After addition of Feature Group 2: Precision score is 1.0.\n",
      "After addition of Feature Group 3: Precision score is 0.6226415094339622.\n",
      "After addition of Feature Group 4: Precision score is 0.717391304347826.\n",
      "After addition of Feature Group 5: Precision score is 0.673469387755102.\n",
      "After addition of Feature Group 6: Precision score is 0.6346153846153846.\n",
      "After addition of Feature Group 7: Precision score is 0.6379310344827587.\n",
      "\n",
      "\n",
      "After addition of Feature Group Department added: Accuracy score is 0.9973336424762347.\n",
      "After addition of Feature Group Object Name added: Accuracy score is 0.9973336424762347.\n",
      "After addition of Feature Group Artist Role added: Accuracy score is 0.9973336424762347.\n",
      "After addition of Feature Group Artist Nationality added: Accuracy score is 0.9970090424298632.\n",
      "After addition of Feature Group Medium added: Accuracy score is 0.997171342453049.\n",
      "After addition of Feature Group Classification added: Accuracy score is 0.9971017853002551.\n",
      "After addition of Feature Group Object Year added: Accuracy score is 0.9970322281474612.\n",
      "After addition of Feature Group Polynomial added : Accuracy score is 0.9970785995826571.\n",
      "\n",
      "\n",
      "After addition of Feature Group 0: F1 score is 0.31952662721893493.\n",
      "After addition of Feature Group 1: F1 score is 0.31952662721893493.\n",
      "After addition of Feature Group 2: F1 score is 0.31952662721893493.\n",
      "After addition of Feature Group 3: F1 score is 0.3384615384615385.\n",
      "After addition of Feature Group 4: F1 score is 0.35106382978723405.\n",
      "After addition of Feature Group 5: F1 score is 0.34554973821989526.\n",
      "After addition of Feature Group 6: F1 score is 0.34020618556701027.\n",
      "After addition of Feature Group 7: F1 score is 0.37.\n",
      "\n",
      "\n",
      "After addition of Feature Group 0: Recall score is 0.19014084507042253.\n",
      "After addition of Feature Group 1: Recall score is 0.19014084507042253.\n",
      "After addition of Feature Group 2: Recall score is 0.19014084507042253.\n",
      "After addition of Feature Group 3: Recall score is 0.2323943661971831.\n",
      "After addition of Feature Group 4: Recall score is 0.2323943661971831.\n",
      "After addition of Feature Group 5: Recall score is 0.2323943661971831.\n",
      "After addition of Feature Group 6: Recall score is 0.2323943661971831.\n",
      "After addition of Feature Group 7: Recall score is 0.2605633802816901.\n",
      "\n",
      "\n",
      "After addition of Feature Group 0: FP Numbers are 0.\n",
      "After addition of Feature Group 1: FP Numbers are 0.\n",
      "After addition of Feature Group 2: FP Numbers are 0.\n",
      "After addition of Feature Group 3: FP Numbers are 20.\n",
      "After addition of Feature Group 4: FP Numbers are 13.\n",
      "After addition of Feature Group 5: FP Numbers are 16.\n",
      "After addition of Feature Group 6: FP Numbers are 19.\n",
      "After addition of Feature Group 7: FP Numbers are 21.\n",
      "\n",
      "\n",
      "After addition of Feature Group 0: TP Numbers are 27.\n",
      "After addition of Feature Group 1: TP Numbers are 27.\n",
      "After addition of Feature Group 2: TP Numbers are 27.\n",
      "After addition of Feature Group 3: TP Numbers are 33.\n",
      "After addition of Feature Group 4: TP Numbers are 33.\n",
      "After addition of Feature Group 5: TP Numbers are 33.\n",
      "After addition of Feature Group 6: TP Numbers are 33.\n",
      "After addition of Feature Group 7: TP Numbers are 37.\n"
     ]
    }
   ],
   "source": [
    "for i in range(8): \n",
    "    print(f'After addition of Feature Group {i}: Precision score is {precision_scores[i]}.')\n",
    "print('\\n')\n",
    "for i in range(8): \n",
    "    print(f'After addition of Feature Group {feature_group[i]}: Accuracy score is {accuracy_scores[i]}.')\n",
    "print('\\n')\n",
    "for i in range(8): \n",
    "    print(f'After addition of Feature Group {i}: F1 score is {f1_scores[i]}.')\n",
    "print('\\n')    \n",
    "for i in range(8): \n",
    "    print(f'After addition of Feature Group {i}: Recall score is {recall_scores[i]}.')\n",
    "print('\\n')\n",
    "for i in range(8): \n",
    "    print(f'After addition of Feature Group {i}: FP Numbers are {fp_num[i]}.')\n",
    "print('\\n')    \n",
    "for i in range(8): \n",
    "    print(f'After addition of Feature Group {i}: TP Numbers are {tp_num[i]}.')\n"
   ]
  },
  {
   "cell_type": "markdown",
   "id": "38030320",
   "metadata": {},
   "source": [
    "**Plot Scores after each group addition**"
   ]
  },
  {
   "cell_type": "code",
   "execution_count": 64,
   "id": "984c62ac",
   "metadata": {
    "scrolled": true
   },
   "outputs": [
    {
     "name": "stderr",
     "output_type": "stream",
     "text": [
      "/opt/anaconda3/lib/python3.8/site-packages/seaborn/_decorators.py:36: FutureWarning: Pass the following variables as keyword args: x, y. From version 0.12, the only valid positional argument will be `data`, and passing other arguments without an explicit keyword will result in an error or misinterpretation.\n",
      "  warnings.warn(\n"
     ]
    },
    {
     "data": {
      "image/png": "[encoded data removed]",
      "text/plain": [
       "<Figure size 600x400 with 1 Axes>"
      ]
     },
     "metadata": {
      "needs_background": "light"
     },
     "output_type": "display_data"
    }
   ],
   "source": [
    "plt.figure(dpi=100)\n",
    "g = sns.barplot(feature_group, tp_num)\n",
    "g.set_xticklabels(g.get_xticklabels(), rotation=90)\n",
    "g.set_title('TP numbers by feature addition')\n",
    "g.figure.savefig(\"TP numbers by feature addition\", bbox_inches='tight')"
   ]
  },
  {
   "cell_type": "code",
   "execution_count": 65,
   "id": "0af277f8",
   "metadata": {},
   "outputs": [
    {
     "name": "stderr",
     "output_type": "stream",
     "text": [
      "/opt/anaconda3/lib/python3.8/site-packages/seaborn/_decorators.py:36: FutureWarning: Pass the following variables as keyword args: x, y. From version 0.12, the only valid positional argument will be `data`, and passing other arguments without an explicit keyword will result in an error or misinterpretation.\n",
      "  warnings.warn(\n"
     ]
    },
    {
     "data": {
      "image/png": "[encoded data removed]",
      "text/plain": [
       "<Figure size 600x400 with 1 Axes>"
      ]
     },
     "metadata": {
      "needs_background": "light"
     },
     "output_type": "display_data"
    }
   ],
   "source": [
    "plt.figure(dpi=100)\n",
    "g = sns.barplot(feature_group, fp_num)\n",
    "g.set_xticklabels(g.get_xticklabels(), rotation=90)\n",
    "g.set_title('FP numbers by each feature addition')\n",
    "g.figure.savefig(\"FP numbers by each feature addition\", bbox_inches='tight')"
   ]
  },
  {
   "cell_type": "code",
   "execution_count": 66,
   "id": "a0aa3e1c",
   "metadata": {},
   "outputs": [
    {
     "name": "stderr",
     "output_type": "stream",
     "text": [
      "/opt/anaconda3/lib/python3.8/site-packages/seaborn/_decorators.py:36: FutureWarning: Pass the following variables as keyword args: x, y. From version 0.12, the only valid positional argument will be `data`, and passing other arguments without an explicit keyword will result in an error or misinterpretation.\n",
      "  warnings.warn(\n"
     ]
    },
    {
     "data": {
      "image/png": "[encoded data removed]",
      "text/plain": [
       "<Figure size 600x400 with 1 Axes>"
      ]
     },
     "metadata": {
      "needs_background": "light"
     },
     "output_type": "display_data"
    }
   ],
   "source": [
    "plt.figure(dpi=100)\n",
    "g = sns.barplot(feature_group, precision_scores)\n",
    "g.set_xticklabels(g.get_xticklabels(), rotation=90)\n",
    "g.set_title('Precision scores by each feature addition')\n",
    "g.figure.savefig(\"Precision scores by each feature addition\", bbox_inches='tight')\n"
   ]
  },
  {
   "cell_type": "code",
   "execution_count": 67,
   "id": "bc3931cd",
   "metadata": {},
   "outputs": [
    {
     "name": "stderr",
     "output_type": "stream",
     "text": [
      "/opt/anaconda3/lib/python3.8/site-packages/seaborn/_decorators.py:36: FutureWarning: Pass the following variables as keyword args: x, y. From version 0.12, the only valid positional argument will be `data`, and passing other arguments without an explicit keyword will result in an error or misinterpretation.\n",
      "  warnings.warn(\n"
     ]
    },
    {
     "data": {
      "image/png": "[encoded data removed]",
      "text/plain": [
       "<Figure size 600x400 with 1 Axes>"
      ]
     },
     "metadata": {
      "needs_background": "light"
     },
     "output_type": "display_data"
    }
   ],
   "source": [
    "plt.figure(dpi=100)\n",
    "g = sns.barplot(feature_group, f1_scores)\n",
    "g.set_xticklabels(g.get_xticklabels(), rotation=90)\n",
    "g.set_title('F1 scores by feature addition')\n",
    "g.figure.savefig(\"F1 scores by feature addition\", bbox_inches='tight')\n"
   ]
  },
  {
   "cell_type": "code",
   "execution_count": 68,
   "id": "53d9d7b4",
   "metadata": {},
   "outputs": [
    {
     "name": "stdout",
     "output_type": "stream",
     "text": [
      "Stored 'data' (float64)\n"
     ]
    }
   ],
   "source": [
    "data = threshold\n",
    "%store data\n",
    "del data"
   ]
  },
  {
   "cell_type": "markdown",
   "id": "af47303b",
   "metadata": {},
   "source": [
    "# Part 2: Class Imbalance Fixing"
   ]
  },
  {
   "cell_type": "markdown",
   "id": "0d745a67",
   "metadata": {},
   "source": [
    "**Now let's see about best class weight for during model training** "
   ]
  },
  {
   "cell_type": "code",
   "execution_count": 93,
   "id": "87dec89f",
   "metadata": {},
   "outputs": [
    {
     "data": {
      "text/plain": [
       "0.4991991991991992"
      ]
     },
     "execution_count": 93,
     "metadata": {},
     "output_type": "execute_result"
    }
   ],
   "source": [
    "threshold"
   ]
  },
  {
   "cell_type": "code",
   "execution_count": 145,
   "id": "8b42ec8f",
   "metadata": {
    "scrolled": true
   },
   "outputs": [
    {
     "data": {
      "text/plain": [
       "LogisticRegression(C=100, class_weight='balanced', max_iter=500000,\n",
       "                   solver='liblinear')"
      ]
     },
     "execution_count": 145,
     "metadata": {},
     "output_type": "execute_result"
    }
   ],
   "source": [
    "lr_balanced = LogisticRegression(class_weight='balanced', solver='liblinear', C=100, max_iter=500000)\n",
    "lr_balanced.fit(X_train_FE8, y_train)"
   ]
  },
  {
   "cell_type": "code",
   "execution_count": 146,
   "id": "5e3cfc26",
   "metadata": {},
   "outputs": [
    {
     "name": "stdout",
     "output_type": "stream",
     "text": [
      "[ True  True  True ...  True  True  True]\n",
      "0.0032923718989102714\n",
      "0.006563135514882604\n"
     ]
    }
   ],
   "source": [
    "y_predict_weight = (lr_balanced.predict_proba(X_val_FE8)[:,1]).astype(bool)\n",
    "print(y_predict_weight)\n",
    "prec_balanced = precision_score(y_val, y_predict_weight)\n",
    "f1_balanaced = f1_score(y_val, y_predict_weight)\n",
    "print(prec_balanced)\n",
    "print(f1_balanaced)"
   ]
  },
  {
   "cell_type": "code",
   "execution_count": 147,
   "id": "8b43630f",
   "metadata": {},
   "outputs": [],
   "source": [
    "weight_prec_scores = []\n",
    "weight_f1_scores = []\n",
    "for i in np.linspace(.10,10,50):\n",
    "    lr_weight = LogisticRegression(class_weight={1 : i, 0 : 1}, solver='liblinear', C=100, max_iter=500000)\n",
    "    lr_weight.fit(X_train_FE8, y_train)\n",
    "    y_predict_weight = (lr_weight.predict_proba(X_val_FE8)[:,1]).astype(bool)\n",
    "    weight_prec_scores.append(precision_score(y_val, y_predict_weight))\n",
    "    weight_f1_scores.append(f1_score(y_val, y_predict_weight))"
   ]
  },
  {
   "cell_type": "code",
   "execution_count": 148,
   "id": "71fc47ca",
   "metadata": {
    "scrolled": false
   },
   "outputs": [
    {
     "name": "stdout",
     "output_type": "stream",
     "text": [
      "[0.0032923718989102714, 0.0032923718989102714, 0.0032923718989102714, 0.0032923718989102714, 0.0032923718989102714, 0.0032923718989102714, 0.0032923718989102714, 0.0032923718989102714, 0.0032923718989102714, 0.0032923718989102714, 0.0032923718989102714, 0.0032923718989102714, 0.0032923718989102714, 0.0032923718989102714, 0.0032923718989102714, 0.0032923718989102714, 0.0032923718989102714, 0.0032923718989102714, 0.0032923718989102714, 0.0032923718989102714, 0.0032923718989102714, 0.0032923718989102714, 0.0032923718989102714, 0.0032923718989102714, 0.0032923718989102714, 0.0032923718989102714, 0.0032923718989102714, 0.0032923718989102714, 0.0032923718989102714, 0.0032923718989102714, 0.0032923718989102714, 0.0032923718989102714, 0.0032923718989102714, 0.0032923718989102714, 0.0032923718989102714, 0.0032923718989102714, 0.0032923718989102714, 0.0032923718989102714, 0.0032923718989102714, 0.0032923718989102714, 0.0032923718989102714, 0.0032923718989102714, 0.0032923718989102714, 0.0032923718989102714, 0.0032923718989102714, 0.0032923718989102714, 0.0032923718989102714, 0.0032923718989102714, 0.0032923718989102714, 0.0032923718989102714]\n",
      "[0.006563135514882604, 0.006563135514882604, 0.006563135514882604, 0.006563135514882604, 0.006563135514882604, 0.006563135514882604, 0.006563135514882604, 0.006563135514882604, 0.006563135514882604, 0.006563135514882604, 0.006563135514882604, 0.006563135514882604, 0.006563135514882604, 0.006563135514882604, 0.006563135514882604, 0.006563135514882604, 0.006563135514882604, 0.006563135514882604, 0.006563135514882604, 0.006563135514882604, 0.006563135514882604, 0.006563135514882604, 0.006563135514882604, 0.006563135514882604, 0.006563135514882604, 0.006563135514882604, 0.006563135514882604, 0.006563135514882604, 0.006563135514882604, 0.006563135514882604, 0.006563135514882604, 0.006563135514882604, 0.006563135514882604, 0.006563135514882604, 0.006563135514882604, 0.006563135514882604, 0.006563135514882604, 0.006563135514882604, 0.006563135514882604, 0.006563135514882604, 0.006563135514882604, 0.006563135514882604, 0.006563135514882604, 0.006563135514882604, 0.006563135514882604, 0.006563135514882604, 0.006563135514882604, 0.006563135514882604, 0.006563135514882604, 0.006563135514882604]\n"
     ]
    }
   ],
   "source": [
    "print(weight_prec_scores)\n",
    "print(weight_f1_scores)"
   ]
  },
  {
   "cell_type": "markdown",
   "id": "69656b8c",
   "metadata": {},
   "source": [
    "Doesn't seem to make too much of a difference, so we'll stick with our 1:4 class weights as we have. "
   ]
  }
 ],
 "metadata": {
  "kernelspec": {
   "display_name": "Python 3 (ipykernel)",
   "language": "python",
   "name": "python3"
  },
  "language_info": {
   "codemirror_mode": {
    "name": "ipython",
    "version": 3
   },
   "file_extension": ".py",
   "mimetype": "text/x-python",
   "name": "python",
   "nbconvert_exporter": "python",
   "pygments_lexer": "ipython3",
   "version": "3.8.5"
  }
 },
 "nbformat": 4,
 "nbformat_minor": 5
}
